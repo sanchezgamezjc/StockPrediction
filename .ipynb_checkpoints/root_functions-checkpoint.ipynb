{
 "cells": [
  {
   "cell_type": "code",
   "execution_count": 1,
   "id": "5eacf167",
   "metadata": {},
   "outputs": [],
   "source": [
    "def add_indicators(dataframe, ema1=200, ema2=50, ema3=20, stoch=14, rsi=14, macd_f=12, macd_sl=26, macd_si=9, cci=14,\n",
    "                   bb_tmpr=5, bb_up=2, bb_dwn=2, atr=14):\n",
    "    \n",
    "    #EMA (200,50,20)\n",
    "    dataframe['200ema'] = dataframe['Adj Close'].ewm(span=ema1).mean()\n",
    "    dataframe['50ema'] = dataframe['Adj Close'].ewm(span=ema2, adjust=False).mean()\n",
    "    dataframe['20ema'] = dataframe['Adj Close'].ewm(span=ema3, adjust=False).mean()\n",
    "\n",
    "    #STOCHASTIC\n",
    "    dataframe['14-high'] = dataframe['High'].rolling(stoch).max()\n",
    "    dataframe['14-low'] = dataframe['Low'].rolling(stoch).min()\n",
    "    dataframe['%K'] = (dataframe['Adj Close'] - dataframe['14-low'])*100/(dataframe['14-high'] - dataframe['14-low'])\n",
    "    dataframe['%D'] = dataframe['%K'].rolling(3).mean()\n",
    "\n",
    "    #RSI (RELATIVE STRENGTH INDEX)\n",
    "    dataframe['RSI'] = pta.rsi(dataframe['Adj Close'], length = rsi)\n",
    "\n",
    "    #MACD (MOVING AVERAGE CONVERGENCE DIVERGENCE)\n",
    "    macd = pta.macd(dataframe['Adj Close'], fastperiod=macd_f, slowperiod=macd_sl, signalperiod=macd_si)\n",
    "    dataframe['MACD'] = macd.iloc[:,0].values\n",
    "    dataframe['MACDh'] = macd.iloc[:,1].values\n",
    "    dataframe['MACDs'] = macd.iloc[:,2].values\n",
    "\n",
    "    #CCI (COMMODITY CHANNEL INDEX)\n",
    "    cci_val = pta.cci(dataframe['High'], dataframe['Low'], dataframe['Adj Close'], timeperiod=cci)\n",
    "    dataframe['CCI'] = cci_val.values\n",
    "\n",
    "    #PSAR (PARABOLIC SAR)\n",
    "    psar = pta.psar(dataframe['High'], dataframe['Low'])\n",
    "    a = pd.concat([psar.iloc[:,0],psar.iloc[:,1]*-1], axis=1)\n",
    "    dataframe['PSAR'] = a.iloc[:,0].fillna(a.iloc[:,1])\n",
    "\n",
    "    #BB (BOLLINGER BANDS)\n",
    "    bbands = pta.bbands(dataframe['Adj Close'], timeperiod=bb_tmpr, nbdevup=bb_up, nbdevdn=bb_dwn, matype=0)\n",
    "    dataframe['BBl'] = bbands.iloc[:,0].values\n",
    "    dataframe['BBm'] = bbands.iloc[:,1].values\n",
    "    dataframe['BBu'] = bbands.iloc[:,2].values\n",
    "    dataframe['BBb'] = bbands.iloc[:,3].values\n",
    "    dataframe['BBp'] = bbands.iloc[:,4].values\n",
    "\n",
    "    #ATR (AVERAGE TRUE RANGE)\n",
    "    atr = pta.atr(dataframe['High'], dataframe['Low'], dataframe['Adj Close'], timeperiod=atr)\n",
    "    dataframe['ATR'] = atr.values"
   ]
  },
  {
   "cell_type": "code",
   "execution_count": null,
   "id": "be58e655",
   "metadata": {},
   "outputs": [],
   "source": []
  }
 ],
 "metadata": {
  "kernelspec": {
   "display_name": "Python 3 (ipykernel)",
   "language": "python",
   "name": "python3"
  },
  "language_info": {
   "codemirror_mode": {
    "name": "ipython",
    "version": 3
   },
   "file_extension": ".py",
   "mimetype": "text/x-python",
   "name": "python",
   "nbconvert_exporter": "python",
   "pygments_lexer": "ipython3",
   "version": "3.8.5"
  }
 },
 "nbformat": 4,
 "nbformat_minor": 5
}
