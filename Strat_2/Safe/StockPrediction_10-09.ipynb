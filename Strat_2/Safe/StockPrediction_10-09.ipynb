{
 "cells": [
  {
   "cell_type": "code",
   "execution_count": 1,
   "id": "5752236b",
   "metadata": {},
   "outputs": [],
   "source": [
    "import pandas as pd\n",
    "import talib\n",
    "\n",
    "\n",
    "import yfinance as yf\n",
    "import datetime as dt\n",
    "import pandas_ta as pta\n",
    "import matplotlib.pyplot as plt\n",
    "import numpy as np\n",
    "from scipy import stats\n",
    "\n",
    "\n",
    "from sklearn.preprocessing import MinMaxScaler\n",
    "from sklearn.model_selection import train_test_split\n",
    "from sklearn.metrics import mean_squared_error\n",
    "\n",
    "from tensorflow.keras import Sequential\n",
    "from tensorflow.keras.layers import Dense, LSTM, Dropout, Conv1D, Conv2D, Flatten, MaxPooling1D, BatchNormalization\n",
    "from tensorflow.keras.optimizers import SGD, Adam\n",
    "from tensorflow.keras.optimizers.schedules import ExponentialDecay"
   ]
  },
  {
   "cell_type": "code",
   "execution_count": 2,
   "id": "843600ba",
   "metadata": {},
   "outputs": [],
   "source": [
    "import sys\n",
    "\n",
    "pth_apple = \"/Users/josesanchez/Desktop/Code/GitHub/StockPrediction/FileBase\"\n",
    "pth_win = \"/Users/Usuario/Desktop/GitHub/StockPrediction/FileBase\"\n",
    "sys.path.append(pth_win)\n",
    "\n",
    "\n",
    "from root_functions import add_indicators, up_down, full_prediction, full_prediction_binary, result, aprox_beneficios"
   ]
  },
  {
   "cell_type": "markdown",
   "id": "ffb2c26a",
   "metadata": {},
   "source": [
    "## Descarga datos y creación dataset"
   ]
  },
  {
   "cell_type": "code",
   "execution_count": 3,
   "id": "1ab7bfea",
   "metadata": {},
   "outputs": [],
   "source": [
    "sample_per = 10000\n",
    "stock = 'EURGBP=X'\n",
    "\n",
    "end = dt.date.today()- dt.timedelta(days=2)\n",
    "start = end - dt.timedelta(days=(sample_per))\n",
    "interval = '1d'"
   ]
  },
  {
   "cell_type": "code",
   "execution_count": 4,
   "id": "90c3e1a3",
   "metadata": {
    "scrolled": false
   },
   "outputs": [
    {
     "name": "stdout",
     "output_type": "stream",
     "text": [
      "[*********************100%***********************]  1 of 1 completed\n"
     ]
    }
   ],
   "source": [
    "database = yf.download(stock, start=start, end=end, interval=interval)"
   ]
  },
  {
   "cell_type": "markdown",
   "id": "dd4f30f6",
   "metadata": {},
   "source": [
    "## Add Indicators"
   ]
  },
  {
   "cell_type": "code",
   "execution_count": 5,
   "id": "116f7d54",
   "metadata": {
    "scrolled": true
   },
   "outputs": [
    {
     "name": "stderr",
     "output_type": "stream",
     "text": [
      "/Users/Usuario/Desktop/GitHub/StockPrediction/FileBase\\root_functions.py:182: PerformanceWarning: DataFrame is highly fragmented.  This is usually the result of calling `frame.insert` many times, which has poor performance.  Consider joining all columns at once using pd.concat(axis=1) instead.  To get a de-fragmented frame, use `newframe = frame.copy()`\n",
      "  dataframe['CDL_UNIQUE3RIVER'] = cdl_pattern.iloc[:,59].values\n",
      "/Users/Usuario/Desktop/GitHub/StockPrediction/FileBase\\root_functions.py:183: PerformanceWarning: DataFrame is highly fragmented.  This is usually the result of calling `frame.insert` many times, which has poor performance.  Consider joining all columns at once using pd.concat(axis=1) instead.  To get a de-fragmented frame, use `newframe = frame.copy()`\n",
      "  dataframe['CDL_UPSIDEGAP2CROWS'] = cdl_pattern.iloc[:,60].values\n",
      "/Users/Usuario/Desktop/GitHub/StockPrediction/FileBase\\root_functions.py:184: PerformanceWarning: DataFrame is highly fragmented.  This is usually the result of calling `frame.insert` many times, which has poor performance.  Consider joining all columns at once using pd.concat(axis=1) instead.  To get a de-fragmented frame, use `newframe = frame.copy()`\n",
      "  dataframe['CDL_XSIDEGAP3METHODS'] = cdl_pattern.iloc[:,61].values\n"
     ]
    },
    {
     "data": {
      "text/plain": [
       "Index(['Open', 'High', 'Low', 'Close', 'Adj Close', 'Volume', '200ema',\n",
       "       '50ema', '20ema', '14-high',\n",
       "       ...\n",
       "       'CDL_STICKSANDWICH', 'CDL_TAKURI', 'CDL_TASUKIGAP', 'CDL_THRUSTING',\n",
       "       'CDL_TRISTAR', 'CDL_UNIQUE3RIVER', 'CDL_UPSIDEGAP2CROWS',\n",
       "       'CDL_XSIDEGAP3METHODS', 'log_ret', 'Up_Down'],\n",
       "      dtype='object', length=109)"
      ]
     },
     "execution_count": 5,
     "metadata": {},
     "output_type": "execute_result"
    }
   ],
   "source": [
    "#Añadimos indicadores\n",
    "\n",
    "ema1=200\n",
    "ema2=50\n",
    "ema3=20\n",
    "\n",
    "data_base = add_indicators(database)\n",
    "\n",
    "#Añadimos columna up_down\n",
    "data_base = up_down(data_base)\n",
    "\n",
    "#Listado indicadores\n",
    "data_base.columns"
   ]
  },
  {
   "cell_type": "code",
   "execution_count": 6,
   "id": "46f2cb8f",
   "metadata": {},
   "outputs": [
    {
     "data": {
      "text/plain": [
       "array(['Open', 'High', 'Low', 'Close', 'Adj Close', 'Volume', '200ema',\n",
       "       '50ema', '20ema', '14-high', '14-low', '%K', '%D', 'RSI', 'MACD',\n",
       "       'MACDh', 'MACDs', 'CCI', 'PSAR', 'BBl', 'BBm', 'BBu', 'BBb', 'BBp',\n",
       "       'ATR', 'ADX', 'ADX_DMP', 'ADX_DMN', 'APO', 'AROON_D', 'AROON_U',\n",
       "       'AROON_OSC', 'BOP', 'CMO', 'MOM', 'PPO', 'PPO_h', 'PPO_s', 'ROC',\n",
       "       'STOCHRSI_k', 'STOCHRSI_d', 'TRIX', 'TRIX_s', 'WILLR', 'NATR',\n",
       "       'CDL_2CROWS', 'CDL_3BLACKCROWS', 'CDL_3INSIDE', 'CDL_3LINESTRIKE',\n",
       "       'CDL_3OUTSIDE', 'CDL_3STARSINSOUTH', 'CDL_3WHITESOLDIERS',\n",
       "       'CDL_ABANDONEDBABY', 'CDL_ADVANCEBLOCK', 'CDL_BELTHOLD',\n",
       "       'CDL_BREAKAWAY', 'CDL_CLOSINGMARUBOZU', 'CDL_CONCEALBABYSWALL',\n",
       "       'CDL_COUNTERATTACK', 'CDL_DARKCLOUDCOVER', 'CDL_DOJI_10_0.1',\n",
       "       'CDL_DOJISTAR', 'CDL_DRAGONFLYDOJI', 'CDL_ENGULFING',\n",
       "       'CDL_EVENINGDOJISTAR', 'CDL_EVENINGSTAR', 'CDL_GAPSIDESIDEWHITE',\n",
       "       'CDL_GRAVESTONEDOJI', 'CDL_HAMMER', 'CDL_HANGINGMAN', 'CDL_HARAMI',\n",
       "       'CDL_HARAMICROSS', 'CDL_HIGHWAVE', 'CDL_HIKKAKE', 'CDL_HIKKAKEMOD',\n",
       "       'CDL_HOMINGPIGEON', 'CDL_IDENTICAL3CROWS', 'CDL_INNECK',\n",
       "       'CDL_INSIDE', 'CDL_INVERTEDHAMMER', 'CDL_KICKING',\n",
       "       'CDL_KICKINGBYLENGTH', 'CDL_LADDERBOTTOM', 'CDL_LONGLEGGEDDOJI',\n",
       "       'CDL_LONGLINE', 'CDL_MARUBOZU', 'CDL_MATCHINGLOW', 'CDL_MATHOLD',\n",
       "       'CDL_MORNINGDOJISTAR', 'CDL_MORNINGSTAR', 'CDL_ONNECK',\n",
       "       'CDL_PIERCING', 'CDL_RICKSHAWMAN', 'CDL_RISEFALL3METHODS',\n",
       "       'CDL_SEPARATINGLINES', 'CDL_SHOOTINGSTAR', 'CDL_SHORTLINE',\n",
       "       'CDL_SPINNINGTOP', 'CDL_STALLEDPATTERN', 'CDL_STICKSANDWICH',\n",
       "       'CDL_TAKURI', 'CDL_TASUKIGAP', 'CDL_THRUSTING', 'CDL_TRISTAR',\n",
       "       'CDL_UNIQUE3RIVER', 'CDL_UPSIDEGAP2CROWS', 'CDL_XSIDEGAP3METHODS',\n",
       "       'log_ret', 'Up_Down'], dtype=object)"
      ]
     },
     "execution_count": 6,
     "metadata": {},
     "output_type": "execute_result"
    }
   ],
   "source": [
    "data_base.columns.values"
   ]
  },
  {
   "cell_type": "code",
   "execution_count": 7,
   "id": "ef44e7a7",
   "metadata": {},
   "outputs": [],
   "source": [
    "#Hacemos un shift a la columna Up_Down para tener el signo de la tendencia de la siguiente vela\n",
    "data_base['Up_Down'] = data_base['Up_Down'].shift(-1)\n",
    "\n",
    "data_base.dropna(inplace=True)"
   ]
  },
  {
   "cell_type": "code",
   "execution_count": 8,
   "id": "3418297c",
   "metadata": {},
   "outputs": [],
   "source": [
    "#Filtramos las columnas que nos interesan para obtener el dataset de trabajo\n",
    "db = data_base.copy()\n",
    "\n",
    "\n",
    "data = db[['Up_Down','log_ret','Open', 'High', 'Low', 'Close', 'Adj Close','Volume', '200ema',\n",
    "       '50ema', '20ema', '14-high', '14-low', '%K', '%D', 'RSI', 'MACD',\n",
    "       'MACDh', 'MACDs', 'CCI', 'PSAR', 'BBl', 'BBm', 'BBu', 'BBb', 'BBp',\n",
    "       'ATR', 'ADX', 'ADX_DMP', 'ADX_DMN', 'APO', 'AROON_D', 'AROON_U',\n",
    "       'AROON_OSC', 'BOP', 'CMO', 'MOM', 'PPO', 'PPO_h', 'PPO_s', 'ROC',\n",
    "       'STOCHRSI_k', 'STOCHRSI_d', 'TRIX', 'TRIX_s', 'WILLR', 'NATR',\n",
    "       'CDL_2CROWS', 'CDL_3BLACKCROWS', 'CDL_3INSIDE', 'CDL_3LINESTRIKE',\n",
    "       'CDL_3OUTSIDE', 'CDL_3STARSINSOUTH', 'CDL_3WHITESOLDIERS',\n",
    "       'CDL_ABANDONEDBABY', 'CDL_ADVANCEBLOCK', 'CDL_BELTHOLD',\n",
    "       'CDL_BREAKAWAY', 'CDL_CLOSINGMARUBOZU', 'CDL_CONCEALBABYSWALL',\n",
    "       'CDL_COUNTERATTACK', 'CDL_DARKCLOUDCOVER', 'CDL_DOJI_10_0.1',\n",
    "       'CDL_DOJISTAR', 'CDL_DRAGONFLYDOJI', 'CDL_ENGULFING',\n",
    "       'CDL_EVENINGDOJISTAR', 'CDL_EVENINGSTAR', 'CDL_GAPSIDESIDEWHITE',\n",
    "       'CDL_GRAVESTONEDOJI', 'CDL_HAMMER', 'CDL_HANGINGMAN', 'CDL_HARAMI',\n",
    "       'CDL_HARAMICROSS', 'CDL_HIGHWAVE', 'CDL_HIKKAKE', 'CDL_HIKKAKEMOD',\n",
    "       'CDL_HOMINGPIGEON', 'CDL_IDENTICAL3CROWS', 'CDL_INNECK',\n",
    "       'CDL_INSIDE', 'CDL_INVERTEDHAMMER', 'CDL_KICKING',\n",
    "       'CDL_KICKINGBYLENGTH', 'CDL_LADDERBOTTOM', 'CDL_LONGLEGGEDDOJI',\n",
    "       'CDL_LONGLINE', 'CDL_MARUBOZU', 'CDL_MATCHINGLOW', 'CDL_MATHOLD',\n",
    "       'CDL_MORNINGDOJISTAR', 'CDL_MORNINGSTAR', 'CDL_ONNECK',\n",
    "       'CDL_PIERCING', 'CDL_RICKSHAWMAN', 'CDL_RISEFALL3METHODS',\n",
    "       'CDL_SEPARATINGLINES', 'CDL_SHOOTINGSTAR', 'CDL_SHORTLINE',\n",
    "       'CDL_SPINNINGTOP', 'CDL_STALLEDPATTERN', 'CDL_STICKSANDWICH',\n",
    "       'CDL_TAKURI', 'CDL_TASUKIGAP', 'CDL_THRUSTING', 'CDL_TRISTAR',\n",
    "       'CDL_UNIQUE3RIVER', 'CDL_UPSIDEGAP2CROWS', 'CDL_XSIDEGAP3METHODS']]\n",
    "\n",
    "\n",
    "cols = data.columns"
   ]
  },
  {
   "cell_type": "markdown",
   "id": "5fe657fa",
   "metadata": {},
   "source": [
    "## Add other pairs"
   ]
  },
  {
   "cell_type": "code",
   "execution_count": 9,
   "id": "900f2498",
   "metadata": {},
   "outputs": [
    {
     "data": {
      "text/html": [
       "<div>\n",
       "<style scoped>\n",
       "    .dataframe tbody tr th:only-of-type {\n",
       "        vertical-align: middle;\n",
       "    }\n",
       "\n",
       "    .dataframe tbody tr th {\n",
       "        vertical-align: top;\n",
       "    }\n",
       "\n",
       "    .dataframe thead th {\n",
       "        text-align: right;\n",
       "    }\n",
       "</style>\n",
       "<table border=\"1\" class=\"dataframe\">\n",
       "  <thead>\n",
       "    <tr style=\"text-align: right;\">\n",
       "      <th></th>\n",
       "      <th>Up_Down</th>\n",
       "      <th>log_ret</th>\n",
       "      <th>Open</th>\n",
       "      <th>High</th>\n",
       "      <th>Low</th>\n",
       "      <th>Close</th>\n",
       "      <th>Adj Close</th>\n",
       "      <th>Volume</th>\n",
       "      <th>200ema</th>\n",
       "      <th>50ema</th>\n",
       "      <th>...</th>\n",
       "      <th>CDL_SPINNINGTOP</th>\n",
       "      <th>CDL_STALLEDPATTERN</th>\n",
       "      <th>CDL_STICKSANDWICH</th>\n",
       "      <th>CDL_TAKURI</th>\n",
       "      <th>CDL_TASUKIGAP</th>\n",
       "      <th>CDL_THRUSTING</th>\n",
       "      <th>CDL_TRISTAR</th>\n",
       "      <th>CDL_UNIQUE3RIVER</th>\n",
       "      <th>CDL_UPSIDEGAP2CROWS</th>\n",
       "      <th>CDL_XSIDEGAP3METHODS</th>\n",
       "    </tr>\n",
       "    <tr>\n",
       "      <th>Date</th>\n",
       "      <th></th>\n",
       "      <th></th>\n",
       "      <th></th>\n",
       "      <th></th>\n",
       "      <th></th>\n",
       "      <th></th>\n",
       "      <th></th>\n",
       "      <th></th>\n",
       "      <th></th>\n",
       "      <th></th>\n",
       "      <th></th>\n",
       "      <th></th>\n",
       "      <th></th>\n",
       "      <th></th>\n",
       "      <th></th>\n",
       "      <th></th>\n",
       "      <th></th>\n",
       "      <th></th>\n",
       "      <th></th>\n",
       "      <th></th>\n",
       "      <th></th>\n",
       "    </tr>\n",
       "  </thead>\n",
       "  <tbody>\n",
       "    <tr>\n",
       "      <th>1999-05-18</th>\n",
       "      <td>1.0</td>\n",
       "      <td>-0.000910</td>\n",
       "      <td>0.65910</td>\n",
       "      <td>0.66070</td>\n",
       "      <td>0.65620</td>\n",
       "      <td>0.65850</td>\n",
       "      <td>0.65850</td>\n",
       "      <td>0</td>\n",
       "      <td>0.673729</td>\n",
       "      <td>0.665763</td>\n",
       "      <td>...</td>\n",
       "      <td>-100.0</td>\n",
       "      <td>0.0</td>\n",
       "      <td>0.0</td>\n",
       "      <td>0.0</td>\n",
       "      <td>0.0</td>\n",
       "      <td>0.0</td>\n",
       "      <td>0.0</td>\n",
       "      <td>0.0</td>\n",
       "      <td>0.0</td>\n",
       "      <td>0.0</td>\n",
       "    </tr>\n",
       "    <tr>\n",
       "      <th>1999-05-19</th>\n",
       "      <td>0.0</td>\n",
       "      <td>0.002733</td>\n",
       "      <td>0.65840</td>\n",
       "      <td>0.66090</td>\n",
       "      <td>0.65580</td>\n",
       "      <td>0.66030</td>\n",
       "      <td>0.66030</td>\n",
       "      <td>0</td>\n",
       "      <td>0.673515</td>\n",
       "      <td>0.665549</td>\n",
       "      <td>...</td>\n",
       "      <td>0.0</td>\n",
       "      <td>0.0</td>\n",
       "      <td>0.0</td>\n",
       "      <td>0.0</td>\n",
       "      <td>0.0</td>\n",
       "      <td>0.0</td>\n",
       "      <td>0.0</td>\n",
       "      <td>0.0</td>\n",
       "      <td>0.0</td>\n",
       "      <td>0.0</td>\n",
       "    </tr>\n",
       "    <tr>\n",
       "      <th>1999-05-20</th>\n",
       "      <td>1.0</td>\n",
       "      <td>-0.000151</td>\n",
       "      <td>0.65980</td>\n",
       "      <td>0.66180</td>\n",
       "      <td>0.65820</td>\n",
       "      <td>0.66020</td>\n",
       "      <td>0.66020</td>\n",
       "      <td>0</td>\n",
       "      <td>0.673304</td>\n",
       "      <td>0.665339</td>\n",
       "      <td>...</td>\n",
       "      <td>100.0</td>\n",
       "      <td>0.0</td>\n",
       "      <td>0.0</td>\n",
       "      <td>0.0</td>\n",
       "      <td>0.0</td>\n",
       "      <td>0.0</td>\n",
       "      <td>0.0</td>\n",
       "      <td>0.0</td>\n",
       "      <td>0.0</td>\n",
       "      <td>0.0</td>\n",
       "    </tr>\n",
       "    <tr>\n",
       "      <th>1999-05-21</th>\n",
       "      <td>1.0</td>\n",
       "      <td>0.001212</td>\n",
       "      <td>0.66000</td>\n",
       "      <td>0.66140</td>\n",
       "      <td>0.65760</td>\n",
       "      <td>0.66100</td>\n",
       "      <td>0.66100</td>\n",
       "      <td>0</td>\n",
       "      <td>0.673110</td>\n",
       "      <td>0.665169</td>\n",
       "      <td>...</td>\n",
       "      <td>0.0</td>\n",
       "      <td>0.0</td>\n",
       "      <td>0.0</td>\n",
       "      <td>0.0</td>\n",
       "      <td>0.0</td>\n",
       "      <td>0.0</td>\n",
       "      <td>0.0</td>\n",
       "      <td>0.0</td>\n",
       "      <td>0.0</td>\n",
       "      <td>0.0</td>\n",
       "    </tr>\n",
       "    <tr>\n",
       "      <th>1999-05-24</th>\n",
       "      <td>0.0</td>\n",
       "      <td>0.003933</td>\n",
       "      <td>0.65990</td>\n",
       "      <td>0.66390</td>\n",
       "      <td>0.65830</td>\n",
       "      <td>0.66360</td>\n",
       "      <td>0.66360</td>\n",
       "      <td>0</td>\n",
       "      <td>0.672961</td>\n",
       "      <td>0.665108</td>\n",
       "      <td>...</td>\n",
       "      <td>0.0</td>\n",
       "      <td>0.0</td>\n",
       "      <td>0.0</td>\n",
       "      <td>0.0</td>\n",
       "      <td>0.0</td>\n",
       "      <td>0.0</td>\n",
       "      <td>0.0</td>\n",
       "      <td>0.0</td>\n",
       "      <td>0.0</td>\n",
       "      <td>0.0</td>\n",
       "    </tr>\n",
       "    <tr>\n",
       "      <th>...</th>\n",
       "      <td>...</td>\n",
       "      <td>...</td>\n",
       "      <td>...</td>\n",
       "      <td>...</td>\n",
       "      <td>...</td>\n",
       "      <td>...</td>\n",
       "      <td>...</td>\n",
       "      <td>...</td>\n",
       "      <td>...</td>\n",
       "      <td>...</td>\n",
       "      <td>...</td>\n",
       "      <td>...</td>\n",
       "      <td>...</td>\n",
       "      <td>...</td>\n",
       "      <td>...</td>\n",
       "      <td>...</td>\n",
       "      <td>...</td>\n",
       "      <td>...</td>\n",
       "      <td>...</td>\n",
       "      <td>...</td>\n",
       "      <td>...</td>\n",
       "    </tr>\n",
       "    <tr>\n",
       "      <th>2021-08-31</th>\n",
       "      <td>1.0</td>\n",
       "      <td>0.000000</td>\n",
       "      <td>0.85736</td>\n",
       "      <td>0.85973</td>\n",
       "      <td>0.85667</td>\n",
       "      <td>0.85720</td>\n",
       "      <td>0.85720</td>\n",
       "      <td>0</td>\n",
       "      <td>0.866807</td>\n",
       "      <td>0.855220</td>\n",
       "      <td>...</td>\n",
       "      <td>0.0</td>\n",
       "      <td>0.0</td>\n",
       "      <td>0.0</td>\n",
       "      <td>0.0</td>\n",
       "      <td>0.0</td>\n",
       "      <td>0.0</td>\n",
       "      <td>0.0</td>\n",
       "      <td>0.0</td>\n",
       "      <td>0.0</td>\n",
       "      <td>0.0</td>\n",
       "    </tr>\n",
       "    <tr>\n",
       "      <th>2021-09-01</th>\n",
       "      <td>1.0</td>\n",
       "      <td>0.001750</td>\n",
       "      <td>0.85863</td>\n",
       "      <td>0.86022</td>\n",
       "      <td>0.85744</td>\n",
       "      <td>0.85870</td>\n",
       "      <td>0.85870</td>\n",
       "      <td>0</td>\n",
       "      <td>0.866726</td>\n",
       "      <td>0.855356</td>\n",
       "      <td>...</td>\n",
       "      <td>100.0</td>\n",
       "      <td>0.0</td>\n",
       "      <td>0.0</td>\n",
       "      <td>0.0</td>\n",
       "      <td>0.0</td>\n",
       "      <td>0.0</td>\n",
       "      <td>0.0</td>\n",
       "      <td>0.0</td>\n",
       "      <td>0.0</td>\n",
       "      <td>0.0</td>\n",
       "    </tr>\n",
       "    <tr>\n",
       "      <th>2021-09-02</th>\n",
       "      <td>0.0</td>\n",
       "      <td>0.001165</td>\n",
       "      <td>0.85971</td>\n",
       "      <td>0.86000</td>\n",
       "      <td>0.85760</td>\n",
       "      <td>0.85970</td>\n",
       "      <td>0.85970</td>\n",
       "      <td>0</td>\n",
       "      <td>0.866656</td>\n",
       "      <td>0.855526</td>\n",
       "      <td>...</td>\n",
       "      <td>-100.0</td>\n",
       "      <td>0.0</td>\n",
       "      <td>0.0</td>\n",
       "      <td>100.0</td>\n",
       "      <td>0.0</td>\n",
       "      <td>0.0</td>\n",
       "      <td>0.0</td>\n",
       "      <td>0.0</td>\n",
       "      <td>0.0</td>\n",
       "      <td>0.0</td>\n",
       "    </tr>\n",
       "    <tr>\n",
       "      <th>2021-09-03</th>\n",
       "      <td>0.0</td>\n",
       "      <td>-0.001849</td>\n",
       "      <td>0.85816</td>\n",
       "      <td>0.85928</td>\n",
       "      <td>0.85623</td>\n",
       "      <td>0.85811</td>\n",
       "      <td>0.85811</td>\n",
       "      <td>0</td>\n",
       "      <td>0.866571</td>\n",
       "      <td>0.855628</td>\n",
       "      <td>...</td>\n",
       "      <td>-100.0</td>\n",
       "      <td>0.0</td>\n",
       "      <td>0.0</td>\n",
       "      <td>0.0</td>\n",
       "      <td>0.0</td>\n",
       "      <td>0.0</td>\n",
       "      <td>-100.0</td>\n",
       "      <td>0.0</td>\n",
       "      <td>0.0</td>\n",
       "      <td>0.0</td>\n",
       "    </tr>\n",
       "    <tr>\n",
       "      <th>2021-09-06</th>\n",
       "      <td>1.0</td>\n",
       "      <td>-0.000827</td>\n",
       "      <td>0.85762</td>\n",
       "      <td>0.85856</td>\n",
       "      <td>0.85660</td>\n",
       "      <td>0.85740</td>\n",
       "      <td>0.85740</td>\n",
       "      <td>0</td>\n",
       "      <td>0.866480</td>\n",
       "      <td>0.855697</td>\n",
       "      <td>...</td>\n",
       "      <td>0.0</td>\n",
       "      <td>0.0</td>\n",
       "      <td>0.0</td>\n",
       "      <td>0.0</td>\n",
       "      <td>0.0</td>\n",
       "      <td>0.0</td>\n",
       "      <td>0.0</td>\n",
       "      <td>0.0</td>\n",
       "      <td>0.0</td>\n",
       "      <td>0.0</td>\n",
       "    </tr>\n",
       "  </tbody>\n",
       "</table>\n",
       "<p>5789 rows × 109 columns</p>\n",
       "</div>"
      ],
      "text/plain": [
       "            Up_Down   log_ret     Open     High      Low    Close  Adj Close  \\\n",
       "Date                                                                           \n",
       "1999-05-18      1.0 -0.000910  0.65910  0.66070  0.65620  0.65850    0.65850   \n",
       "1999-05-19      0.0  0.002733  0.65840  0.66090  0.65580  0.66030    0.66030   \n",
       "1999-05-20      1.0 -0.000151  0.65980  0.66180  0.65820  0.66020    0.66020   \n",
       "1999-05-21      1.0  0.001212  0.66000  0.66140  0.65760  0.66100    0.66100   \n",
       "1999-05-24      0.0  0.003933  0.65990  0.66390  0.65830  0.66360    0.66360   \n",
       "...             ...       ...      ...      ...      ...      ...        ...   \n",
       "2021-08-31      1.0  0.000000  0.85736  0.85973  0.85667  0.85720    0.85720   \n",
       "2021-09-01      1.0  0.001750  0.85863  0.86022  0.85744  0.85870    0.85870   \n",
       "2021-09-02      0.0  0.001165  0.85971  0.86000  0.85760  0.85970    0.85970   \n",
       "2021-09-03      0.0 -0.001849  0.85816  0.85928  0.85623  0.85811    0.85811   \n",
       "2021-09-06      1.0 -0.000827  0.85762  0.85856  0.85660  0.85740    0.85740   \n",
       "\n",
       "            Volume    200ema     50ema  ...  CDL_SPINNINGTOP  \\\n",
       "Date                                    ...                    \n",
       "1999-05-18       0  0.673729  0.665763  ...           -100.0   \n",
       "1999-05-19       0  0.673515  0.665549  ...              0.0   \n",
       "1999-05-20       0  0.673304  0.665339  ...            100.0   \n",
       "1999-05-21       0  0.673110  0.665169  ...              0.0   \n",
       "1999-05-24       0  0.672961  0.665108  ...              0.0   \n",
       "...            ...       ...       ...  ...              ...   \n",
       "2021-08-31       0  0.866807  0.855220  ...              0.0   \n",
       "2021-09-01       0  0.866726  0.855356  ...            100.0   \n",
       "2021-09-02       0  0.866656  0.855526  ...           -100.0   \n",
       "2021-09-03       0  0.866571  0.855628  ...           -100.0   \n",
       "2021-09-06       0  0.866480  0.855697  ...              0.0   \n",
       "\n",
       "            CDL_STALLEDPATTERN  CDL_STICKSANDWICH  CDL_TAKURI  CDL_TASUKIGAP  \\\n",
       "Date                                                                           \n",
       "1999-05-18                 0.0                0.0         0.0            0.0   \n",
       "1999-05-19                 0.0                0.0         0.0            0.0   \n",
       "1999-05-20                 0.0                0.0         0.0            0.0   \n",
       "1999-05-21                 0.0                0.0         0.0            0.0   \n",
       "1999-05-24                 0.0                0.0         0.0            0.0   \n",
       "...                        ...                ...         ...            ...   \n",
       "2021-08-31                 0.0                0.0         0.0            0.0   \n",
       "2021-09-01                 0.0                0.0         0.0            0.0   \n",
       "2021-09-02                 0.0                0.0       100.0            0.0   \n",
       "2021-09-03                 0.0                0.0         0.0            0.0   \n",
       "2021-09-06                 0.0                0.0         0.0            0.0   \n",
       "\n",
       "            CDL_THRUSTING  CDL_TRISTAR  CDL_UNIQUE3RIVER  CDL_UPSIDEGAP2CROWS  \\\n",
       "Date                                                                            \n",
       "1999-05-18            0.0          0.0               0.0                  0.0   \n",
       "1999-05-19            0.0          0.0               0.0                  0.0   \n",
       "1999-05-20            0.0          0.0               0.0                  0.0   \n",
       "1999-05-21            0.0          0.0               0.0                  0.0   \n",
       "1999-05-24            0.0          0.0               0.0                  0.0   \n",
       "...                   ...          ...               ...                  ...   \n",
       "2021-08-31            0.0          0.0               0.0                  0.0   \n",
       "2021-09-01            0.0          0.0               0.0                  0.0   \n",
       "2021-09-02            0.0          0.0               0.0                  0.0   \n",
       "2021-09-03            0.0       -100.0               0.0                  0.0   \n",
       "2021-09-06            0.0          0.0               0.0                  0.0   \n",
       "\n",
       "            CDL_XSIDEGAP3METHODS  \n",
       "Date                              \n",
       "1999-05-18                   0.0  \n",
       "1999-05-19                   0.0  \n",
       "1999-05-20                   0.0  \n",
       "1999-05-21                   0.0  \n",
       "1999-05-24                   0.0  \n",
       "...                          ...  \n",
       "2021-08-31                   0.0  \n",
       "2021-09-01                   0.0  \n",
       "2021-09-02                   0.0  \n",
       "2021-09-03                   0.0  \n",
       "2021-09-06                   0.0  \n",
       "\n",
       "[5789 rows x 109 columns]"
      ]
     },
     "execution_count": 9,
     "metadata": {},
     "output_type": "execute_result"
    }
   ],
   "source": [
    "data"
   ]
  },
  {
   "cell_type": "code",
   "execution_count": 10,
   "id": "44e0c98c",
   "metadata": {},
   "outputs": [],
   "source": [
    "#Añadimos un filtro de outliers (por encima de 3 desviaciones quitamos el valor)\n",
    "\n",
    "filt1 = np.abs(stats.zscore(data['log_ret'])) < 3\n",
    "filt2 = np.abs(stats.zscore(data['log_ret'])) < 3\n",
    "\n",
    "filt = (filt1 & filt2)\n",
    "\n",
    "data = data[filt]"
   ]
  },
  {
   "cell_type": "code",
   "execution_count": 11,
   "id": "6270524b",
   "metadata": {},
   "outputs": [
    {
     "data": {
      "image/png": "[encoded data removed]",
      "text/plain": [
       "<Figure size 432x288 with 1 Axes>"
      ]
     },
     "metadata": {
      "needs_background": "light"
     },
     "output_type": "display_data"
    }
   ],
   "source": [
    "plt.plot(data['log_ret'], label='train')\n",
    "plt.legend()\n",
    "plt.show()"
   ]
  },
  {
   "cell_type": "code",
   "execution_count": 12,
   "id": "92378889",
   "metadata": {
    "scrolled": true
   },
   "outputs": [
    {
     "name": "stderr",
     "output_type": "stream",
     "text": [
      "C:\\Users\\Usuario\\anaconda3\\envs\\StockPrediction\\lib\\site-packages\\pandas\\core\\frame.py:4908: SettingWithCopyWarning: \n",
      "A value is trying to be set on a copy of a slice from a DataFrame\n",
      "\n",
      "See the caveats in the documentation: https://pandas.pydata.org/pandas-docs/stable/user_guide/indexing.html#returning-a-view-versus-a-copy\n",
      "  errors=errors,\n"
     ]
    }
   ],
   "source": [
    "data.reset_index(inplace=True)\n",
    "data.drop(columns=data.columns[0], inplace=True)"
   ]
  },
  {
   "cell_type": "markdown",
   "id": "fa7ec515",
   "metadata": {},
   "source": [
    "## Preparacion datos para el LSTM"
   ]
  },
  {
   "cell_type": "code",
   "execution_count": 13,
   "id": "dfeaca60",
   "metadata": {
    "scrolled": false
   },
   "outputs": [
    {
     "name": "stdout",
     "output_type": "stream",
     "text": [
      "<class 'pandas.core.frame.DataFrame'>\n",
      "RangeIndex: 5726 entries, 0 to 5725\n",
      "Columns: 109 entries, Up_Down to CDL_XSIDEGAP3METHODS\n",
      "dtypes: float64(107), int32(1), int64(1)\n",
      "memory usage: 4.7 MB\n"
     ]
    }
   ],
   "source": [
    "data.info()"
   ]
  },
  {
   "cell_type": "code",
   "execution_count": 14,
   "id": "711018d4",
   "metadata": {},
   "outputs": [
    {
     "name": "stdout",
     "output_type": "stream",
     "text": [
      "(4580, 1, 108) (4580,) (573, 1, 108) (573,) (573, 1, 108) (573,)\n"
     ]
    }
   ],
   "source": [
    "#Convertimos todas las columnas a valor numerico\n",
    "data = data.apply(pd.to_numeric)\n",
    "\n",
    "\n",
    "#Escalamos los valores con un MinMaxScaler\n",
    "\n",
    "#data['200ema'] = data['200ema'].pct_change()\n",
    "#data['50ema'] = data['50ema'].pct_change()\n",
    "#data['20ema'] = data['20ema'].pct_change()\n",
    "\n",
    "#data.dropna(inplace=True)\n",
    "\n",
    "values = data.values\n",
    "\n",
    "scaler = MinMaxScaler(feature_range=(0, 1))\n",
    "scaled = scaler.fit_transform(values)\n",
    "\n",
    "values = scaled\n",
    "\n",
    "#Dividimos los datos entre train y test\n",
    "train, val = train_test_split(values, test_size=0.2, shuffle=False)\n",
    "\n",
    "#Dividimos datos validation entre validation y test\n",
    "val, test = train_test_split(val, test_size=0.5, shuffle=False)\n",
    "\n",
    "#Separamos los inputs de los outputs\n",
    "train_X, train_y = train[:, 1:], train[:,0]\n",
    "val_X, val_y = val[:, 1:], val[:,0]\n",
    "test_X, test_y = test[:, 1:], test[:, 0]\n",
    "\n",
    "\n",
    "#Generamos el reshape para poder incluir los valores en el modelo LSTM\n",
    "train_X = train_X.reshape((train_X.shape[0], 1, train_X.shape[1]))\n",
    "val_X = val_X.reshape((val_X.shape[0], 1, val_X.shape[1]))\n",
    "test_X = test_X.reshape((test_X.shape[0], 1, test_X.shape[1]))\n",
    "print(train_X.shape, train_y.shape, val_X.shape, val_y.shape, test_X.shape, test_y.shape)"
   ]
  },
  {
   "cell_type": "markdown",
   "id": "6286d484",
   "metadata": {},
   "source": [
    "## Creamos el modelo"
   ]
  },
  {
   "cell_type": "code",
   "execution_count": 15,
   "id": "62280955",
   "metadata": {},
   "outputs": [],
   "source": [
    "#Generamos arquitectura del modelo\n",
    "model = Sequential()\n",
    "\n",
    "model.add(Dense(32, activation='LeakyReLU', kernel_initializer='he_uniform' ,input_shape=(train_X.shape[1], train_X.shape[2])))\n",
    "\n",
    "model.add(LSTM(128, activation='LeakyReLU', return_sequences=True))\n",
    "model.add(BatchNormalization())\n",
    "\n",
    "\n",
    "model.add(LSTM(256, activation='LeakyReLU', return_sequences=True))\n",
    "model.add(BatchNormalization())\n",
    "\n",
    "\n",
    "model.add(LSTM(128, activation='LeakyReLU', return_sequences=True))\n",
    "model.add(BatchNormalization())\n",
    "model.add(Dropout(0.3))\n",
    "\n",
    "\n",
    "model.add(Dense(32, activation='LeakyReLU'))\n",
    "\n",
    "\n",
    "\n",
    "model.add(Dense(1, activation='sigmoid'))\n",
    "\n",
    "\n"
   ]
  },
  {
   "cell_type": "code",
   "execution_count": 16,
   "id": "b1c92f22",
   "metadata": {},
   "outputs": [
    {
     "data": {
      "text/plain": [
       "2290"
      ]
     },
     "execution_count": 16,
     "metadata": {},
     "output_type": "execute_result"
    }
   ],
   "source": [
    "int(train_X.shape[0]/2)"
   ]
  },
  {
   "cell_type": "code",
   "execution_count": 17,
   "id": "57b91f95",
   "metadata": {},
   "outputs": [],
   "source": [
    "epochs = 100\n",
    "train_size = train_X.shape[0]\n",
    "batch_size = 64\n",
    "\n",
    "initial_learning_rate = 0.1\n",
    "final_learning_rate = 0.000001\n",
    "learning_rate_decay_factor = (final_learning_rate / initial_learning_rate)**(1/epochs)\n",
    "steps_per_epoch = int(train_size/batch_size)\n",
    "\n",
    "lr_schedule = ExponentialDecay(\n",
    "                initial_learning_rate=initial_learning_rate,\n",
    "                decay_steps=steps_per_epoch,\n",
    "                decay_rate=learning_rate_decay_factor,\n",
    "                staircase=True)\n",
    "\n",
    "opt = SGD(learning_rate = lr_schedule )"
   ]
  },
  {
   "cell_type": "code",
   "execution_count": 18,
   "id": "eac668b4",
   "metadata": {},
   "outputs": [],
   "source": [
    "\n",
    "model.compile(optimizer=opt, loss='binary_crossentropy', metrics=['accuracy'])"
   ]
  },
  {
   "cell_type": "code",
   "execution_count": 19,
   "id": "8e870af3",
   "metadata": {},
   "outputs": [
    {
     "name": "stdout",
     "output_type": "stream",
     "text": [
      "Model: \"sequential\"\n",
      "_________________________________________________________________\n",
      "Layer (type)                 Output Shape              Param #   \n",
      "=================================================================\n",
      "dense (Dense)                (None, 1, 32)             3488      \n",
      "_________________________________________________________________\n",
      "lstm (LSTM)                  (None, 1, 128)            82432     \n",
      "_________________________________________________________________\n",
      "batch_normalization (BatchNo (None, 1, 128)            512       \n",
      "_________________________________________________________________\n",
      "lstm_1 (LSTM)                (None, 1, 256)            394240    \n",
      "_________________________________________________________________\n",
      "batch_normalization_1 (Batch (None, 1, 256)            1024      \n",
      "_________________________________________________________________\n",
      "lstm_2 (LSTM)                (None, 1, 128)            197120    \n",
      "_________________________________________________________________\n",
      "batch_normalization_2 (Batch (None, 1, 128)            512       \n",
      "_________________________________________________________________\n",
      "dropout (Dropout)            (None, 1, 128)            0         \n",
      "_________________________________________________________________\n",
      "dense_1 (Dense)              (None, 1, 32)             4128      \n",
      "_________________________________________________________________\n",
      "dense_2 (Dense)              (None, 1, 1)              33        \n",
      "=================================================================\n",
      "Total params: 683,489\n",
      "Trainable params: 682,465\n",
      "Non-trainable params: 1,024\n",
      "_________________________________________________________________\n"
     ]
    }
   ],
   "source": [
    "model.summary()"
   ]
  },
  {
   "cell_type": "code",
   "execution_count": 20,
   "id": "c738d78b",
   "metadata": {
    "scrolled": false
   },
   "outputs": [
    {
     "name": "stdout",
     "output_type": "stream",
     "text": [
      "Epoch 1/100\n",
      "144/144 - 5s - loss: 0.7052 - accuracy: 0.5461 - val_loss: 0.6927 - val_accuracy: 0.5096\n",
      "Epoch 2/100\n",
      "144/144 - 1s - loss: 0.6552 - accuracy: 0.5677 - val_loss: 0.6893 - val_accuracy: 0.5096\n",
      "Epoch 3/100\n",
      "144/144 - 1s - loss: 0.6521 - accuracy: 0.5742 - val_loss: 0.6628 - val_accuracy: 0.6213\n",
      "Epoch 4/100\n",
      "144/144 - 1s - loss: 0.6480 - accuracy: 0.5707 - val_loss: 0.6236 - val_accuracy: 0.6614\n",
      "Epoch 5/100\n",
      "144/144 - 1s - loss: 0.6433 - accuracy: 0.5769 - val_loss: 0.5723 - val_accuracy: 0.6579\n",
      "Epoch 6/100\n",
      "144/144 - 1s - loss: 0.6396 - accuracy: 0.5834 - val_loss: 0.6185 - val_accuracy: 0.6440\n",
      "Epoch 7/100\n",
      "144/144 - 1s - loss: 0.6357 - accuracy: 0.5897 - val_loss: 0.5889 - val_accuracy: 0.6545\n",
      "Epoch 8/100\n",
      "144/144 - 1s - loss: 0.6303 - accuracy: 0.5996 - val_loss: 0.6029 - val_accuracy: 0.6492\n",
      "Epoch 9/100\n",
      "144/144 - 1s - loss: 0.6312 - accuracy: 0.6041 - val_loss: 0.5574 - val_accuracy: 0.6911\n",
      "Epoch 10/100\n",
      "144/144 - 1s - loss: 0.6306 - accuracy: 0.6039 - val_loss: 0.5543 - val_accuracy: 0.6841\n",
      "Epoch 11/100\n",
      "144/144 - 1s - loss: 0.6258 - accuracy: 0.6074 - val_loss: 0.5786 - val_accuracy: 0.6597\n",
      "Epoch 12/100\n",
      "144/144 - 1s - loss: 0.6221 - accuracy: 0.6116 - val_loss: 0.6267 - val_accuracy: 0.6353\n",
      "Epoch 13/100\n",
      "144/144 - 1s - loss: 0.6164 - accuracy: 0.6229 - val_loss: 0.5814 - val_accuracy: 0.6614\n",
      "Epoch 14/100\n",
      "144/144 - 1s - loss: 0.6186 - accuracy: 0.6175 - val_loss: 0.5764 - val_accuracy: 0.6894\n",
      "Epoch 15/100\n",
      "144/144 - 1s - loss: 0.6184 - accuracy: 0.6179 - val_loss: 0.5391 - val_accuracy: 0.7120\n",
      "Epoch 16/100\n",
      "144/144 - 1s - loss: 0.6117 - accuracy: 0.6341 - val_loss: 0.5900 - val_accuracy: 0.6597\n",
      "Epoch 17/100\n",
      "144/144 - 1s - loss: 0.6145 - accuracy: 0.6277 - val_loss: 0.5839 - val_accuracy: 0.6649\n",
      "Epoch 18/100\n",
      "144/144 - 1s - loss: 0.6116 - accuracy: 0.6293 - val_loss: 0.5595 - val_accuracy: 0.6597\n",
      "Epoch 19/100\n",
      "144/144 - 1s - loss: 0.6096 - accuracy: 0.6356 - val_loss: 0.5540 - val_accuracy: 0.6859\n",
      "Epoch 20/100\n",
      "144/144 - 1s - loss: 0.6048 - accuracy: 0.6332 - val_loss: 0.5575 - val_accuracy: 0.7033\n",
      "Epoch 21/100\n",
      "144/144 - 1s - loss: 0.6053 - accuracy: 0.6397 - val_loss: 0.5667 - val_accuracy: 0.6894\n",
      "Epoch 22/100\n",
      "144/144 - 1s - loss: 0.6076 - accuracy: 0.6332 - val_loss: 0.5491 - val_accuracy: 0.6946\n",
      "Epoch 23/100\n",
      "144/144 - 1s - loss: 0.6043 - accuracy: 0.6323 - val_loss: 0.6009 - val_accuracy: 0.6353\n",
      "Epoch 24/100\n",
      "144/144 - 1s - loss: 0.6018 - accuracy: 0.6393 - val_loss: 0.5513 - val_accuracy: 0.7068\n",
      "Epoch 25/100\n",
      "144/144 - 1s - loss: 0.5982 - accuracy: 0.6483 - val_loss: 0.5586 - val_accuracy: 0.6824\n",
      "Epoch 26/100\n",
      "144/144 - 1s - loss: 0.6020 - accuracy: 0.6469 - val_loss: 0.5489 - val_accuracy: 0.7068\n",
      "Epoch 27/100\n",
      "144/144 - 1s - loss: 0.6003 - accuracy: 0.6402 - val_loss: 0.5460 - val_accuracy: 0.7016\n",
      "Epoch 28/100\n",
      "144/144 - 1s - loss: 0.5938 - accuracy: 0.6448 - val_loss: 0.5539 - val_accuracy: 0.6928\n",
      "Epoch 29/100\n",
      "144/144 - 1s - loss: 0.5962 - accuracy: 0.6480 - val_loss: 0.5573 - val_accuracy: 0.7086\n",
      "Epoch 30/100\n",
      "144/144 - 1s - loss: 0.5938 - accuracy: 0.6528 - val_loss: 0.5555 - val_accuracy: 0.7033\n",
      "Epoch 31/100\n",
      "144/144 - 1s - loss: 0.6013 - accuracy: 0.6371 - val_loss: 0.5545 - val_accuracy: 0.6981\n",
      "Epoch 32/100\n",
      "144/144 - 1s - loss: 0.5942 - accuracy: 0.6498 - val_loss: 0.5508 - val_accuracy: 0.7103\n",
      "Epoch 33/100\n",
      "144/144 - 1s - loss: 0.5929 - accuracy: 0.6465 - val_loss: 0.5595 - val_accuracy: 0.7033\n",
      "Epoch 34/100\n",
      "144/144 - 1s - loss: 0.5889 - accuracy: 0.6498 - val_loss: 0.5577 - val_accuracy: 0.6998\n",
      "Epoch 35/100\n",
      "144/144 - 1s - loss: 0.5950 - accuracy: 0.6469 - val_loss: 0.5603 - val_accuracy: 0.7033\n",
      "Epoch 36/100\n",
      "144/144 - 1s - loss: 0.5924 - accuracy: 0.6541 - val_loss: 0.5554 - val_accuracy: 0.7016\n",
      "Epoch 37/100\n",
      "144/144 - 1s - loss: 0.5939 - accuracy: 0.6513 - val_loss: 0.5595 - val_accuracy: 0.7016\n",
      "Epoch 38/100\n",
      "144/144 - 1s - loss: 0.5893 - accuracy: 0.6520 - val_loss: 0.5577 - val_accuracy: 0.7103\n",
      "Epoch 39/100\n",
      "144/144 - 1s - loss: 0.5877 - accuracy: 0.6583 - val_loss: 0.5523 - val_accuracy: 0.7138\n",
      "Epoch 40/100\n",
      "144/144 - 1s - loss: 0.5920 - accuracy: 0.6574 - val_loss: 0.5569 - val_accuracy: 0.7086\n",
      "Epoch 41/100\n",
      "144/144 - 1s - loss: 0.5912 - accuracy: 0.6548 - val_loss: 0.5563 - val_accuracy: 0.7086\n",
      "Epoch 42/100\n",
      "144/144 - 1s - loss: 0.5932 - accuracy: 0.6485 - val_loss: 0.5560 - val_accuracy: 0.7173\n",
      "Epoch 43/100\n",
      "144/144 - 1s - loss: 0.5883 - accuracy: 0.6566 - val_loss: 0.5570 - val_accuracy: 0.7138\n",
      "Epoch 44/100\n",
      "144/144 - 1s - loss: 0.5884 - accuracy: 0.6600 - val_loss: 0.5586 - val_accuracy: 0.7086\n",
      "Epoch 45/100\n",
      "144/144 - 1s - loss: 0.5939 - accuracy: 0.6491 - val_loss: 0.5561 - val_accuracy: 0.7033\n",
      "Epoch 46/100\n",
      "144/144 - 1s - loss: 0.5909 - accuracy: 0.6489 - val_loss: 0.5556 - val_accuracy: 0.7138\n",
      "Epoch 47/100\n",
      "144/144 - 1s - loss: 0.5905 - accuracy: 0.6515 - val_loss: 0.5552 - val_accuracy: 0.7138\n",
      "Epoch 48/100\n",
      "144/144 - 1s - loss: 0.5897 - accuracy: 0.6555 - val_loss: 0.5565 - val_accuracy: 0.7138\n",
      "Epoch 49/100\n",
      "144/144 - 1s - loss: 0.5917 - accuracy: 0.6493 - val_loss: 0.5556 - val_accuracy: 0.7051\n",
      "Epoch 50/100\n",
      "144/144 - 1s - loss: 0.5880 - accuracy: 0.6537 - val_loss: 0.5565 - val_accuracy: 0.7086\n",
      "Epoch 51/100\n",
      "144/144 - 1s - loss: 0.5902 - accuracy: 0.6568 - val_loss: 0.5579 - val_accuracy: 0.7086\n",
      "Epoch 52/100\n",
      "144/144 - 1s - loss: 0.5915 - accuracy: 0.6544 - val_loss: 0.5558 - val_accuracy: 0.7138\n",
      "Epoch 53/100\n",
      "144/144 - 1s - loss: 0.5877 - accuracy: 0.6557 - val_loss: 0.5562 - val_accuracy: 0.7138\n",
      "Epoch 54/100\n",
      "144/144 - 1s - loss: 0.5878 - accuracy: 0.6541 - val_loss: 0.5565 - val_accuracy: 0.7086\n",
      "Epoch 55/100\n",
      "144/144 - 1s - loss: 0.5882 - accuracy: 0.6557 - val_loss: 0.5570 - val_accuracy: 0.7190\n",
      "Epoch 56/100\n",
      "144/144 - 1s - loss: 0.5900 - accuracy: 0.6526 - val_loss: 0.5564 - val_accuracy: 0.7173\n",
      "Epoch 57/100\n",
      "144/144 - 1s - loss: 0.5903 - accuracy: 0.6491 - val_loss: 0.5567 - val_accuracy: 0.7120\n",
      "Epoch 58/100\n",
      "144/144 - 1s - loss: 0.5883 - accuracy: 0.6531 - val_loss: 0.5579 - val_accuracy: 0.7190\n",
      "Epoch 59/100\n",
      "144/144 - 1s - loss: 0.5906 - accuracy: 0.6614 - val_loss: 0.5570 - val_accuracy: 0.7190\n",
      "Epoch 60/100\n",
      "144/144 - 1s - loss: 0.5927 - accuracy: 0.6537 - val_loss: 0.5569 - val_accuracy: 0.7190\n",
      "Epoch 61/100\n",
      "144/144 - 1s - loss: 0.5846 - accuracy: 0.6574 - val_loss: 0.5570 - val_accuracy: 0.7138\n",
      "Epoch 62/100\n",
      "144/144 - 1s - loss: 0.5854 - accuracy: 0.6627 - val_loss: 0.5569 - val_accuracy: 0.7103\n",
      "Epoch 63/100\n",
      "144/144 - 1s - loss: 0.5880 - accuracy: 0.6572 - val_loss: 0.5577 - val_accuracy: 0.7068\n",
      "Epoch 64/100\n",
      "144/144 - 1s - loss: 0.5900 - accuracy: 0.6572 - val_loss: 0.5579 - val_accuracy: 0.7138\n",
      "Epoch 65/100\n",
      "144/144 - 1s - loss: 0.5925 - accuracy: 0.6550 - val_loss: 0.5579 - val_accuracy: 0.7138\n",
      "Epoch 66/100\n",
      "144/144 - 1s - loss: 0.5870 - accuracy: 0.6603 - val_loss: 0.5573 - val_accuracy: 0.7086\n",
      "Epoch 67/100\n",
      "144/144 - 1s - loss: 0.5847 - accuracy: 0.6664 - val_loss: 0.5576 - val_accuracy: 0.7068\n",
      "Epoch 68/100\n",
      "144/144 - 1s - loss: 0.5866 - accuracy: 0.6585 - val_loss: 0.5581 - val_accuracy: 0.7103\n",
      "Epoch 69/100\n",
      "144/144 - 1s - loss: 0.5908 - accuracy: 0.6528 - val_loss: 0.5582 - val_accuracy: 0.7086\n",
      "Epoch 70/100\n",
      "144/144 - 1s - loss: 0.5850 - accuracy: 0.6611 - val_loss: 0.5581 - val_accuracy: 0.7086\n",
      "Epoch 71/100\n",
      "144/144 - 1s - loss: 0.5882 - accuracy: 0.6607 - val_loss: 0.5580 - val_accuracy: 0.7138\n",
      "Epoch 72/100\n",
      "144/144 - 1s - loss: 0.5866 - accuracy: 0.6600 - val_loss: 0.5577 - val_accuracy: 0.7086\n",
      "Epoch 73/100\n",
      "144/144 - 1s - loss: 0.5867 - accuracy: 0.6614 - val_loss: 0.5576 - val_accuracy: 0.7120\n",
      "Epoch 74/100\n",
      "144/144 - 1s - loss: 0.5883 - accuracy: 0.6583 - val_loss: 0.5577 - val_accuracy: 0.7068\n",
      "Epoch 75/100\n",
      "144/144 - 1s - loss: 0.5927 - accuracy: 0.6441 - val_loss: 0.5585 - val_accuracy: 0.7120\n",
      "Epoch 76/100\n",
      "144/144 - 1s - loss: 0.5879 - accuracy: 0.6642 - val_loss: 0.5580 - val_accuracy: 0.7138\n",
      "Epoch 77/100\n",
      "144/144 - 1s - loss: 0.5818 - accuracy: 0.6686 - val_loss: 0.5579 - val_accuracy: 0.7155\n",
      "Epoch 78/100\n",
      "144/144 - 1s - loss: 0.5843 - accuracy: 0.6624 - val_loss: 0.5574 - val_accuracy: 0.7103\n",
      "Epoch 79/100\n",
      "144/144 - 1s - loss: 0.5862 - accuracy: 0.6616 - val_loss: 0.5587 - val_accuracy: 0.7120\n",
      "Epoch 80/100\n",
      "144/144 - 1s - loss: 0.5863 - accuracy: 0.6620 - val_loss: 0.5578 - val_accuracy: 0.7138\n",
      "Epoch 81/100\n",
      "144/144 - 1s - loss: 0.5896 - accuracy: 0.6587 - val_loss: 0.5583 - val_accuracy: 0.7138\n"
     ]
    },
    {
     "name": "stdout",
     "output_type": "stream",
     "text": [
      "Epoch 82/100\n",
      "144/144 - 1s - loss: 0.5906 - accuracy: 0.6566 - val_loss: 0.5568 - val_accuracy: 0.7068\n",
      "Epoch 83/100\n",
      "144/144 - 1s - loss: 0.5846 - accuracy: 0.6600 - val_loss: 0.5576 - val_accuracy: 0.7086\n",
      "Epoch 84/100\n",
      "144/144 - 1s - loss: 0.5905 - accuracy: 0.6579 - val_loss: 0.5578 - val_accuracy: 0.7086\n",
      "Epoch 85/100\n",
      "144/144 - 1s - loss: 0.5885 - accuracy: 0.6474 - val_loss: 0.5583 - val_accuracy: 0.7155\n",
      "Epoch 86/100\n",
      "144/144 - 1s - loss: 0.5866 - accuracy: 0.6605 - val_loss: 0.5579 - val_accuracy: 0.7103\n",
      "Epoch 87/100\n",
      "144/144 - 1s - loss: 0.5857 - accuracy: 0.6690 - val_loss: 0.5587 - val_accuracy: 0.7120\n",
      "Epoch 88/100\n",
      "144/144 - 1s - loss: 0.5909 - accuracy: 0.6533 - val_loss: 0.5588 - val_accuracy: 0.7155\n",
      "Epoch 89/100\n",
      "144/144 - 1s - loss: 0.5857 - accuracy: 0.6590 - val_loss: 0.5576 - val_accuracy: 0.7155\n",
      "Epoch 90/100\n",
      "144/144 - 1s - loss: 0.5894 - accuracy: 0.6620 - val_loss: 0.5569 - val_accuracy: 0.7086\n",
      "Epoch 91/100\n",
      "144/144 - 1s - loss: 0.5840 - accuracy: 0.6572 - val_loss: 0.5578 - val_accuracy: 0.7086\n",
      "Epoch 92/100\n",
      "144/144 - 1s - loss: 0.5912 - accuracy: 0.6528 - val_loss: 0.5585 - val_accuracy: 0.7173\n",
      "Epoch 93/100\n",
      "144/144 - 1s - loss: 0.5877 - accuracy: 0.6568 - val_loss: 0.5577 - val_accuracy: 0.7155\n",
      "Epoch 94/100\n",
      "144/144 - 1s - loss: 0.5902 - accuracy: 0.6548 - val_loss: 0.5575 - val_accuracy: 0.7155\n",
      "Epoch 95/100\n",
      "144/144 - 1s - loss: 0.5869 - accuracy: 0.6594 - val_loss: 0.5584 - val_accuracy: 0.7086\n",
      "Epoch 96/100\n",
      "144/144 - 1s - loss: 0.5845 - accuracy: 0.6712 - val_loss: 0.5581 - val_accuracy: 0.7086\n",
      "Epoch 97/100\n",
      "144/144 - 1s - loss: 0.5866 - accuracy: 0.6579 - val_loss: 0.5578 - val_accuracy: 0.7086\n",
      "Epoch 98/100\n",
      "144/144 - 1s - loss: 0.5870 - accuracy: 0.6570 - val_loss: 0.5576 - val_accuracy: 0.7086\n",
      "Epoch 99/100\n",
      "144/144 - 1s - loss: 0.5847 - accuracy: 0.6655 - val_loss: 0.5578 - val_accuracy: 0.7103\n",
      "Epoch 100/100\n",
      "144/144 - 1s - loss: 0.5889 - accuracy: 0.6548 - val_loss: 0.5579 - val_accuracy: 0.7086\n"
     ]
    }
   ],
   "source": [
    "#Entrenamos el modelo\n",
    "history = model.fit(train_X, train_y, epochs=epochs, batch_size = batch_size, validation_data=(val_X, val_y), verbose=2)"
   ]
  },
  {
   "cell_type": "code",
   "execution_count": 21,
   "id": "a11fc645",
   "metadata": {},
   "outputs": [
    {
     "data": {
      "image/png": "[encoded data removed]",
      "text/plain": [
       "<Figure size 432x288 with 1 Axes>"
      ]
     },
     "metadata": {
      "needs_background": "light"
     },
     "output_type": "display_data"
    }
   ],
   "source": [
    "#Generamos plot con los resultados\n",
    "plt.plot(history.history['loss'], label='train')\n",
    "plt.plot(history.history['val_loss'], label='validation')\n",
    "plt.legend()\n",
    "plt.show()"
   ]
  },
  {
   "cell_type": "code",
   "execution_count": 22,
   "id": "029916ab",
   "metadata": {},
   "outputs": [
    {
     "data": {
      "image/png": "[encoded data removed]",
      "text/plain": [
       "<Figure size 432x288 with 1 Axes>"
      ]
     },
     "metadata": {
      "needs_background": "light"
     },
     "output_type": "display_data"
    }
   ],
   "source": [
    "#Generamos plot con los resultados\n",
    "plt.plot(history.history['accuracy'], label='train')\n",
    "plt.plot(history.history['val_accuracy'], label='validation')\n",
    "plt.legend()\n",
    "plt.show()"
   ]
  },
  {
   "cell_type": "markdown",
   "id": "8d9e8e96",
   "metadata": {},
   "source": [
    "## Resultados con valores de test"
   ]
  },
  {
   "cell_type": "code",
   "execution_count": 23,
   "id": "abecbb08",
   "metadata": {},
   "outputs": [],
   "source": [
    "# make a prediction\n",
    "yhat = model.predict(test_X)"
   ]
  },
  {
   "cell_type": "code",
   "execution_count": 24,
   "id": "32bf3c80",
   "metadata": {},
   "outputs": [],
   "source": [
    "inv_y, inv_yhat = full_prediction(yhat, test_X, test_y)"
   ]
  },
  {
   "cell_type": "code",
   "execution_count": 25,
   "id": "9a99c255",
   "metadata": {},
   "outputs": [],
   "source": [
    "inv_yhat = scaler.inverse_transform(inv_yhat)\n",
    "inv_y = scaler.inverse_transform(inv_y)\n",
    "\n",
    "\n",
    "inv_yhat_df = pd.DataFrame(data=inv_yhat, columns=cols)\n",
    "inv_y_df = pd.DataFrame(data=inv_y, columns=cols)"
   ]
  },
  {
   "cell_type": "code",
   "execution_count": 26,
   "id": "3e0fdfbc",
   "metadata": {},
   "outputs": [
    {
     "name": "stdout",
     "output_type": "stream",
     "text": [
      "Acierto    411\n",
      "Error      162\n",
      "Name: Diff, dtype: int64\n",
      "\n",
      "% acierto: 0.7172774869109948\n"
     ]
    }
   ],
   "source": [
    "res = result(inv_yhat, inv_y)\n",
    "\n",
    "\n",
    "\n",
    "res['Diff'] = np.where(res['Up_Down_yhat'] == res['Up_Down_y'] , 'Acierto', 'Error')\n",
    "\n",
    "res['Diff'].value_counts()\n",
    "\n",
    "print(res['Diff'].value_counts())\n",
    "print()\n",
    "per = res['Diff'].value_counts()['Acierto']/(res['Diff'].value_counts()['Acierto']+res['Diff'].value_counts()['Error'])\n",
    "print(f'% acierto: {per}')"
   ]
  },
  {
   "cell_type": "code",
   "execution_count": 27,
   "id": "269d8f00",
   "metadata": {},
   "outputs": [],
   "source": [
    "benef = aprox_beneficios(res, inv_yhat_df)"
   ]
  },
  {
   "cell_type": "code",
   "execution_count": 28,
   "id": "acb8653f",
   "metadata": {},
   "outputs": [
    {
     "name": "stdout",
     "output_type": "stream",
     "text": [
      "% Beneficios totales: 1.1924815407792484\n",
      "% Beneficios anuales: 0.5265232632061952\n"
     ]
    }
   ],
   "source": [
    "benef_tot = benef[benef.size-1]-1\n",
    "benef_anual = benef_tot/(benef.size/253)\n",
    "print(f'% Beneficios totales: {benef_tot}')\n",
    "print(f'% Beneficios anuales: {benef_anual}')"
   ]
  },
  {
   "cell_type": "markdown",
   "id": "f2f73417",
   "metadata": {},
   "source": [
    "## Guardar modelo"
   ]
  },
  {
   "cell_type": "code",
   "execution_count": 29,
   "id": "4e29002b",
   "metadata": {},
   "outputs": [
    {
     "name": "stderr",
     "output_type": "stream",
     "text": [
      "WARNING:absl:Found untraced functions such as leaky_re_lu_layer_call_fn, leaky_re_lu_layer_call_and_return_conditional_losses, leaky_re_lu_4_layer_call_fn, leaky_re_lu_4_layer_call_and_return_conditional_losses, leaky_re_lu_layer_call_fn while saving (showing 5 of 25). These functions will not be directly callable after loading.\n"
     ]
    },
    {
     "name": "stdout",
     "output_type": "stream",
     "text": [
      "INFO:tensorflow:Assets written to: saved_model/my_model\\assets\n"
     ]
    },
    {
     "name": "stderr",
     "output_type": "stream",
     "text": [
      "INFO:tensorflow:Assets written to: saved_model/my_model\\assets\n"
     ]
    }
   ],
   "source": [
    "model.save('saved_model/my_model')"
   ]
  },
  {
   "cell_type": "code",
   "execution_count": null,
   "id": "5b349f87",
   "metadata": {},
   "outputs": [],
   "source": []
  }
 ],
 "metadata": {
  "kernelspec": {
   "display_name": "Python 3 (ipykernel)",
   "language": "python",
   "name": "python3"
  },
  "language_info": {
   "codemirror_mode": {
    "name": "ipython",
    "version": 3
   },
   "file_extension": ".py",
   "mimetype": "text/x-python",
   "name": "python",
   "nbconvert_exporter": "python",
   "pygments_lexer": "ipython3",
   "version": "3.7.11"
  }
 },
 "nbformat": 4,
 "nbformat_minor": 5
}
