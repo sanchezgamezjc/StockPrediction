{
 "cells": [
  {
   "cell_type": "code",
   "execution_count": 1,
   "id": "5752236b",
   "metadata": {},
   "outputs": [],
   "source": [
    "import pandas as pd\n",
    "import talib\n",
    "\n",
    "\n",
    "import yfinance as yf\n",
    "import datetime as dt\n",
    "import pandas_ta as pta\n",
    "import matplotlib.pyplot as plt\n",
    "import numpy as np\n",
    "from scipy import stats\n",
    "\n",
    "\n",
    "from sklearn.preprocessing import MinMaxScaler\n",
    "from sklearn.model_selection import train_test_split\n",
    "from sklearn.metrics import mean_squared_error\n",
    "\n",
    "from tensorflow.keras import Sequential\n",
    "from tensorflow.keras.models import load_model\n",
    "from tensorflow.keras.layers import Dense, LSTM, Dropout, Conv1D, Conv2D, Flatten, MaxPooling1D, BatchNormalization\n",
    "from tensorflow.keras.optimizers import SGD, Adam\n",
    "from tensorflow.keras.optimizers.schedules import ExponentialDecay"
   ]
  },
  {
   "cell_type": "code",
   "execution_count": 2,
   "id": "843600ba",
   "metadata": {},
   "outputs": [],
   "source": [
    "import sys\n",
    "\n",
    "pth_apple = \"/Users/josesanchez/Desktop/Code/GitHub/StockPrediction/FileBase\"\n",
    "pth_win = \"/Users/Usuario/Desktop/GitHub/StockPrediction/FileBase\"\n",
    "sys.path.append(pth_win)\n",
    "\n",
    "\n",
    "from root_functions import add_indicators, up_down, full_prediction, full_prediction_binary, result, aprox_beneficios"
   ]
  },
  {
   "cell_type": "code",
   "execution_count": 3,
   "id": "13d7cd6f",
   "metadata": {},
   "outputs": [
    {
     "name": "stdout",
     "output_type": "stream",
     "text": [
      "Model: \"sequential\"\n",
      "_________________________________________________________________\n",
      "Layer (type)                 Output Shape              Param #   \n",
      "=================================================================\n",
      "dense (Dense)                (None, 1, 32)             3488      \n",
      "_________________________________________________________________\n",
      "lstm (LSTM)                  (None, 1, 128)            82432     \n",
      "_________________________________________________________________\n",
      "batch_normalization (BatchNo (None, 1, 128)            512       \n",
      "_________________________________________________________________\n",
      "lstm_1 (LSTM)                (None, 1, 256)            394240    \n",
      "_________________________________________________________________\n",
      "batch_normalization_1 (Batch (None, 1, 256)            1024      \n",
      "_________________________________________________________________\n",
      "lstm_2 (LSTM)                (None, 1, 128)            197120    \n",
      "_________________________________________________________________\n",
      "batch_normalization_2 (Batch (None, 1, 128)            512       \n",
      "_________________________________________________________________\n",
      "dropout (Dropout)            (None, 1, 128)            0         \n",
      "_________________________________________________________________\n",
      "dense_1 (Dense)              (None, 1, 32)             4128      \n",
      "_________________________________________________________________\n",
      "dense_2 (Dense)              (None, 1, 1)              33        \n",
      "=================================================================\n",
      "Total params: 683,489\n",
      "Trainable params: 682,465\n",
      "Non-trainable params: 1,024\n",
      "_________________________________________________________________\n"
     ]
    }
   ],
   "source": [
    "load_model = load_model('saved_model/my_model')\n",
    "load_model.summary()"
   ]
  },
  {
   "cell_type": "markdown",
   "id": "ffb2c26a",
   "metadata": {},
   "source": [
    "## Descarga datos y creación dataset"
   ]
  },
  {
   "cell_type": "code",
   "execution_count": 4,
   "id": "1ab7bfea",
   "metadata": {},
   "outputs": [],
   "source": [
    "sample_per = 10000\n",
    "stock = 'EURGBP=X'\n",
    "\n",
    "end = dt.date.today()\n",
    "start = end - dt.timedelta(days=(sample_per))\n",
    "interval = '1d'"
   ]
  },
  {
   "cell_type": "code",
   "execution_count": 5,
   "id": "90c3e1a3",
   "metadata": {
    "scrolled": false
   },
   "outputs": [
    {
     "name": "stdout",
     "output_type": "stream",
     "text": [
      "[*********************100%***********************]  1 of 1 completed\n"
     ]
    }
   ],
   "source": [
    "database = yf.download(stock, start=start, end=end, interval=interval)"
   ]
  },
  {
   "cell_type": "markdown",
   "id": "67d6cafd",
   "metadata": {},
   "source": [
    "## Add Indicators"
   ]
  },
  {
   "cell_type": "code",
   "execution_count": 6,
   "id": "116f7d54",
   "metadata": {
    "scrolled": true
   },
   "outputs": [
    {
     "data": {
      "text/plain": [
       "Index(['Open', 'High', 'Low', 'Close', 'Adj Close', 'Volume', '200ema',\n",
       "       '50ema', '20ema', '14-high',\n",
       "       ...\n",
       "       'CDL_STICKSANDWICH', 'CDL_TAKURI', 'CDL_TASUKIGAP', 'CDL_THRUSTING',\n",
       "       'CDL_TRISTAR', 'CDL_UNIQUE3RIVER', 'CDL_UPSIDEGAP2CROWS',\n",
       "       'CDL_XSIDEGAP3METHODS', 'log_ret', 'Up_Down'],\n",
       "      dtype='object', length=109)"
      ]
     },
     "execution_count": 6,
     "metadata": {},
     "output_type": "execute_result"
    }
   ],
   "source": [
    "#Añadimos indicadores\n",
    "\n",
    "ema1=200\n",
    "ema2=50\n",
    "ema3=20\n",
    "\n",
    "data_base = add_indicators(database)\n",
    "\n",
    "#Añadimos columna up_down\n",
    "data_base = up_down(data_base)\n",
    "\n",
    "#Listado indicadores\n",
    "data_base.columns"
   ]
  },
  {
   "cell_type": "code",
   "execution_count": 7,
   "id": "46f2cb8f",
   "metadata": {},
   "outputs": [
    {
     "data": {
      "text/plain": [
       "array(['Open', 'High', 'Low', 'Close', 'Adj Close', 'Volume', '200ema',\n",
       "       '50ema', '20ema', '14-high', '14-low', '%K', '%D', 'RSI', 'MACD',\n",
       "       'MACDh', 'MACDs', 'CCI', 'PSAR', 'BBl', 'BBm', 'BBu', 'BBb', 'BBp',\n",
       "       'ATR', 'ADX', 'ADX_DMP', 'ADX_DMN', 'APO', 'AROON_D', 'AROON_U',\n",
       "       'AROON_OSC', 'BOP', 'CMO', 'MOM', 'PPO', 'PPO_h', 'PPO_s', 'ROC',\n",
       "       'STOCHRSI_k', 'STOCHRSI_d', 'TRIX', 'TRIX_s', 'WILLR', 'NATR',\n",
       "       'CDL_2CROWS', 'CDL_3BLACKCROWS', 'CDL_3INSIDE', 'CDL_3LINESTRIKE',\n",
       "       'CDL_3OUTSIDE', 'CDL_3STARSINSOUTH', 'CDL_3WHITESOLDIERS',\n",
       "       'CDL_ABANDONEDBABY', 'CDL_ADVANCEBLOCK', 'CDL_BELTHOLD',\n",
       "       'CDL_BREAKAWAY', 'CDL_CLOSINGMARUBOZU', 'CDL_CONCEALBABYSWALL',\n",
       "       'CDL_COUNTERATTACK', 'CDL_DARKCLOUDCOVER', 'CDL_DOJI_10_0.1',\n",
       "       'CDL_DOJISTAR', 'CDL_DRAGONFLYDOJI', 'CDL_ENGULFING',\n",
       "       'CDL_EVENINGDOJISTAR', 'CDL_EVENINGSTAR', 'CDL_GAPSIDESIDEWHITE',\n",
       "       'CDL_GRAVESTONEDOJI', 'CDL_HAMMER', 'CDL_HANGINGMAN', 'CDL_HARAMI',\n",
       "       'CDL_HARAMICROSS', 'CDL_HIGHWAVE', 'CDL_HIKKAKE', 'CDL_HIKKAKEMOD',\n",
       "       'CDL_HOMINGPIGEON', 'CDL_IDENTICAL3CROWS', 'CDL_INNECK',\n",
       "       'CDL_INSIDE', 'CDL_INVERTEDHAMMER', 'CDL_KICKING',\n",
       "       'CDL_KICKINGBYLENGTH', 'CDL_LADDERBOTTOM', 'CDL_LONGLEGGEDDOJI',\n",
       "       'CDL_LONGLINE', 'CDL_MARUBOZU', 'CDL_MATCHINGLOW', 'CDL_MATHOLD',\n",
       "       'CDL_MORNINGDOJISTAR', 'CDL_MORNINGSTAR', 'CDL_ONNECK',\n",
       "       'CDL_PIERCING', 'CDL_RICKSHAWMAN', 'CDL_RISEFALL3METHODS',\n",
       "       'CDL_SEPARATINGLINES', 'CDL_SHOOTINGSTAR', 'CDL_SHORTLINE',\n",
       "       'CDL_SPINNINGTOP', 'CDL_STALLEDPATTERN', 'CDL_STICKSANDWICH',\n",
       "       'CDL_TAKURI', 'CDL_TASUKIGAP', 'CDL_THRUSTING', 'CDL_TRISTAR',\n",
       "       'CDL_UNIQUE3RIVER', 'CDL_UPSIDEGAP2CROWS', 'CDL_XSIDEGAP3METHODS',\n",
       "       'log_ret', 'Up_Down'], dtype=object)"
      ]
     },
     "execution_count": 7,
     "metadata": {},
     "output_type": "execute_result"
    }
   ],
   "source": [
    "data_base.columns.values"
   ]
  },
  {
   "cell_type": "code",
   "execution_count": 30,
   "id": "146bc461",
   "metadata": {},
   "outputs": [],
   "source": [
    "#Hacemos un shift a la columna Up_Down para tener el signo de la tendencia de la siguiente vela\n",
    "data_base['Up_Down'] = data_base['Up_Down'].shift(-1)\n",
    "\n",
    "data_base.dropna(inplace=True)"
   ]
  },
  {
   "cell_type": "code",
   "execution_count": 31,
   "id": "3418297c",
   "metadata": {},
   "outputs": [],
   "source": [
    "#Filtramos las columnas que nos interesan para obtener el dataset de trabajo\n",
    "db = data_base.copy()\n",
    "\n",
    "\n",
    "data = db[['Up_Down','log_ret','Open', 'High', 'Low', 'Close', 'Adj Close','Volume', '200ema',\n",
    "       '50ema', '20ema', '14-high', '14-low', '%K', '%D', 'RSI', 'MACD',\n",
    "       'MACDh', 'MACDs', 'CCI', 'PSAR', 'BBl', 'BBm', 'BBu', 'BBb', 'BBp',\n",
    "       'ATR', 'ADX', 'ADX_DMP', 'ADX_DMN', 'APO', 'AROON_D', 'AROON_U',\n",
    "       'AROON_OSC', 'BOP', 'CMO', 'MOM', 'PPO', 'PPO_h', 'PPO_s', 'ROC',\n",
    "       'STOCHRSI_k', 'STOCHRSI_d', 'TRIX', 'TRIX_s', 'WILLR', 'NATR',\n",
    "       'CDL_2CROWS', 'CDL_3BLACKCROWS', 'CDL_3INSIDE', 'CDL_3LINESTRIKE',\n",
    "       'CDL_3OUTSIDE', 'CDL_3STARSINSOUTH', 'CDL_3WHITESOLDIERS',\n",
    "       'CDL_ABANDONEDBABY', 'CDL_ADVANCEBLOCK', 'CDL_BELTHOLD',\n",
    "       'CDL_BREAKAWAY', 'CDL_CLOSINGMARUBOZU', 'CDL_CONCEALBABYSWALL',\n",
    "       'CDL_COUNTERATTACK', 'CDL_DARKCLOUDCOVER', 'CDL_DOJI_10_0.1',\n",
    "       'CDL_DOJISTAR', 'CDL_DRAGONFLYDOJI', 'CDL_ENGULFING',\n",
    "       'CDL_EVENINGDOJISTAR', 'CDL_EVENINGSTAR', 'CDL_GAPSIDESIDEWHITE',\n",
    "       'CDL_GRAVESTONEDOJI', 'CDL_HAMMER', 'CDL_HANGINGMAN', 'CDL_HARAMI',\n",
    "       'CDL_HARAMICROSS', 'CDL_HIGHWAVE', 'CDL_HIKKAKE', 'CDL_HIKKAKEMOD',\n",
    "       'CDL_HOMINGPIGEON', 'CDL_IDENTICAL3CROWS', 'CDL_INNECK',\n",
    "       'CDL_INSIDE', 'CDL_INVERTEDHAMMER', 'CDL_KICKING',\n",
    "       'CDL_KICKINGBYLENGTH', 'CDL_LADDERBOTTOM', 'CDL_LONGLEGGEDDOJI',\n",
    "       'CDL_LONGLINE', 'CDL_MARUBOZU', 'CDL_MATCHINGLOW', 'CDL_MATHOLD',\n",
    "       'CDL_MORNINGDOJISTAR', 'CDL_MORNINGSTAR', 'CDL_ONNECK',\n",
    "       'CDL_PIERCING', 'CDL_RICKSHAWMAN', 'CDL_RISEFALL3METHODS',\n",
    "       'CDL_SEPARATINGLINES', 'CDL_SHOOTINGSTAR', 'CDL_SHORTLINE',\n",
    "       'CDL_SPINNINGTOP', 'CDL_STALLEDPATTERN', 'CDL_STICKSANDWICH',\n",
    "       'CDL_TAKURI', 'CDL_TASUKIGAP', 'CDL_THRUSTING', 'CDL_TRISTAR',\n",
    "       'CDL_UNIQUE3RIVER', 'CDL_UPSIDEGAP2CROWS', 'CDL_XSIDEGAP3METHODS']]\n",
    "\n",
    "\n",
    "cols = data.columns"
   ]
  },
  {
   "cell_type": "code",
   "execution_count": 32,
   "id": "92378889",
   "metadata": {
    "scrolled": true
   },
   "outputs": [],
   "source": [
    "data.reset_index(inplace=True)\n",
    "data.drop(columns=data.columns[0], inplace=True)"
   ]
  },
  {
   "cell_type": "markdown",
   "id": "fa7ec515",
   "metadata": {},
   "source": [
    "## Preparacion datos para el LSTM"
   ]
  },
  {
   "cell_type": "code",
   "execution_count": 33,
   "id": "dfeaca60",
   "metadata": {
    "scrolled": false
   },
   "outputs": [
    {
     "data": {
      "text/html": [
       "<div>\n",
       "<style scoped>\n",
       "    .dataframe tbody tr th:only-of-type {\n",
       "        vertical-align: middle;\n",
       "    }\n",
       "\n",
       "    .dataframe tbody tr th {\n",
       "        vertical-align: top;\n",
       "    }\n",
       "\n",
       "    .dataframe thead th {\n",
       "        text-align: right;\n",
       "    }\n",
       "</style>\n",
       "<table border=\"1\" class=\"dataframe\">\n",
       "  <thead>\n",
       "    <tr style=\"text-align: right;\">\n",
       "      <th></th>\n",
       "      <th>Up_Down</th>\n",
       "      <th>log_ret</th>\n",
       "      <th>Open</th>\n",
       "      <th>High</th>\n",
       "      <th>Low</th>\n",
       "      <th>Close</th>\n",
       "      <th>Adj Close</th>\n",
       "      <th>Volume</th>\n",
       "      <th>200ema</th>\n",
       "      <th>50ema</th>\n",
       "      <th>...</th>\n",
       "      <th>CDL_SPINNINGTOP</th>\n",
       "      <th>CDL_STALLEDPATTERN</th>\n",
       "      <th>CDL_STICKSANDWICH</th>\n",
       "      <th>CDL_TAKURI</th>\n",
       "      <th>CDL_TASUKIGAP</th>\n",
       "      <th>CDL_THRUSTING</th>\n",
       "      <th>CDL_TRISTAR</th>\n",
       "      <th>CDL_UNIQUE3RIVER</th>\n",
       "      <th>CDL_UPSIDEGAP2CROWS</th>\n",
       "      <th>CDL_XSIDEGAP3METHODS</th>\n",
       "    </tr>\n",
       "  </thead>\n",
       "  <tbody>\n",
       "    <tr>\n",
       "      <th>0</th>\n",
       "      <td>1.0</td>\n",
       "      <td>-0.000910</td>\n",
       "      <td>0.65910</td>\n",
       "      <td>0.66070</td>\n",
       "      <td>0.65620</td>\n",
       "      <td>0.65850</td>\n",
       "      <td>0.65850</td>\n",
       "      <td>0</td>\n",
       "      <td>0.673729</td>\n",
       "      <td>0.665763</td>\n",
       "      <td>...</td>\n",
       "      <td>-100.0</td>\n",
       "      <td>0.0</td>\n",
       "      <td>0.0</td>\n",
       "      <td>0.0</td>\n",
       "      <td>0.0</td>\n",
       "      <td>0.0</td>\n",
       "      <td>0.0</td>\n",
       "      <td>0.0</td>\n",
       "      <td>0.0</td>\n",
       "      <td>0.0</td>\n",
       "    </tr>\n",
       "    <tr>\n",
       "      <th>1</th>\n",
       "      <td>0.0</td>\n",
       "      <td>0.002733</td>\n",
       "      <td>0.65840</td>\n",
       "      <td>0.66090</td>\n",
       "      <td>0.65580</td>\n",
       "      <td>0.66030</td>\n",
       "      <td>0.66030</td>\n",
       "      <td>0</td>\n",
       "      <td>0.673515</td>\n",
       "      <td>0.665549</td>\n",
       "      <td>...</td>\n",
       "      <td>0.0</td>\n",
       "      <td>0.0</td>\n",
       "      <td>0.0</td>\n",
       "      <td>0.0</td>\n",
       "      <td>0.0</td>\n",
       "      <td>0.0</td>\n",
       "      <td>0.0</td>\n",
       "      <td>0.0</td>\n",
       "      <td>0.0</td>\n",
       "      <td>0.0</td>\n",
       "    </tr>\n",
       "    <tr>\n",
       "      <th>2</th>\n",
       "      <td>1.0</td>\n",
       "      <td>-0.000151</td>\n",
       "      <td>0.65980</td>\n",
       "      <td>0.66180</td>\n",
       "      <td>0.65820</td>\n",
       "      <td>0.66020</td>\n",
       "      <td>0.66020</td>\n",
       "      <td>0</td>\n",
       "      <td>0.673304</td>\n",
       "      <td>0.665339</td>\n",
       "      <td>...</td>\n",
       "      <td>100.0</td>\n",
       "      <td>0.0</td>\n",
       "      <td>0.0</td>\n",
       "      <td>0.0</td>\n",
       "      <td>0.0</td>\n",
       "      <td>0.0</td>\n",
       "      <td>0.0</td>\n",
       "      <td>0.0</td>\n",
       "      <td>0.0</td>\n",
       "      <td>0.0</td>\n",
       "    </tr>\n",
       "    <tr>\n",
       "      <th>3</th>\n",
       "      <td>1.0</td>\n",
       "      <td>0.001212</td>\n",
       "      <td>0.66000</td>\n",
       "      <td>0.66140</td>\n",
       "      <td>0.65760</td>\n",
       "      <td>0.66100</td>\n",
       "      <td>0.66100</td>\n",
       "      <td>0</td>\n",
       "      <td>0.673110</td>\n",
       "      <td>0.665169</td>\n",
       "      <td>...</td>\n",
       "      <td>0.0</td>\n",
       "      <td>0.0</td>\n",
       "      <td>0.0</td>\n",
       "      <td>0.0</td>\n",
       "      <td>0.0</td>\n",
       "      <td>0.0</td>\n",
       "      <td>0.0</td>\n",
       "      <td>0.0</td>\n",
       "      <td>0.0</td>\n",
       "      <td>0.0</td>\n",
       "    </tr>\n",
       "    <tr>\n",
       "      <th>4</th>\n",
       "      <td>0.0</td>\n",
       "      <td>0.003933</td>\n",
       "      <td>0.65990</td>\n",
       "      <td>0.66390</td>\n",
       "      <td>0.65830</td>\n",
       "      <td>0.66360</td>\n",
       "      <td>0.66360</td>\n",
       "      <td>0</td>\n",
       "      <td>0.672961</td>\n",
       "      <td>0.665108</td>\n",
       "      <td>...</td>\n",
       "      <td>0.0</td>\n",
       "      <td>0.0</td>\n",
       "      <td>0.0</td>\n",
       "      <td>0.0</td>\n",
       "      <td>0.0</td>\n",
       "      <td>0.0</td>\n",
       "      <td>0.0</td>\n",
       "      <td>0.0</td>\n",
       "      <td>0.0</td>\n",
       "      <td>0.0</td>\n",
       "    </tr>\n",
       "    <tr>\n",
       "      <th>...</th>\n",
       "      <td>...</td>\n",
       "      <td>...</td>\n",
       "      <td>...</td>\n",
       "      <td>...</td>\n",
       "      <td>...</td>\n",
       "      <td>...</td>\n",
       "      <td>...</td>\n",
       "      <td>...</td>\n",
       "      <td>...</td>\n",
       "      <td>...</td>\n",
       "      <td>...</td>\n",
       "      <td>...</td>\n",
       "      <td>...</td>\n",
       "      <td>...</td>\n",
       "      <td>...</td>\n",
       "      <td>...</td>\n",
       "      <td>...</td>\n",
       "      <td>...</td>\n",
       "      <td>...</td>\n",
       "      <td>...</td>\n",
       "      <td>...</td>\n",
       "    </tr>\n",
       "    <tr>\n",
       "      <th>5787</th>\n",
       "      <td>0.0</td>\n",
       "      <td>-0.001849</td>\n",
       "      <td>0.85816</td>\n",
       "      <td>0.85928</td>\n",
       "      <td>0.85623</td>\n",
       "      <td>0.85811</td>\n",
       "      <td>0.85811</td>\n",
       "      <td>0</td>\n",
       "      <td>0.866571</td>\n",
       "      <td>0.855628</td>\n",
       "      <td>...</td>\n",
       "      <td>-100.0</td>\n",
       "      <td>0.0</td>\n",
       "      <td>0.0</td>\n",
       "      <td>0.0</td>\n",
       "      <td>0.0</td>\n",
       "      <td>0.0</td>\n",
       "      <td>-100.0</td>\n",
       "      <td>0.0</td>\n",
       "      <td>0.0</td>\n",
       "      <td>0.0</td>\n",
       "    </tr>\n",
       "    <tr>\n",
       "      <th>5788</th>\n",
       "      <td>1.0</td>\n",
       "      <td>-0.000827</td>\n",
       "      <td>0.85762</td>\n",
       "      <td>0.85856</td>\n",
       "      <td>0.85660</td>\n",
       "      <td>0.85740</td>\n",
       "      <td>0.85740</td>\n",
       "      <td>0</td>\n",
       "      <td>0.866480</td>\n",
       "      <td>0.855697</td>\n",
       "      <td>...</td>\n",
       "      <td>0.0</td>\n",
       "      <td>0.0</td>\n",
       "      <td>0.0</td>\n",
       "      <td>0.0</td>\n",
       "      <td>0.0</td>\n",
       "      <td>0.0</td>\n",
       "      <td>0.0</td>\n",
       "      <td>0.0</td>\n",
       "      <td>0.0</td>\n",
       "      <td>0.0</td>\n",
       "    </tr>\n",
       "    <tr>\n",
       "      <th>5789</th>\n",
       "      <td>1.0</td>\n",
       "      <td>0.000467</td>\n",
       "      <td>0.85794</td>\n",
       "      <td>0.86128</td>\n",
       "      <td>0.85750</td>\n",
       "      <td>0.85780</td>\n",
       "      <td>0.85780</td>\n",
       "      <td>0</td>\n",
       "      <td>0.866393</td>\n",
       "      <td>0.855780</td>\n",
       "      <td>...</td>\n",
       "      <td>0.0</td>\n",
       "      <td>0.0</td>\n",
       "      <td>0.0</td>\n",
       "      <td>0.0</td>\n",
       "      <td>0.0</td>\n",
       "      <td>0.0</td>\n",
       "      <td>100.0</td>\n",
       "      <td>0.0</td>\n",
       "      <td>0.0</td>\n",
       "      <td>0.0</td>\n",
       "    </tr>\n",
       "    <tr>\n",
       "      <th>5790</th>\n",
       "      <td>0.0</td>\n",
       "      <td>0.001900</td>\n",
       "      <td>0.85944</td>\n",
       "      <td>0.86017</td>\n",
       "      <td>0.85770</td>\n",
       "      <td>0.85943</td>\n",
       "      <td>0.85943</td>\n",
       "      <td>0</td>\n",
       "      <td>0.866324</td>\n",
       "      <td>0.855923</td>\n",
       "      <td>...</td>\n",
       "      <td>-100.0</td>\n",
       "      <td>0.0</td>\n",
       "      <td>0.0</td>\n",
       "      <td>0.0</td>\n",
       "      <td>0.0</td>\n",
       "      <td>0.0</td>\n",
       "      <td>0.0</td>\n",
       "      <td>0.0</td>\n",
       "      <td>0.0</td>\n",
       "      <td>0.0</td>\n",
       "    </tr>\n",
       "    <tr>\n",
       "      <th>5791</th>\n",
       "      <td>0.0</td>\n",
       "      <td>-0.001152</td>\n",
       "      <td>0.85840</td>\n",
       "      <td>0.85880</td>\n",
       "      <td>0.85245</td>\n",
       "      <td>0.85844</td>\n",
       "      <td>0.85844</td>\n",
       "      <td>0</td>\n",
       "      <td>0.866246</td>\n",
       "      <td>0.856022</td>\n",
       "      <td>...</td>\n",
       "      <td>100.0</td>\n",
       "      <td>0.0</td>\n",
       "      <td>0.0</td>\n",
       "      <td>0.0</td>\n",
       "      <td>0.0</td>\n",
       "      <td>0.0</td>\n",
       "      <td>-100.0</td>\n",
       "      <td>0.0</td>\n",
       "      <td>0.0</td>\n",
       "      <td>0.0</td>\n",
       "    </tr>\n",
       "  </tbody>\n",
       "</table>\n",
       "<p>5792 rows × 109 columns</p>\n",
       "</div>"
      ],
      "text/plain": [
       "      Up_Down   log_ret     Open     High      Low    Close  Adj Close  \\\n",
       "0         1.0 -0.000910  0.65910  0.66070  0.65620  0.65850    0.65850   \n",
       "1         0.0  0.002733  0.65840  0.66090  0.65580  0.66030    0.66030   \n",
       "2         1.0 -0.000151  0.65980  0.66180  0.65820  0.66020    0.66020   \n",
       "3         1.0  0.001212  0.66000  0.66140  0.65760  0.66100    0.66100   \n",
       "4         0.0  0.003933  0.65990  0.66390  0.65830  0.66360    0.66360   \n",
       "...       ...       ...      ...      ...      ...      ...        ...   \n",
       "5787      0.0 -0.001849  0.85816  0.85928  0.85623  0.85811    0.85811   \n",
       "5788      1.0 -0.000827  0.85762  0.85856  0.85660  0.85740    0.85740   \n",
       "5789      1.0  0.000467  0.85794  0.86128  0.85750  0.85780    0.85780   \n",
       "5790      0.0  0.001900  0.85944  0.86017  0.85770  0.85943    0.85943   \n",
       "5791      0.0 -0.001152  0.85840  0.85880  0.85245  0.85844    0.85844   \n",
       "\n",
       "      Volume    200ema     50ema  ...  CDL_SPINNINGTOP  CDL_STALLEDPATTERN  \\\n",
       "0          0  0.673729  0.665763  ...           -100.0                 0.0   \n",
       "1          0  0.673515  0.665549  ...              0.0                 0.0   \n",
       "2          0  0.673304  0.665339  ...            100.0                 0.0   \n",
       "3          0  0.673110  0.665169  ...              0.0                 0.0   \n",
       "4          0  0.672961  0.665108  ...              0.0                 0.0   \n",
       "...      ...       ...       ...  ...              ...                 ...   \n",
       "5787       0  0.866571  0.855628  ...           -100.0                 0.0   \n",
       "5788       0  0.866480  0.855697  ...              0.0                 0.0   \n",
       "5789       0  0.866393  0.855780  ...              0.0                 0.0   \n",
       "5790       0  0.866324  0.855923  ...           -100.0                 0.0   \n",
       "5791       0  0.866246  0.856022  ...            100.0                 0.0   \n",
       "\n",
       "      CDL_STICKSANDWICH  CDL_TAKURI  CDL_TASUKIGAP  CDL_THRUSTING  \\\n",
       "0                   0.0         0.0            0.0            0.0   \n",
       "1                   0.0         0.0            0.0            0.0   \n",
       "2                   0.0         0.0            0.0            0.0   \n",
       "3                   0.0         0.0            0.0            0.0   \n",
       "4                   0.0         0.0            0.0            0.0   \n",
       "...                 ...         ...            ...            ...   \n",
       "5787                0.0         0.0            0.0            0.0   \n",
       "5788                0.0         0.0            0.0            0.0   \n",
       "5789                0.0         0.0            0.0            0.0   \n",
       "5790                0.0         0.0            0.0            0.0   \n",
       "5791                0.0         0.0            0.0            0.0   \n",
       "\n",
       "      CDL_TRISTAR  CDL_UNIQUE3RIVER  CDL_UPSIDEGAP2CROWS  CDL_XSIDEGAP3METHODS  \n",
       "0             0.0               0.0                  0.0                   0.0  \n",
       "1             0.0               0.0                  0.0                   0.0  \n",
       "2             0.0               0.0                  0.0                   0.0  \n",
       "3             0.0               0.0                  0.0                   0.0  \n",
       "4             0.0               0.0                  0.0                   0.0  \n",
       "...           ...               ...                  ...                   ...  \n",
       "5787       -100.0               0.0                  0.0                   0.0  \n",
       "5788          0.0               0.0                  0.0                   0.0  \n",
       "5789        100.0               0.0                  0.0                   0.0  \n",
       "5790          0.0               0.0                  0.0                   0.0  \n",
       "5791       -100.0               0.0                  0.0                   0.0  \n",
       "\n",
       "[5792 rows x 109 columns]"
      ]
     },
     "execution_count": 33,
     "metadata": {},
     "output_type": "execute_result"
    }
   ],
   "source": [
    "data"
   ]
  },
  {
   "cell_type": "code",
   "execution_count": 11,
   "id": "fd563a03",
   "metadata": {},
   "outputs": [],
   "source": [
    "#Convertimos todas las columnas a valor numerico\n",
    "data = data.apply(pd.to_numeric)\n",
    "\n",
    "\n",
    "#Escalamos los valores con un MinMaxScaler\n",
    "\n",
    "#data['200ema'] = data['200ema'].pct_change()\n",
    "#data['50ema'] = data['50ema'].pct_change()\n",
    "#data['20ema'] = data['20ema'].pct_change()\n",
    "\n",
    "data.dropna(inplace=True)\n",
    "\n",
    "values = data.values\n",
    "\n",
    "scaler = MinMaxScaler(feature_range=(0, 1))\n",
    "scaled = scaler.fit_transform(values)\n",
    "\n",
    "values = scaled"
   ]
  },
  {
   "cell_type": "code",
   "execution_count": 25,
   "id": "db5c0839",
   "metadata": {},
   "outputs": [
    {
     "data": {
      "text/plain": [
       "(5793, 108)"
      ]
     },
     "execution_count": 25,
     "metadata": {},
     "output_type": "execute_result"
    }
   ],
   "source": [
    "values.shape"
   ]
  },
  {
   "cell_type": "code",
   "execution_count": 13,
   "id": "711018d4",
   "metadata": {},
   "outputs": [
    {
     "name": "stdout",
     "output_type": "stream",
     "text": [
      "(4634, 1, 108) (579, 1, 108) (580, 1, 108)\n"
     ]
    }
   ],
   "source": [
    "#Dividimos los datos entre train y test\n",
    "train_X, val = train_test_split(values, test_size=0.2, shuffle=False)\n",
    "\n",
    "#Dividimos datos validation entre validation y test\n",
    "val_X, test_X = train_test_split(val, test_size=0.5, shuffle=False)\n",
    "\n",
    "#Generamos el reshape para poder incluir los valores en el modelo LSTM\n",
    "train_X = train_X.reshape((train_X.shape[0], 1, train_X.shape[1]))\n",
    "val_X = val_X.reshape((val_X.shape[0], 1, val_X.shape[1]))\n",
    "test_X = test_X.reshape((test_X.shape[0], 1, test_X.shape[1]))\n",
    "print(train_X.shape, val_X.shape, test_X.shape)"
   ]
  },
  {
   "cell_type": "code",
   "execution_count": 23,
   "id": "c25f99c0",
   "metadata": {},
   "outputs": [
    {
     "data": {
      "text/plain": [
       "(580, 1, 108)"
      ]
     },
     "execution_count": 23,
     "metadata": {},
     "output_type": "execute_result"
    }
   ],
   "source": [
    "test_X.shape"
   ]
  },
  {
   "cell_type": "markdown",
   "id": "8d9e8e96",
   "metadata": {},
   "source": [
    "## Resultados con valores de test"
   ]
  },
  {
   "cell_type": "code",
   "execution_count": 15,
   "id": "abecbb08",
   "metadata": {},
   "outputs": [],
   "source": [
    "# make a prediction\n",
    "yhat = load_model.predict(test_X)"
   ]
  },
  {
   "cell_type": "code",
   "execution_count": 24,
   "id": "2093e240",
   "metadata": {},
   "outputs": [
    {
     "data": {
      "text/plain": [
       "(580, 1, 1)"
      ]
     },
     "execution_count": 24,
     "metadata": {},
     "output_type": "execute_result"
    }
   ],
   "source": [
    "yhat.shape"
   ]
  },
  {
   "cell_type": "code",
   "execution_count": 17,
   "id": "32bf3c80",
   "metadata": {},
   "outputs": [],
   "source": [
    "yhat_re = yhat.reshape((yhat.shape[0], yhat.shape[1]))"
   ]
  },
  {
   "cell_type": "code",
   "execution_count": 26,
   "id": "3e6e421e",
   "metadata": {},
   "outputs": [
    {
     "data": {
      "text/plain": [
       "(580, 1)"
      ]
     },
     "execution_count": 26,
     "metadata": {},
     "output_type": "execute_result"
    }
   ],
   "source": [
    "yhat_re.shape"
   ]
  },
  {
   "cell_type": "code",
   "execution_count": 19,
   "id": "b81124fc",
   "metadata": {},
   "outputs": [],
   "source": [
    "test_X_re = test_X.reshape((test_X.shape[0], test_X.shape[2]))\n",
    "inv_yhat = np.concatenate((yhat_re, test_X_re), axis=1)"
   ]
  },
  {
   "cell_type": "code",
   "execution_count": 22,
   "id": "29022d0a",
   "metadata": {},
   "outputs": [
    {
     "data": {
      "text/plain": [
       "(580, 109)"
      ]
     },
     "execution_count": 22,
     "metadata": {},
     "output_type": "execute_result"
    }
   ],
   "source": [
    "inv_yhat.shape"
   ]
  },
  {
   "cell_type": "code",
   "execution_count": 20,
   "id": "9a99c255",
   "metadata": {},
   "outputs": [
    {
     "ename": "ValueError",
     "evalue": "operands could not be broadcast together with shapes (580,109) (108,) (580,109) ",
     "output_type": "error",
     "traceback": [
      "\u001b[1;31m---------------------------------------------------------------------------\u001b[0m",
      "\u001b[1;31mValueError\u001b[0m                                Traceback (most recent call last)",
      "\u001b[1;32m~\\AppData\\Local\\Temp/ipykernel_11160/993166437.py\u001b[0m in \u001b[0;36m<module>\u001b[1;34m\u001b[0m\n\u001b[1;32m----> 1\u001b[1;33m \u001b[0minv_yhat\u001b[0m \u001b[1;33m=\u001b[0m \u001b[0mscaler\u001b[0m\u001b[1;33m.\u001b[0m\u001b[0minverse_transform\u001b[0m\u001b[1;33m(\u001b[0m\u001b[0minv_yhat\u001b[0m\u001b[1;33m)\u001b[0m\u001b[1;33m\u001b[0m\u001b[1;33m\u001b[0m\u001b[0m\n\u001b[0m\u001b[0;32m      2\u001b[0m \u001b[1;33m\u001b[0m\u001b[0m\n\u001b[0;32m      3\u001b[0m \u001b[1;33m\u001b[0m\u001b[0m\n\u001b[0;32m      4\u001b[0m \u001b[1;33m\u001b[0m\u001b[0m\n",
      "\u001b[1;32m~\\anaconda3\\envs\\StockPrediction\\lib\\site-packages\\sklearn\\preprocessing\\_data.py\u001b[0m in \u001b[0;36minverse_transform\u001b[1;34m(self, X)\u001b[0m\n\u001b[0;32m    459\u001b[0m                         force_all_finite=\"allow-nan\")\n\u001b[0;32m    460\u001b[0m \u001b[1;33m\u001b[0m\u001b[0m\n\u001b[1;32m--> 461\u001b[1;33m         \u001b[0mX\u001b[0m \u001b[1;33m-=\u001b[0m \u001b[0mself\u001b[0m\u001b[1;33m.\u001b[0m\u001b[0mmin_\u001b[0m\u001b[1;33m\u001b[0m\u001b[1;33m\u001b[0m\u001b[0m\n\u001b[0m\u001b[0;32m    462\u001b[0m         \u001b[0mX\u001b[0m \u001b[1;33m/=\u001b[0m \u001b[0mself\u001b[0m\u001b[1;33m.\u001b[0m\u001b[0mscale_\u001b[0m\u001b[1;33m\u001b[0m\u001b[1;33m\u001b[0m\u001b[0m\n\u001b[0;32m    463\u001b[0m         \u001b[1;32mreturn\u001b[0m \u001b[0mX\u001b[0m\u001b[1;33m\u001b[0m\u001b[1;33m\u001b[0m\u001b[0m\n",
      "\u001b[1;31mValueError\u001b[0m: operands could not be broadcast together with shapes (580,109) (108,) (580,109) "
     ]
    }
   ],
   "source": [
    "inv_yhat = scaler.inverse_transform(inv_yhat)\n",
    "\n",
    "\n",
    "\n"
   ]
  },
  {
   "cell_type": "code",
   "execution_count": null,
   "id": "373e14c5",
   "metadata": {},
   "outputs": [],
   "source": []
  }
 ],
 "metadata": {
  "kernelspec": {
   "display_name": "Python 3 (ipykernel)",
   "language": "python",
   "name": "python3"
  },
  "language_info": {
   "codemirror_mode": {
    "name": "ipython",
    "version": 3
   },
   "file_extension": ".py",
   "mimetype": "text/x-python",
   "name": "python",
   "nbconvert_exporter": "python",
   "pygments_lexer": "ipython3",
   "version": "3.7.11"
  }
 },
 "nbformat": 4,
 "nbformat_minor": 5
}
