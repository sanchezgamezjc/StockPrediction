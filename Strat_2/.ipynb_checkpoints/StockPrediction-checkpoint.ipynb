{
 "cells": [
  {
   "cell_type": "code",
   "execution_count": 1,
   "id": "5752236b",
   "metadata": {},
   "outputs": [],
   "source": [
    "import pandas as pd\n",
    "import talib\n",
    "\n",
    "\n",
    "import yfinance as yf\n",
    "import datetime as dt\n",
    "import pandas_ta as pta\n",
    "import matplotlib.pyplot as plt\n",
    "import numpy as np\n",
    "from scipy import stats\n",
    "\n",
    "\n",
    "from sklearn.preprocessing import MinMaxScaler\n",
    "from sklearn.model_selection import train_test_split\n",
    "from sklearn.metrics import mean_squared_error\n",
    "\n",
    "from tensorflow.keras import Sequential\n",
    "from tensorflow.keras.layers import Dense, LSTM, Dropout, Conv1D, Conv2D, Flatten, MaxPooling1D, BatchNormalization\n",
    "from tensorflow.keras.optimizers import SGD, Adam\n",
    "from tensorflow.keras.optimizers.schedules import ExponentialDecay"
   ]
  },
  {
   "cell_type": "code",
   "execution_count": 2,
   "id": "843600ba",
   "metadata": {},
   "outputs": [],
   "source": [
    "import sys\n",
    "\n",
    "pth_apple = \"/Users/josesanchez/Desktop/Code/GitHub/StockPrediction/FileBase\"\n",
    "pth_win = \"/Users/Usuario/Desktop/GitHub/StockPrediction/FileBase\"\n",
    "sys.path.append(pth_win)\n",
    "\n",
    "\n",
    "from root_functions import add_indicators, up_down, full_prediction, full_prediction_binary, result, aprox_beneficios"
   ]
  },
  {
   "cell_type": "markdown",
   "id": "ffb2c26a",
   "metadata": {},
   "source": [
    "## Descarga datos y creación dataset"
   ]
  },
  {
   "cell_type": "code",
   "execution_count": 3,
   "id": "1ab7bfea",
   "metadata": {},
   "outputs": [],
   "source": [
    "sample_per = 10000\n",
    "stock = 'EURGBP=X'\n",
    "\n",
    "end = dt.date.today()- dt.timedelta(days=2)\n",
    "start = end - dt.timedelta(days=(sample_per))\n",
    "interval = '1d'"
   ]
  },
  {
   "cell_type": "code",
   "execution_count": 4,
   "id": "90c3e1a3",
   "metadata": {
    "scrolled": false
   },
   "outputs": [
    {
     "name": "stdout",
     "output_type": "stream",
     "text": [
      "[*********************100%***********************]  1 of 1 completed\n"
     ]
    }
   ],
   "source": [
    "database = yf.download(stock, start=start, end=end, interval=interval)"
   ]
  },
  {
   "cell_type": "markdown",
   "id": "67d6cafd",
   "metadata": {},
   "source": [
    "## Add Indicators"
   ]
  },
  {
   "cell_type": "code",
   "execution_count": 5,
   "id": "116f7d54",
   "metadata": {
    "scrolled": true
   },
   "outputs": [
    {
     "name": "stderr",
     "output_type": "stream",
     "text": [
      "/Users/Usuario/Desktop/GitHub/StockPrediction/FileBase\\root_functions.py:182: PerformanceWarning: DataFrame is highly fragmented.  This is usually the result of calling `frame.insert` many times, which has poor performance.  Consider joining all columns at once using pd.concat(axis=1) instead.  To get a de-fragmented frame, use `newframe = frame.copy()`\n",
      "  dataframe['CDL_UNIQUE3RIVER'] = cdl_pattern.iloc[:,59].values\n",
      "/Users/Usuario/Desktop/GitHub/StockPrediction/FileBase\\root_functions.py:183: PerformanceWarning: DataFrame is highly fragmented.  This is usually the result of calling `frame.insert` many times, which has poor performance.  Consider joining all columns at once using pd.concat(axis=1) instead.  To get a de-fragmented frame, use `newframe = frame.copy()`\n",
      "  dataframe['CDL_UPSIDEGAP2CROWS'] = cdl_pattern.iloc[:,60].values\n",
      "/Users/Usuario/Desktop/GitHub/StockPrediction/FileBase\\root_functions.py:184: PerformanceWarning: DataFrame is highly fragmented.  This is usually the result of calling `frame.insert` many times, which has poor performance.  Consider joining all columns at once using pd.concat(axis=1) instead.  To get a de-fragmented frame, use `newframe = frame.copy()`\n",
      "  dataframe['CDL_XSIDEGAP3METHODS'] = cdl_pattern.iloc[:,61].values\n"
     ]
    },
    {
     "data": {
      "text/plain": [
       "Index(['Open', 'High', 'Low', 'Close', 'Adj Close', 'Volume', '200ema',\n",
       "       '50ema', '20ema', '14-high',\n",
       "       ...\n",
       "       'CDL_STICKSANDWICH', 'CDL_TAKURI', 'CDL_TASUKIGAP', 'CDL_THRUSTING',\n",
       "       'CDL_TRISTAR', 'CDL_UNIQUE3RIVER', 'CDL_UPSIDEGAP2CROWS',\n",
       "       'CDL_XSIDEGAP3METHODS', 'log_ret', 'Up_Down'],\n",
       "      dtype='object', length=109)"
      ]
     },
     "execution_count": 5,
     "metadata": {},
     "output_type": "execute_result"
    }
   ],
   "source": [
    "#Añadimos indicadores\n",
    "\n",
    "ema1=200\n",
    "ema2=50\n",
    "ema3=20\n",
    "\n",
    "data_base = add_indicators(database)\n",
    "\n",
    "#Añadimos columna up_down\n",
    "data_base = up_down(data_base)\n",
    "\n",
    "#Listado indicadores\n",
    "data_base.columns"
   ]
  },
  {
   "cell_type": "code",
   "execution_count": 6,
   "id": "46f2cb8f",
   "metadata": {},
   "outputs": [
    {
     "data": {
      "text/plain": [
       "array(['Open', 'High', 'Low', 'Close', 'Adj Close', 'Volume', '200ema',\n",
       "       '50ema', '20ema', '14-high', '14-low', '%K', '%D', 'RSI', 'MACD',\n",
       "       'MACDh', 'MACDs', 'CCI', 'PSAR', 'BBl', 'BBm', 'BBu', 'BBb', 'BBp',\n",
       "       'ATR', 'ADX', 'ADX_DMP', 'ADX_DMN', 'APO', 'AROON_D', 'AROON_U',\n",
       "       'AROON_OSC', 'BOP', 'CMO', 'MOM', 'PPO', 'PPO_h', 'PPO_s', 'ROC',\n",
       "       'STOCHRSI_k', 'STOCHRSI_d', 'TRIX', 'TRIX_s', 'WILLR', 'NATR',\n",
       "       'CDL_2CROWS', 'CDL_3BLACKCROWS', 'CDL_3INSIDE', 'CDL_3LINESTRIKE',\n",
       "       'CDL_3OUTSIDE', 'CDL_3STARSINSOUTH', 'CDL_3WHITESOLDIERS',\n",
       "       'CDL_ABANDONEDBABY', 'CDL_ADVANCEBLOCK', 'CDL_BELTHOLD',\n",
       "       'CDL_BREAKAWAY', 'CDL_CLOSINGMARUBOZU', 'CDL_CONCEALBABYSWALL',\n",
       "       'CDL_COUNTERATTACK', 'CDL_DARKCLOUDCOVER', 'CDL_DOJI_10_0.1',\n",
       "       'CDL_DOJISTAR', 'CDL_DRAGONFLYDOJI', 'CDL_ENGULFING',\n",
       "       'CDL_EVENINGDOJISTAR', 'CDL_EVENINGSTAR', 'CDL_GAPSIDESIDEWHITE',\n",
       "       'CDL_GRAVESTONEDOJI', 'CDL_HAMMER', 'CDL_HANGINGMAN', 'CDL_HARAMI',\n",
       "       'CDL_HARAMICROSS', 'CDL_HIGHWAVE', 'CDL_HIKKAKE', 'CDL_HIKKAKEMOD',\n",
       "       'CDL_HOMINGPIGEON', 'CDL_IDENTICAL3CROWS', 'CDL_INNECK',\n",
       "       'CDL_INSIDE', 'CDL_INVERTEDHAMMER', 'CDL_KICKING',\n",
       "       'CDL_KICKINGBYLENGTH', 'CDL_LADDERBOTTOM', 'CDL_LONGLEGGEDDOJI',\n",
       "       'CDL_LONGLINE', 'CDL_MARUBOZU', 'CDL_MATCHINGLOW', 'CDL_MATHOLD',\n",
       "       'CDL_MORNINGDOJISTAR', 'CDL_MORNINGSTAR', 'CDL_ONNECK',\n",
       "       'CDL_PIERCING', 'CDL_RICKSHAWMAN', 'CDL_RISEFALL3METHODS',\n",
       "       'CDL_SEPARATINGLINES', 'CDL_SHOOTINGSTAR', 'CDL_SHORTLINE',\n",
       "       'CDL_SPINNINGTOP', 'CDL_STALLEDPATTERN', 'CDL_STICKSANDWICH',\n",
       "       'CDL_TAKURI', 'CDL_TASUKIGAP', 'CDL_THRUSTING', 'CDL_TRISTAR',\n",
       "       'CDL_UNIQUE3RIVER', 'CDL_UPSIDEGAP2CROWS', 'CDL_XSIDEGAP3METHODS',\n",
       "       'log_ret', 'Up_Down'], dtype=object)"
      ]
     },
     "execution_count": 6,
     "metadata": {},
     "output_type": "execute_result"
    }
   ],
   "source": [
    "data_base.columns.values"
   ]
  },
  {
   "cell_type": "code",
   "execution_count": 7,
   "id": "ef44e7a7",
   "metadata": {},
   "outputs": [],
   "source": [
    "#Hacemos un shift a la columna Up_Down para tener el signo de la tendencia de la siguiente vela\n",
    "data_base['Up_Down'] = data_base['Up_Down'].shift(-1)\n",
    "\n",
    "data_base.dropna(inplace=True)"
   ]
  },
  {
   "cell_type": "code",
   "execution_count": 8,
   "id": "3418297c",
   "metadata": {},
   "outputs": [],
   "source": [
    "#Filtramos las columnas que nos interesan para obtener el dataset de trabajo\n",
    "db = data_base.copy()\n",
    "\n",
    "\n",
    "data = db[['Up_Down','log_ret','Open', 'High', 'Low', 'Close', 'Adj Close','Volume', '200ema',\n",
    "       '50ema', '20ema', '14-high', '14-low', '%K', '%D', 'RSI', 'MACD',\n",
    "       'MACDh', 'MACDs', 'CCI', 'PSAR', 'BBl', 'BBm', 'BBu', 'BBb', 'BBp',\n",
    "       'ATR', 'ADX', 'ADX_DMP', 'ADX_DMN', 'APO', 'AROON_D', 'AROON_U',\n",
    "       'AROON_OSC', 'BOP', 'CMO', 'MOM', 'PPO', 'PPO_h', 'PPO_s', 'ROC',\n",
    "       'STOCHRSI_k', 'STOCHRSI_d', 'TRIX', 'TRIX_s', 'WILLR', 'NATR',\n",
    "       'CDL_2CROWS', 'CDL_3BLACKCROWS', 'CDL_3INSIDE', 'CDL_3LINESTRIKE',\n",
    "       'CDL_3OUTSIDE', 'CDL_3STARSINSOUTH', 'CDL_3WHITESOLDIERS',\n",
    "       'CDL_ABANDONEDBABY', 'CDL_ADVANCEBLOCK', 'CDL_BELTHOLD',\n",
    "       'CDL_BREAKAWAY', 'CDL_CLOSINGMARUBOZU', 'CDL_CONCEALBABYSWALL',\n",
    "       'CDL_COUNTERATTACK', 'CDL_DARKCLOUDCOVER', 'CDL_DOJI_10_0.1',\n",
    "       'CDL_DOJISTAR', 'CDL_DRAGONFLYDOJI', 'CDL_ENGULFING',\n",
    "       'CDL_EVENINGDOJISTAR', 'CDL_EVENINGSTAR', 'CDL_GAPSIDESIDEWHITE',\n",
    "       'CDL_GRAVESTONEDOJI', 'CDL_HAMMER', 'CDL_HANGINGMAN', 'CDL_HARAMI',\n",
    "       'CDL_HARAMICROSS', 'CDL_HIGHWAVE', 'CDL_HIKKAKE', 'CDL_HIKKAKEMOD',\n",
    "       'CDL_HOMINGPIGEON', 'CDL_IDENTICAL3CROWS', 'CDL_INNECK',\n",
    "       'CDL_INSIDE', 'CDL_INVERTEDHAMMER', 'CDL_KICKING',\n",
    "       'CDL_KICKINGBYLENGTH', 'CDL_LADDERBOTTOM', 'CDL_LONGLEGGEDDOJI',\n",
    "       'CDL_LONGLINE', 'CDL_MARUBOZU', 'CDL_MATCHINGLOW', 'CDL_MATHOLD',\n",
    "       'CDL_MORNINGDOJISTAR', 'CDL_MORNINGSTAR', 'CDL_ONNECK',\n",
    "       'CDL_PIERCING', 'CDL_RICKSHAWMAN', 'CDL_RISEFALL3METHODS',\n",
    "       'CDL_SEPARATINGLINES', 'CDL_SHOOTINGSTAR', 'CDL_SHORTLINE',\n",
    "       'CDL_SPINNINGTOP', 'CDL_STALLEDPATTERN', 'CDL_STICKSANDWICH',\n",
    "       'CDL_TAKURI', 'CDL_TASUKIGAP', 'CDL_THRUSTING', 'CDL_TRISTAR',\n",
    "       'CDL_UNIQUE3RIVER', 'CDL_UPSIDEGAP2CROWS', 'CDL_XSIDEGAP3METHODS']]\n",
    "\n",
    "\n",
    "cols = data.columns"
   ]
  },
  {
   "cell_type": "code",
   "execution_count": 10,
   "id": "44e0c98c",
   "metadata": {},
   "outputs": [],
   "source": [
    "#Añadimos un filtro de outliers (por encima de 3 desviaciones quitamos el valor)\n",
    "\n",
    "filt1 = np.abs(stats.zscore(data['log_ret'])) < 3\n",
    "filt2 = np.abs(stats.zscore(data['log_ret'])) < 3\n",
    "\n",
    "filt = (filt1 & filt2)\n",
    "\n",
    "data = data[filt]"
   ]
  },
  {
   "cell_type": "code",
   "execution_count": 11,
   "id": "6270524b",
   "metadata": {},
   "outputs": [
    {
     "data": {
      "image/png": "[encoded data removed]",
      "text/plain": [
       "<Figure size 432x288 with 1 Axes>"
      ]
     },
     "metadata": {
      "needs_background": "light"
     },
     "output_type": "display_data"
    }
   ],
   "source": [
    "plt.plot(data['log_ret'], label='train')\n",
    "plt.legend()\n",
    "plt.show()"
   ]
  },
  {
   "cell_type": "code",
   "execution_count": 12,
   "id": "92378889",
   "metadata": {
    "scrolled": true
   },
   "outputs": [
    {
     "name": "stderr",
     "output_type": "stream",
     "text": [
      "C:\\Users\\Usuario\\anaconda3\\envs\\StockPrediction\\lib\\site-packages\\pandas\\core\\frame.py:4908: SettingWithCopyWarning: \n",
      "A value is trying to be set on a copy of a slice from a DataFrame\n",
      "\n",
      "See the caveats in the documentation: https://pandas.pydata.org/pandas-docs/stable/user_guide/indexing.html#returning-a-view-versus-a-copy\n",
      "  errors=errors,\n"
     ]
    }
   ],
   "source": [
    "data.reset_index(inplace=True)\n",
    "data.drop(columns=data.columns[0], inplace=True)"
   ]
  },
  {
   "cell_type": "markdown",
   "id": "fa7ec515",
   "metadata": {},
   "source": [
    "## Preparacion datos para el LSTM"
   ]
  },
  {
   "cell_type": "code",
   "execution_count": 13,
   "id": "dfeaca60",
   "metadata": {
    "scrolled": false
   },
   "outputs": [
    {
     "name": "stdout",
     "output_type": "stream",
     "text": [
      "<class 'pandas.core.frame.DataFrame'>\n",
      "RangeIndex: 5726 entries, 0 to 5725\n",
      "Columns: 109 entries, Up_Down to CDL_XSIDEGAP3METHODS\n",
      "dtypes: float64(107), int32(1), int64(1)\n",
      "memory usage: 4.7 MB\n"
     ]
    }
   ],
   "source": [
    "data.info()"
   ]
  },
  {
   "cell_type": "code",
   "execution_count": 14,
   "id": "711018d4",
   "metadata": {},
   "outputs": [
    {
     "name": "stdout",
     "output_type": "stream",
     "text": [
      "(4580, 1, 108) (4580,) (573, 1, 108) (573,) (573, 1, 108) (573,)\n"
     ]
    }
   ],
   "source": [
    "#Convertimos todas las columnas a valor numerico\n",
    "data = data.apply(pd.to_numeric)\n",
    "\n",
    "\n",
    "#Escalamos los valores con un MinMaxScaler\n",
    "\n",
    "#data['200ema'] = data['200ema'].pct_change()\n",
    "#data['50ema'] = data['50ema'].pct_change()\n",
    "#data['20ema'] = data['20ema'].pct_change()\n",
    "\n",
    "#data.dropna(inplace=True)\n",
    "\n",
    "values = data.values\n",
    "\n",
    "scaler = MinMaxScaler(feature_range=(0, 1))\n",
    "scaled = scaler.fit_transform(values)\n",
    "\n",
    "values = scaled\n",
    "\n",
    "#Dividimos los datos entre train y test\n",
    "train, val = train_test_split(values, test_size=0.2, shuffle=False)\n",
    "\n",
    "#Dividimos datos validation entre validation y test\n",
    "val, test = train_test_split(val, test_size=0.5, shuffle=False)\n",
    "\n",
    "#Separamos los inputs de los outputs\n",
    "train_X, train_y = train[:, 1:], train[:,0]\n",
    "val_X, val_y = val[:, 1:], val[:,0]\n",
    "test_X, test_y = test[:, 1:], test[:, 0]\n",
    "\n",
    "\n",
    "#Generamos el reshape para poder incluir los valores en el modelo LSTM\n",
    "train_X = train_X.reshape((train_X.shape[0], 1, train_X.shape[1]))\n",
    "val_X = val_X.reshape((val_X.shape[0], 1, val_X.shape[1]))\n",
    "test_X = test_X.reshape((test_X.shape[0], 1, test_X.shape[1]))\n",
    "print(train_X.shape, train_y.shape, val_X.shape, val_y.shape, test_X.shape, test_y.shape)"
   ]
  },
  {
   "cell_type": "markdown",
   "id": "6286d484",
   "metadata": {},
   "source": [
    "## Creamos el modelo"
   ]
  },
  {
   "cell_type": "code",
   "execution_count": 15,
   "id": "62280955",
   "metadata": {},
   "outputs": [],
   "source": [
    "#Generamos arquitectura del modelo\n",
    "model = Sequential()\n",
    "\n",
    "model.add(Dense(32, activation='LeakyReLU', kernel_initializer='he_uniform' ,input_shape=(train_X.shape[1], train_X.shape[2])))\n",
    "\n",
    "model.add(LSTM(128, activation='LeakyReLU', return_sequences=True))\n",
    "model.add(BatchNormalization())\n",
    "\n",
    "\n",
    "model.add(LSTM(256, activation='LeakyReLU', return_sequences=True))\n",
    "model.add(BatchNormalization())\n",
    "\n",
    "\n",
    "model.add(LSTM(128, activation='LeakyReLU', return_sequences=True))\n",
    "model.add(BatchNormalization())\n",
    "model.add(Dropout(0.3))\n",
    "\n",
    "\n",
    "model.add(Dense(32, activation='LeakyReLU'))\n",
    "\n",
    "\n",
    "\n",
    "model.add(Dense(1, activation='sigmoid'))\n",
    "\n",
    "\n"
   ]
  },
  {
   "cell_type": "code",
   "execution_count": 16,
   "id": "b1c92f22",
   "metadata": {},
   "outputs": [
    {
     "data": {
      "text/plain": [
       "2290"
      ]
     },
     "execution_count": 16,
     "metadata": {},
     "output_type": "execute_result"
    }
   ],
   "source": [
    "int(train_X.shape[0]/2)"
   ]
  },
  {
   "cell_type": "code",
   "execution_count": 17,
   "id": "57b91f95",
   "metadata": {},
   "outputs": [],
   "source": [
    "epochs = 100\n",
    "train_size = train_X.shape[0]\n",
    "batch_size = 64\n",
    "\n",
    "initial_learning_rate = 0.1\n",
    "final_learning_rate = 0.000001\n",
    "learning_rate_decay_factor = (final_learning_rate / initial_learning_rate)**(1/epochs)\n",
    "steps_per_epoch = int(train_size/batch_size)\n",
    "\n",
    "lr_schedule = ExponentialDecay(\n",
    "                initial_learning_rate=initial_learning_rate,\n",
    "                decay_steps=steps_per_epoch,\n",
    "                decay_rate=learning_rate_decay_factor,\n",
    "                staircase=True)\n",
    "\n",
    "opt = SGD(learning_rate = lr_schedule )"
   ]
  },
  {
   "cell_type": "code",
   "execution_count": 18,
   "id": "eac668b4",
   "metadata": {},
   "outputs": [],
   "source": [
    "\n",
    "model.compile(optimizer=opt, loss='binary_crossentropy', metrics=['accuracy'])"
   ]
  },
  {
   "cell_type": "code",
   "execution_count": 19,
   "id": "8e870af3",
   "metadata": {},
   "outputs": [
    {
     "name": "stdout",
     "output_type": "stream",
     "text": [
      "Model: \"sequential\"\n",
      "_________________________________________________________________\n",
      "Layer (type)                 Output Shape              Param #   \n",
      "=================================================================\n",
      "dense (Dense)                (None, 1, 32)             3488      \n",
      "_________________________________________________________________\n",
      "lstm (LSTM)                  (None, 1, 128)            82432     \n",
      "_________________________________________________________________\n",
      "batch_normalization (BatchNo (None, 1, 128)            512       \n",
      "_________________________________________________________________\n",
      "lstm_1 (LSTM)                (None, 1, 256)            394240    \n",
      "_________________________________________________________________\n",
      "batch_normalization_1 (Batch (None, 1, 256)            1024      \n",
      "_________________________________________________________________\n",
      "lstm_2 (LSTM)                (None, 1, 128)            197120    \n",
      "_________________________________________________________________\n",
      "batch_normalization_2 (Batch (None, 1, 128)            512       \n",
      "_________________________________________________________________\n",
      "dropout (Dropout)            (None, 1, 128)            0         \n",
      "_________________________________________________________________\n",
      "dense_1 (Dense)              (None, 1, 32)             4128      \n",
      "_________________________________________________________________\n",
      "dense_2 (Dense)              (None, 1, 1)              33        \n",
      "=================================================================\n",
      "Total params: 683,489\n",
      "Trainable params: 682,465\n",
      "Non-trainable params: 1,024\n",
      "_________________________________________________________________\n"
     ]
    }
   ],
   "source": [
    "model.summary()"
   ]
  },
  {
   "cell_type": "code",
   "execution_count": 20,
   "id": "c738d78b",
   "metadata": {
    "scrolled": false
   },
   "outputs": [
    {
     "name": "stdout",
     "output_type": "stream",
     "text": [
      "Epoch 1/100\n",
      "72/72 - 3s - loss: 0.7258 - accuracy: 0.5391 - val_loss: 0.6930 - val_accuracy: 0.5096\n",
      "Epoch 2/100\n",
      "72/72 - 0s - loss: 0.6537 - accuracy: 0.5738 - val_loss: 0.6928 - val_accuracy: 0.5096\n",
      "Epoch 3/100\n",
      "72/72 - 0s - loss: 0.6506 - accuracy: 0.5777 - val_loss: 0.6925 - val_accuracy: 0.5096\n",
      "Epoch 4/100\n",
      "72/72 - 0s - loss: 0.6420 - accuracy: 0.5921 - val_loss: 0.6906 - val_accuracy: 0.5096\n",
      "Epoch 5/100\n",
      "72/72 - 0s - loss: 0.6334 - accuracy: 0.5976 - val_loss: 0.6864 - val_accuracy: 0.5480\n",
      "Epoch 6/100\n",
      "72/72 - 0s - loss: 0.6341 - accuracy: 0.6055 - val_loss: 0.6746 - val_accuracy: 0.5951\n",
      "Epoch 7/100\n",
      "72/72 - 0s - loss: 0.6271 - accuracy: 0.6138 - val_loss: 0.6482 - val_accuracy: 0.6492\n",
      "Epoch 8/100\n",
      "72/72 - 0s - loss: 0.6204 - accuracy: 0.6240 - val_loss: 0.6148 - val_accuracy: 0.6248\n",
      "Epoch 9/100\n",
      "72/72 - 0s - loss: 0.6165 - accuracy: 0.6205 - val_loss: 0.5762 - val_accuracy: 0.6475\n",
      "Epoch 10/100\n",
      "72/72 - 0s - loss: 0.6158 - accuracy: 0.6247 - val_loss: 0.5478 - val_accuracy: 0.6876\n",
      "Epoch 11/100\n",
      "72/72 - 0s - loss: 0.6139 - accuracy: 0.6247 - val_loss: 0.5557 - val_accuracy: 0.6614\n",
      "Epoch 12/100\n",
      "72/72 - 0s - loss: 0.6100 - accuracy: 0.6338 - val_loss: 0.5491 - val_accuracy: 0.6789\n",
      "Epoch 13/100\n",
      "72/72 - 0s - loss: 0.6052 - accuracy: 0.6310 - val_loss: 0.5508 - val_accuracy: 0.6719\n",
      "Epoch 14/100\n",
      "72/72 - 0s - loss: 0.6056 - accuracy: 0.6400 - val_loss: 0.5584 - val_accuracy: 0.6771\n",
      "Epoch 15/100\n",
      "72/72 - 0s - loss: 0.5984 - accuracy: 0.6454 - val_loss: 0.5784 - val_accuracy: 0.6702\n",
      "Epoch 16/100\n",
      "72/72 - 0s - loss: 0.5972 - accuracy: 0.6424 - val_loss: 0.5611 - val_accuracy: 0.6981\n",
      "Epoch 17/100\n",
      "72/72 - 0s - loss: 0.5930 - accuracy: 0.6546 - val_loss: 0.5562 - val_accuracy: 0.6946\n",
      "Epoch 18/100\n",
      "72/72 - 0s - loss: 0.5884 - accuracy: 0.6616 - val_loss: 0.5523 - val_accuracy: 0.6789\n",
      "Epoch 19/100\n",
      "72/72 - 0s - loss: 0.5862 - accuracy: 0.6644 - val_loss: 0.5573 - val_accuracy: 0.7173\n",
      "Epoch 20/100\n",
      "72/72 - 0s - loss: 0.5866 - accuracy: 0.6677 - val_loss: 0.5752 - val_accuracy: 0.6702\n",
      "Epoch 21/100\n",
      "72/72 - 0s - loss: 0.5841 - accuracy: 0.6570 - val_loss: 0.5569 - val_accuracy: 0.6876\n",
      "Epoch 22/100\n",
      "72/72 - 0s - loss: 0.5826 - accuracy: 0.6644 - val_loss: 0.5750 - val_accuracy: 0.6736\n",
      "Epoch 23/100\n",
      "72/72 - 0s - loss: 0.5816 - accuracy: 0.6629 - val_loss: 0.5624 - val_accuracy: 0.6841\n",
      "Epoch 24/100\n",
      "72/72 - 0s - loss: 0.5793 - accuracy: 0.6690 - val_loss: 0.5562 - val_accuracy: 0.7016\n",
      "Epoch 25/100\n",
      "72/72 - 0s - loss: 0.5807 - accuracy: 0.6672 - val_loss: 0.5507 - val_accuracy: 0.6928\n",
      "Epoch 26/100\n",
      "72/72 - 0s - loss: 0.5817 - accuracy: 0.6646 - val_loss: 0.5524 - val_accuracy: 0.6946\n",
      "Epoch 27/100\n",
      "72/72 - 0s - loss: 0.5730 - accuracy: 0.6797 - val_loss: 0.5512 - val_accuracy: 0.6963\n",
      "Epoch 28/100\n",
      "72/72 - 0s - loss: 0.5731 - accuracy: 0.6751 - val_loss: 0.5543 - val_accuracy: 0.6894\n",
      "Epoch 29/100\n",
      "72/72 - 0s - loss: 0.5704 - accuracy: 0.6819 - val_loss: 0.5565 - val_accuracy: 0.6928\n",
      "Epoch 30/100\n",
      "72/72 - 0s - loss: 0.5722 - accuracy: 0.6762 - val_loss: 0.5624 - val_accuracy: 0.6824\n",
      "Epoch 31/100\n",
      "72/72 - 0s - loss: 0.5668 - accuracy: 0.6814 - val_loss: 0.5562 - val_accuracy: 0.6928\n",
      "Epoch 32/100\n",
      "72/72 - 0s - loss: 0.5739 - accuracy: 0.6742 - val_loss: 0.5573 - val_accuracy: 0.6928\n",
      "Epoch 33/100\n",
      "72/72 - 0s - loss: 0.5697 - accuracy: 0.6771 - val_loss: 0.5621 - val_accuracy: 0.6911\n",
      "Epoch 34/100\n",
      "72/72 - 0s - loss: 0.5731 - accuracy: 0.6742 - val_loss: 0.5586 - val_accuracy: 0.6911\n",
      "Epoch 35/100\n",
      "72/72 - 0s - loss: 0.5700 - accuracy: 0.6775 - val_loss: 0.5559 - val_accuracy: 0.6911\n",
      "Epoch 36/100\n",
      "72/72 - 0s - loss: 0.5674 - accuracy: 0.6817 - val_loss: 0.5604 - val_accuracy: 0.6894\n",
      "Epoch 37/100\n",
      "72/72 - 0s - loss: 0.5692 - accuracy: 0.6749 - val_loss: 0.5583 - val_accuracy: 0.6911\n",
      "Epoch 38/100\n",
      "72/72 - 0s - loss: 0.5651 - accuracy: 0.6841 - val_loss: 0.5593 - val_accuracy: 0.6894\n",
      "Epoch 39/100\n",
      "72/72 - 0s - loss: 0.5669 - accuracy: 0.6838 - val_loss: 0.5574 - val_accuracy: 0.6963\n",
      "Epoch 40/100\n",
      "72/72 - 0s - loss: 0.5718 - accuracy: 0.6760 - val_loss: 0.5587 - val_accuracy: 0.6963\n",
      "Epoch 41/100\n",
      "72/72 - 0s - loss: 0.5639 - accuracy: 0.6828 - val_loss: 0.5582 - val_accuracy: 0.6946\n",
      "Epoch 42/100\n",
      "72/72 - 0s - loss: 0.5686 - accuracy: 0.6832 - val_loss: 0.5588 - val_accuracy: 0.6946\n",
      "Epoch 43/100\n",
      "72/72 - 0s - loss: 0.5651 - accuracy: 0.6867 - val_loss: 0.5595 - val_accuracy: 0.6963\n",
      "Epoch 44/100\n",
      "72/72 - 0s - loss: 0.5666 - accuracy: 0.6843 - val_loss: 0.5592 - val_accuracy: 0.6946\n",
      "Epoch 45/100\n",
      "72/72 - 0s - loss: 0.5641 - accuracy: 0.6775 - val_loss: 0.5599 - val_accuracy: 0.6928\n",
      "Epoch 46/100\n",
      "72/72 - 0s - loss: 0.5638 - accuracy: 0.6852 - val_loss: 0.5597 - val_accuracy: 0.6859\n",
      "Epoch 47/100\n",
      "72/72 - 0s - loss: 0.5686 - accuracy: 0.6775 - val_loss: 0.5598 - val_accuracy: 0.6876\n",
      "Epoch 48/100\n",
      "72/72 - 0s - loss: 0.5646 - accuracy: 0.6738 - val_loss: 0.5598 - val_accuracy: 0.6894\n",
      "Epoch 49/100\n",
      "72/72 - 0s - loss: 0.5595 - accuracy: 0.6884 - val_loss: 0.5595 - val_accuracy: 0.6911\n",
      "Epoch 50/100\n",
      "72/72 - 0s - loss: 0.5635 - accuracy: 0.6854 - val_loss: 0.5594 - val_accuracy: 0.6894\n",
      "Epoch 51/100\n",
      "72/72 - 0s - loss: 0.5666 - accuracy: 0.6812 - val_loss: 0.5594 - val_accuracy: 0.6894\n",
      "Epoch 52/100\n",
      "72/72 - 0s - loss: 0.5577 - accuracy: 0.7007 - val_loss: 0.5591 - val_accuracy: 0.6911\n",
      "Epoch 53/100\n",
      "72/72 - 0s - loss: 0.5636 - accuracy: 0.6862 - val_loss: 0.5593 - val_accuracy: 0.6894\n",
      "Epoch 54/100\n",
      "72/72 - 0s - loss: 0.5632 - accuracy: 0.6889 - val_loss: 0.5594 - val_accuracy: 0.6911\n",
      "Epoch 55/100\n",
      "72/72 - 0s - loss: 0.5623 - accuracy: 0.6882 - val_loss: 0.5594 - val_accuracy: 0.6894\n",
      "Epoch 56/100\n",
      "72/72 - 0s - loss: 0.5643 - accuracy: 0.6808 - val_loss: 0.5595 - val_accuracy: 0.6894\n",
      "Epoch 57/100\n",
      "72/72 - 0s - loss: 0.5641 - accuracy: 0.6819 - val_loss: 0.5591 - val_accuracy: 0.6894\n",
      "Epoch 58/100\n",
      "72/72 - 0s - loss: 0.5645 - accuracy: 0.6902 - val_loss: 0.5592 - val_accuracy: 0.6894\n",
      "Epoch 59/100\n",
      "72/72 - 0s - loss: 0.5621 - accuracy: 0.6878 - val_loss: 0.5593 - val_accuracy: 0.6894\n",
      "Epoch 60/100\n",
      "72/72 - 0s - loss: 0.5600 - accuracy: 0.6913 - val_loss: 0.5591 - val_accuracy: 0.6894\n",
      "Epoch 61/100\n",
      "72/72 - 0s - loss: 0.5608 - accuracy: 0.6928 - val_loss: 0.5595 - val_accuracy: 0.6876\n",
      "Epoch 62/100\n",
      "72/72 - 0s - loss: 0.5605 - accuracy: 0.6902 - val_loss: 0.5593 - val_accuracy: 0.6911\n",
      "Epoch 63/100\n",
      "72/72 - 0s - loss: 0.5627 - accuracy: 0.6876 - val_loss: 0.5593 - val_accuracy: 0.6911\n",
      "Epoch 64/100\n",
      "72/72 - 0s - loss: 0.5636 - accuracy: 0.6801 - val_loss: 0.5591 - val_accuracy: 0.6946\n",
      "Epoch 65/100\n",
      "72/72 - 0s - loss: 0.5644 - accuracy: 0.6812 - val_loss: 0.5592 - val_accuracy: 0.6928\n",
      "Epoch 66/100\n",
      "72/72 - 0s - loss: 0.5628 - accuracy: 0.6882 - val_loss: 0.5588 - val_accuracy: 0.6963\n",
      "Epoch 67/100\n",
      "72/72 - 0s - loss: 0.5682 - accuracy: 0.6806 - val_loss: 0.5590 - val_accuracy: 0.6946\n",
      "Epoch 68/100\n",
      "72/72 - 0s - loss: 0.5647 - accuracy: 0.6852 - val_loss: 0.5592 - val_accuracy: 0.6911\n",
      "Epoch 69/100\n",
      "72/72 - 0s - loss: 0.5647 - accuracy: 0.6819 - val_loss: 0.5591 - val_accuracy: 0.6894\n",
      "Epoch 70/100\n",
      "72/72 - 0s - loss: 0.5640 - accuracy: 0.6893 - val_loss: 0.5595 - val_accuracy: 0.6911\n",
      "Epoch 71/100\n",
      "72/72 - 0s - loss: 0.5614 - accuracy: 0.6906 - val_loss: 0.5590 - val_accuracy: 0.6946\n",
      "Epoch 72/100\n",
      "72/72 - 0s - loss: 0.5613 - accuracy: 0.6934 - val_loss: 0.5590 - val_accuracy: 0.6911\n",
      "Epoch 73/100\n",
      "72/72 - 0s - loss: 0.5614 - accuracy: 0.6904 - val_loss: 0.5590 - val_accuracy: 0.6946\n",
      "Epoch 74/100\n",
      "72/72 - 0s - loss: 0.5652 - accuracy: 0.6788 - val_loss: 0.5590 - val_accuracy: 0.6928\n",
      "Epoch 75/100\n",
      "72/72 - 0s - loss: 0.5627 - accuracy: 0.6889 - val_loss: 0.5589 - val_accuracy: 0.6894\n",
      "Epoch 76/100\n",
      "72/72 - 0s - loss: 0.5603 - accuracy: 0.6843 - val_loss: 0.5591 - val_accuracy: 0.6894\n",
      "Epoch 77/100\n",
      "72/72 - 0s - loss: 0.5664 - accuracy: 0.6814 - val_loss: 0.5596 - val_accuracy: 0.6894\n",
      "Epoch 78/100\n",
      "72/72 - 0s - loss: 0.5628 - accuracy: 0.6886 - val_loss: 0.5594 - val_accuracy: 0.6911\n",
      "Epoch 79/100\n",
      "72/72 - 0s - loss: 0.5642 - accuracy: 0.6797 - val_loss: 0.5596 - val_accuracy: 0.6911\n",
      "Epoch 80/100\n",
      "72/72 - 0s - loss: 0.5642 - accuracy: 0.6876 - val_loss: 0.5595 - val_accuracy: 0.6911\n",
      "Epoch 81/100\n",
      "72/72 - 0s - loss: 0.5613 - accuracy: 0.6873 - val_loss: 0.5593 - val_accuracy: 0.6894\n",
      "Epoch 82/100\n",
      "72/72 - 0s - loss: 0.5615 - accuracy: 0.6915 - val_loss: 0.5592 - val_accuracy: 0.6911\n",
      "Epoch 83/100\n"
     ]
    },
    {
     "name": "stdout",
     "output_type": "stream",
     "text": [
      "72/72 - 0s - loss: 0.5656 - accuracy: 0.6823 - val_loss: 0.5594 - val_accuracy: 0.6946\n",
      "Epoch 84/100\n",
      "72/72 - 0s - loss: 0.5611 - accuracy: 0.6845 - val_loss: 0.5595 - val_accuracy: 0.6911\n",
      "Epoch 85/100\n",
      "72/72 - 0s - loss: 0.5622 - accuracy: 0.6889 - val_loss: 0.5593 - val_accuracy: 0.6928\n",
      "Epoch 86/100\n",
      "72/72 - 0s - loss: 0.5624 - accuracy: 0.6845 - val_loss: 0.5594 - val_accuracy: 0.6911\n",
      "Epoch 87/100\n",
      "72/72 - 0s - loss: 0.5614 - accuracy: 0.6856 - val_loss: 0.5594 - val_accuracy: 0.6911\n",
      "Epoch 88/100\n",
      "72/72 - 0s - loss: 0.5594 - accuracy: 0.6948 - val_loss: 0.5598 - val_accuracy: 0.6911\n",
      "Epoch 89/100\n",
      "72/72 - 0s - loss: 0.5633 - accuracy: 0.6832 - val_loss: 0.5597 - val_accuracy: 0.6911\n",
      "Epoch 90/100\n",
      "72/72 - 0s - loss: 0.5616 - accuracy: 0.6878 - val_loss: 0.5597 - val_accuracy: 0.6894\n",
      "Epoch 91/100\n",
      "72/72 - 0s - loss: 0.5606 - accuracy: 0.6895 - val_loss: 0.5597 - val_accuracy: 0.6894\n",
      "Epoch 92/100\n",
      "72/72 - 0s - loss: 0.5650 - accuracy: 0.6808 - val_loss: 0.5599 - val_accuracy: 0.6911\n",
      "Epoch 93/100\n",
      "72/72 - 0s - loss: 0.5607 - accuracy: 0.6941 - val_loss: 0.5597 - val_accuracy: 0.6911\n",
      "Epoch 94/100\n",
      "72/72 - 0s - loss: 0.5632 - accuracy: 0.6889 - val_loss: 0.5600 - val_accuracy: 0.6911\n",
      "Epoch 95/100\n",
      "72/72 - 0s - loss: 0.5610 - accuracy: 0.6847 - val_loss: 0.5600 - val_accuracy: 0.6928\n",
      "Epoch 96/100\n",
      "72/72 - 0s - loss: 0.5625 - accuracy: 0.6755 - val_loss: 0.5593 - val_accuracy: 0.6894\n",
      "Epoch 97/100\n",
      "72/72 - 0s - loss: 0.5657 - accuracy: 0.6817 - val_loss: 0.5590 - val_accuracy: 0.6911\n",
      "Epoch 98/100\n",
      "72/72 - 0s - loss: 0.5618 - accuracy: 0.6836 - val_loss: 0.5593 - val_accuracy: 0.6911\n",
      "Epoch 99/100\n",
      "72/72 - 0s - loss: 0.5640 - accuracy: 0.6856 - val_loss: 0.5592 - val_accuracy: 0.6911\n",
      "Epoch 100/100\n",
      "72/72 - 0s - loss: 0.5680 - accuracy: 0.6769 - val_loss: 0.5590 - val_accuracy: 0.6911\n"
     ]
    }
   ],
   "source": [
    "#Entrenamos el modelo\n",
    "history = model.fit(train_X, train_y, epochs=epochs, batch_size = batch_size, validation_data=(val_X, val_y), verbose=2)"
   ]
  },
  {
   "cell_type": "code",
   "execution_count": 21,
   "id": "a11fc645",
   "metadata": {},
   "outputs": [
    {
     "data": {
      "image/png": "[encoded data removed]",
      "text/plain": [
       "<Figure size 432x288 with 1 Axes>"
      ]
     },
     "metadata": {
      "needs_background": "light"
     },
     "output_type": "display_data"
    }
   ],
   "source": [
    "#Generamos plot con los resultados\n",
    "plt.plot(history.history['loss'], label='train')\n",
    "plt.plot(history.history['val_loss'], label='validation')\n",
    "plt.legend()\n",
    "plt.show()"
   ]
  },
  {
   "cell_type": "code",
   "execution_count": 22,
   "id": "029916ab",
   "metadata": {},
   "outputs": [
    {
     "data": {
      "image/png": "[encoded data removed]",
      "text/plain": [
       "<Figure size 432x288 with 1 Axes>"
      ]
     },
     "metadata": {
      "needs_background": "light"
     },
     "output_type": "display_data"
    }
   ],
   "source": [
    "#Generamos plot con los resultados\n",
    "plt.plot(history.history['accuracy'], label='train')\n",
    "plt.plot(history.history['val_accuracy'], label='validation')\n",
    "plt.legend()\n",
    "plt.show()"
   ]
  },
  {
   "cell_type": "code",
   "execution_count": 23,
   "id": "5de5f3ce",
   "metadata": {},
   "outputs": [
    {
     "name": "stdout",
     "output_type": "stream",
     "text": [
      "Test loss: 0.5500931143760681 / Test accuracy: 0.7190226912498474\n"
     ]
    }
   ],
   "source": [
    "score = model.evaluate(test_X, test_y, verbose=0)\n",
    "print(f'Test loss: {score[0]} / Test accuracy: {score[1]}')"
   ]
  },
  {
   "cell_type": "markdown",
   "id": "8d9e8e96",
   "metadata": {},
   "source": [
    "## Resultados con valores de test"
   ]
  },
  {
   "cell_type": "code",
   "execution_count": 24,
   "id": "abecbb08",
   "metadata": {},
   "outputs": [],
   "source": [
    "# make a prediction\n",
    "yhat = model.predict(test_X)"
   ]
  },
  {
   "cell_type": "code",
   "execution_count": 25,
   "id": "32bf3c80",
   "metadata": {},
   "outputs": [],
   "source": [
    "inv_y, inv_yhat = full_prediction(yhat, test_X, test_y)"
   ]
  },
  {
   "cell_type": "code",
   "execution_count": 26,
   "id": "9a99c255",
   "metadata": {},
   "outputs": [],
   "source": [
    "inv_yhat = scaler.inverse_transform(inv_yhat)\n",
    "inv_y = scaler.inverse_transform(inv_y)\n",
    "\n",
    "\n",
    "inv_yhat_df = pd.DataFrame(data=inv_yhat, columns=cols)\n",
    "inv_y_df = pd.DataFrame(data=inv_y, columns=cols)"
   ]
  },
  {
   "cell_type": "code",
   "execution_count": 27,
   "id": "3e0fdfbc",
   "metadata": {},
   "outputs": [
    {
     "name": "stdout",
     "output_type": "stream",
     "text": [
      "Acierto    412\n",
      "Error      161\n",
      "Name: Diff, dtype: int64\n",
      "\n",
      "% acierto: 0.7190226876090751\n"
     ]
    }
   ],
   "source": [
    "res = result(inv_yhat, inv_y)\n",
    "\n",
    "\n",
    "\n",
    "res['Diff'] = np.where(res['Up_Down_yhat'] == res['Up_Down_y'] , 'Acierto', 'Error')\n",
    "\n",
    "res['Diff'].value_counts()\n",
    "\n",
    "print(res['Diff'].value_counts())\n",
    "print()\n",
    "per = res['Diff'].value_counts()['Acierto']/(res['Diff'].value_counts()['Acierto']+res['Diff'].value_counts()['Error'])\n",
    "print(f'% acierto: {per}')"
   ]
  },
  {
   "cell_type": "code",
   "execution_count": 28,
   "id": "269d8f00",
   "metadata": {},
   "outputs": [],
   "source": [
    "benef = aprox_beneficios(res, inv_yhat_df)"
   ]
  },
  {
   "cell_type": "code",
   "execution_count": 29,
   "id": "acb8653f",
   "metadata": {},
   "outputs": [
    {
     "name": "stdout",
     "output_type": "stream",
     "text": [
      "% Beneficios totales: 1.1570440264596065\n",
      "% Beneficios anuales: 0.5108763327997914\n"
     ]
    }
   ],
   "source": [
    "benef_tot = benef[benef.size-1]-1\n",
    "benef_anual = benef_tot/(benef.size/253)\n",
    "print(f'% Beneficios totales: {benef_tot}')\n",
    "print(f'% Beneficios anuales: {benef_anual}')"
   ]
  },
  {
   "cell_type": "markdown",
   "id": "f2f73417",
   "metadata": {},
   "source": [
    "## Guardar modelo"
   ]
  },
  {
   "cell_type": "code",
   "execution_count": 30,
   "id": "4e29002b",
   "metadata": {},
   "outputs": [
    {
     "name": "stderr",
     "output_type": "stream",
     "text": [
      "WARNING:absl:Found untraced functions such as leaky_re_lu_layer_call_fn, leaky_re_lu_layer_call_and_return_conditional_losses, leaky_re_lu_4_layer_call_fn, leaky_re_lu_4_layer_call_and_return_conditional_losses, leaky_re_lu_layer_call_fn while saving (showing 5 of 25). These functions will not be directly callable after loading.\n"
     ]
    },
    {
     "name": "stdout",
     "output_type": "stream",
     "text": [
      "INFO:tensorflow:Assets written to: saved_model/my_model\\assets\n"
     ]
    },
    {
     "name": "stderr",
     "output_type": "stream",
     "text": [
      "INFO:tensorflow:Assets written to: saved_model/my_model\\assets\n"
     ]
    }
   ],
   "source": [
    "model.save('saved_model/my_model')"
   ]
  },
  {
   "cell_type": "code",
   "execution_count": null,
   "id": "5b349f87",
   "metadata": {},
   "outputs": [],
   "source": []
  }
 ],
 "metadata": {
  "kernelspec": {
   "display_name": "Python 3 (ipykernel)",
   "language": "python",
   "name": "python3"
  },
  "language_info": {
   "codemirror_mode": {
    "name": "ipython",
    "version": 3
   },
   "file_extension": ".py",
   "mimetype": "text/x-python",
   "name": "python",
   "nbconvert_exporter": "python",
   "pygments_lexer": "ipython3",
   "version": "3.7.11"
  }
 },
 "nbformat": 4,
 "nbformat_minor": 5
}
