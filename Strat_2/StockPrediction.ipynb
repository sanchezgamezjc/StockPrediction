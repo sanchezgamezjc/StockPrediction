{
 "cells": [
  {
   "cell_type": "code",
   "execution_count": 1,
   "id": "5752236b",
   "metadata": {},
   "outputs": [],
   "source": [
    "import yfinance as yf\n",
    "import datetime as dt\n",
    "import pandas_datareader as pdr\n",
    "import pandas as pd\n",
    "import pandas_ta as pta\n",
    "import matplotlib.pyplot as plt\n",
    "import numpy as np\n",
    "from scipy import stats\n",
    "\n",
    "\n",
    "from sklearn.preprocessing import MinMaxScaler\n",
    "from sklearn.model_selection import train_test_split\n",
    "from sklearn.metrics import mean_squared_error\n",
    "\n",
    "from tensorflow.keras import Sequential\n",
    "from tensorflow.keras.layers import Dense, LSTM, Dropout, Conv1D, Conv2D, Flatten, MaxPooling1D, BatchNormalization\n",
    "from tensorflow.keras.optimizers import SGD, Adam\n",
    "from tensorflow.keras.optimizers.schedules import ExponentialDecay"
   ]
  },
  {
   "cell_type": "code",
   "execution_count": 2,
   "id": "843600ba",
   "metadata": {},
   "outputs": [],
   "source": [
    "import sys\n",
    "\n",
    "pth_apple = \"/Users/josesanchez/Desktop/Code/GitHub/StockPrediction/FileBase\"\n",
    "pth_win = \"/Users/Usuario/Desktop/GitHub/StockPrediction/FileBase\"\n",
    "sys.path.append(pth_win)\n",
    "\n",
    "\n",
    "from root_functions import add_indicators, up_down, full_prediction, full_prediction_binary, result"
   ]
  },
  {
   "cell_type": "markdown",
   "id": "ffb2c26a",
   "metadata": {},
   "source": [
    "## Descarga datos y creación dataset"
   ]
  },
  {
   "cell_type": "code",
   "execution_count": 3,
   "id": "1ab7bfea",
   "metadata": {},
   "outputs": [],
   "source": [
    "sample_per = 10000\n",
    "stock = 'EURGBP=X'\n",
    "\n",
    "end = dt.date.today()- dt.timedelta(days=2)\n",
    "start = end - dt.timedelta(days=(sample_per))\n",
    "interval = '1d'"
   ]
  },
  {
   "cell_type": "code",
   "execution_count": 4,
   "id": "90c3e1a3",
   "metadata": {
    "scrolled": true
   },
   "outputs": [
    {
     "name": "stdout",
     "output_type": "stream",
     "text": [
      "[*********************100%***********************]  1 of 1 completed\n"
     ]
    }
   ],
   "source": [
    "database = yf.download(stock, start=start, end=end, interval=interval)"
   ]
  },
  {
   "cell_type": "code",
   "execution_count": 5,
   "id": "116f7d54",
   "metadata": {
    "scrolled": true
   },
   "outputs": [
    {
     "data": {
      "text/plain": [
       "Index(['Open', 'High', 'Low', 'Close', 'Adj Close', 'Volume', '200ema',\n",
       "       '50ema', '20ema', '14-high', '14-low', '%K', '%D', 'RSI', 'MACD',\n",
       "       'MACDh', 'MACDs', 'CCI', 'PSAR', 'BBl', 'BBm', 'BBu', 'BBb', 'BBp',\n",
       "       'ATR', 'log_ret', 'Up_Down'],\n",
       "      dtype='object')"
      ]
     },
     "execution_count": 5,
     "metadata": {},
     "output_type": "execute_result"
    }
   ],
   "source": [
    "#Añadimos indicadores\n",
    "\n",
    "ema1=200\n",
    "ema2=50\n",
    "ema3=20\n",
    "\n",
    "data_base = add_indicators(database)\n",
    "\n",
    "#Añadimos columna up_down\n",
    "data_base = up_down(data_base)\n",
    "\n",
    "#Listado indicadores\n",
    "data_base.columns"
   ]
  },
  {
   "cell_type": "code",
   "execution_count": 6,
   "id": "ef44e7a7",
   "metadata": {},
   "outputs": [],
   "source": [
    "#Hacemos un shift a la columna Up_Down para tener el signo de la tendencia de la siguiente vela\n",
    "data_base['Up_Down'] = data_base['Up_Down'].shift(-1)\n",
    "\n",
    "data_base.dropna(inplace=True)"
   ]
  },
  {
   "cell_type": "code",
   "execution_count": 7,
   "id": "3418297c",
   "metadata": {},
   "outputs": [],
   "source": [
    "#Filtramos las columnas que nos interesan para obtener el dataset de trabajo\n",
    "db = data_base.copy()\n",
    "\n",
    "\n",
    "data = db[['Up_Down','log_ret','Open', 'High', 'Low', 'Close', 'Adj Close', 'Volume', '200ema',\n",
    "       '50ema', '20ema', '14-high', '14-low', '%K', '%D', 'RSI', 'MACD',\n",
    "       'MACDh', 'MACDs', 'CCI', 'PSAR', 'BBl', 'BBm', 'BBu', 'BBb', 'BBp',\n",
    "       'ATR']]\n",
    "\n",
    "\n",
    "cols = data.columns"
   ]
  },
  {
   "cell_type": "code",
   "execution_count": 8,
   "id": "44e0c98c",
   "metadata": {},
   "outputs": [],
   "source": [
    "#Añadimos un filtro de outliers (por encima de 3 desviaciones quitamos el valor)\n",
    "\n",
    "filt1 = np.abs(stats.zscore(data['log_ret'])) < 3\n",
    "filt2 = np.abs(stats.zscore(data['log_ret'])) < 3\n",
    "\n",
    "filt = (filt1 & filt2)\n",
    "\n",
    "data = data[filt]"
   ]
  },
  {
   "cell_type": "code",
   "execution_count": 9,
   "id": "6270524b",
   "metadata": {},
   "outputs": [
    {
     "data": {
      "image/png": "[encoded data removed]",
      "text/plain": [
       "<Figure size 432x288 with 1 Axes>"
      ]
     },
     "metadata": {
      "needs_background": "light"
     },
     "output_type": "display_data"
    }
   ],
   "source": [
    "plt.plot(data['log_ret'], label='train')\n",
    "plt.legend()\n",
    "plt.show()"
   ]
  },
  {
   "cell_type": "code",
   "execution_count": 10,
   "id": "92378889",
   "metadata": {
    "scrolled": true
   },
   "outputs": [],
   "source": [
    "data.reset_index(inplace=True)\n",
    "data.drop(columns=data.columns[0], inplace=True)"
   ]
  },
  {
   "cell_type": "markdown",
   "id": "fa7ec515",
   "metadata": {},
   "source": [
    "## Preparacion datos para el LSTM"
   ]
  },
  {
   "cell_type": "code",
   "execution_count": 11,
   "id": "dfeaca60",
   "metadata": {
    "scrolled": false
   },
   "outputs": [
    {
     "name": "stdout",
     "output_type": "stream",
     "text": [
      "<class 'pandas.core.frame.DataFrame'>\n",
      "RangeIndex: 5786 entries, 0 to 5785\n",
      "Data columns (total 27 columns):\n",
      " #   Column     Non-Null Count  Dtype  \n",
      "---  ------     --------------  -----  \n",
      " 0   Up_Down    5786 non-null   float64\n",
      " 1   log_ret    5786 non-null   float64\n",
      " 2   Open       5786 non-null   float64\n",
      " 3   High       5786 non-null   float64\n",
      " 4   Low        5786 non-null   float64\n",
      " 5   Close      5786 non-null   float64\n",
      " 6   Adj Close  5786 non-null   float64\n",
      " 7   Volume     5786 non-null   int64  \n",
      " 8   200ema     5786 non-null   float64\n",
      " 9   50ema      5786 non-null   float64\n",
      " 10  20ema      5786 non-null   float64\n",
      " 11  14-high    5786 non-null   float64\n",
      " 12  14-low     5786 non-null   float64\n",
      " 13  %K         5786 non-null   float64\n",
      " 14  %D         5786 non-null   float64\n",
      " 15  RSI        5786 non-null   float64\n",
      " 16  MACD       5786 non-null   float64\n",
      " 17  MACDh      5786 non-null   float64\n",
      " 18  MACDs      5786 non-null   float64\n",
      " 19  CCI        5786 non-null   float64\n",
      " 20  PSAR       5786 non-null   float64\n",
      " 21  BBl        5786 non-null   float64\n",
      " 22  BBm        5786 non-null   float64\n",
      " 23  BBu        5786 non-null   float64\n",
      " 24  BBb        5786 non-null   float64\n",
      " 25  BBp        5786 non-null   float64\n",
      " 26  ATR        5786 non-null   float64\n",
      "dtypes: float64(26), int64(1)\n",
      "memory usage: 1.2 MB\n"
     ]
    }
   ],
   "source": [
    "data.info()"
   ]
  },
  {
   "cell_type": "code",
   "execution_count": 12,
   "id": "711018d4",
   "metadata": {},
   "outputs": [
    {
     "name": "stdout",
     "output_type": "stream",
     "text": [
      "(4628, 1, 26) (4628,) (578, 1, 26) (578,) (579, 1, 26) (579,)\n"
     ]
    }
   ],
   "source": [
    "#Convertimos todas las columnas a valor numerico\n",
    "data = data.apply(pd.to_numeric)\n",
    "\n",
    "\n",
    "#Escalamos los valores con un MinMaxScaler\n",
    "\n",
    "data['200ema'] = data['200ema'].pct_change()\n",
    "data['50ema'] = data['50ema'].pct_change()\n",
    "data['20ema'] = data['20ema'].pct_change()\n",
    "\n",
    "data.dropna(inplace=True)\n",
    "\n",
    "values = data.values\n",
    "\n",
    "scaler = MinMaxScaler(feature_range=(0, 1))\n",
    "scaled = scaler.fit_transform(values)\n",
    "\n",
    "values = scaled\n",
    "\n",
    "#Dividimos los datos entre train y test\n",
    "train, val = train_test_split(values, test_size=0.2, shuffle=False)\n",
    "\n",
    "#Dividimos datos validation entre validation y test\n",
    "val, test = train_test_split(val, test_size=0.5, shuffle=False)\n",
    "\n",
    "#Separamos los inputs de los outputs\n",
    "train_X, train_y = train[:, 1:], train[:,0]\n",
    "val_X, val_y = val[:, 1:], val[:,0]\n",
    "test_X, test_y = test[:, 1:], test[:, 0]\n",
    "\n",
    "\n",
    "#Generamos el reshape para poder incluir los valores en el modelo LSTM\n",
    "train_X = train_X.reshape((train_X.shape[0], 1, train_X.shape[1]))\n",
    "val_X = val_X.reshape((val_X.shape[0], 1, val_X.shape[1]))\n",
    "test_X = test_X.reshape((test_X.shape[0], 1, test_X.shape[1]))\n",
    "print(train_X.shape, train_y.shape, val_X.shape, val_y.shape, test_X.shape, test_y.shape)"
   ]
  },
  {
   "cell_type": "markdown",
   "id": "6286d484",
   "metadata": {},
   "source": [
    "## Creamos el modelo"
   ]
  },
  {
   "cell_type": "code",
   "execution_count": 13,
   "id": "62280955",
   "metadata": {},
   "outputs": [],
   "source": [
    "#Generamos arquitectura del modelo\n",
    "model = Sequential()\n",
    "\n",
    "model.add(Dense(32, activation='LeakyReLU', kernel_initializer='he_uniform' ,input_shape=(train_X.shape[1], train_X.shape[2])))\n",
    "\n",
    "model.add(LSTM(128, activation='LeakyReLU', return_sequences=True))\n",
    "model.add(BatchNormalization())\n",
    "\n",
    "model.add(LSTM(256, activation='LeakyReLU', return_sequences=True))\n",
    "model.add(BatchNormalization())\n",
    "\n",
    "model.add(LSTM(128, activation='LeakyReLU', return_sequences=True))\n",
    "model.add(BatchNormalization())\n",
    "\n",
    "\n",
    "\n",
    "model.add(Dense(32, activation='LeakyReLU'))\n",
    "\n",
    "\n",
    "\n",
    "model.add(Dense(1, activation='sigmoid'))\n",
    "\n",
    "\n"
   ]
  },
  {
   "cell_type": "code",
   "execution_count": 14,
   "id": "b1c92f22",
   "metadata": {},
   "outputs": [
    {
     "data": {
      "text/plain": [
       "2314"
      ]
     },
     "execution_count": 14,
     "metadata": {},
     "output_type": "execute_result"
    }
   ],
   "source": [
    "int(train_X.shape[0]/2)"
   ]
  },
  {
   "cell_type": "code",
   "execution_count": 15,
   "id": "57b91f95",
   "metadata": {},
   "outputs": [],
   "source": [
    "epochs = 100\n",
    "train_size = train_X.shape[0]\n",
    "batch_size = 64\n",
    "\n",
    "initial_learning_rate = 0.1\n",
    "final_learning_rate = 0.000001\n",
    "learning_rate_decay_factor = (final_learning_rate / initial_learning_rate)**(1/epochs)\n",
    "steps_per_epoch = int(train_size/batch_size)\n",
    "\n",
    "lr_schedule = ExponentialDecay(\n",
    "                initial_learning_rate=initial_learning_rate,\n",
    "                decay_steps=steps_per_epoch,\n",
    "                decay_rate=learning_rate_decay_factor,\n",
    "                staircase=True)\n",
    "\n",
    "opt = SGD(learning_rate = lr_schedule )"
   ]
  },
  {
   "cell_type": "code",
   "execution_count": 16,
   "id": "eac668b4",
   "metadata": {},
   "outputs": [],
   "source": [
    "\n",
    "model.compile(optimizer=opt, loss='binary_crossentropy', metrics=['accuracy'])"
   ]
  },
  {
   "cell_type": "code",
   "execution_count": 17,
   "id": "8e870af3",
   "metadata": {},
   "outputs": [
    {
     "name": "stdout",
     "output_type": "stream",
     "text": [
      "Model: \"sequential\"\n",
      "_________________________________________________________________\n",
      "Layer (type)                 Output Shape              Param #   \n",
      "=================================================================\n",
      "dense (Dense)                (None, 1, 32)             864       \n",
      "_________________________________________________________________\n",
      "lstm (LSTM)                  (None, 1, 128)            82432     \n",
      "_________________________________________________________________\n",
      "batch_normalization (BatchNo (None, 1, 128)            512       \n",
      "_________________________________________________________________\n",
      "lstm_1 (LSTM)                (None, 1, 256)            394240    \n",
      "_________________________________________________________________\n",
      "batch_normalization_1 (Batch (None, 1, 256)            1024      \n",
      "_________________________________________________________________\n",
      "lstm_2 (LSTM)                (None, 1, 128)            197120    \n",
      "_________________________________________________________________\n",
      "batch_normalization_2 (Batch (None, 1, 128)            512       \n",
      "_________________________________________________________________\n",
      "dense_1 (Dense)              (None, 1, 32)             4128      \n",
      "_________________________________________________________________\n",
      "dense_2 (Dense)              (None, 1, 1)              33        \n",
      "=================================================================\n",
      "Total params: 680,865\n",
      "Trainable params: 679,841\n",
      "Non-trainable params: 1,024\n",
      "_________________________________________________________________\n"
     ]
    }
   ],
   "source": [
    "model.summary()"
   ]
  },
  {
   "cell_type": "code",
   "execution_count": 18,
   "id": "c738d78b",
   "metadata": {
    "scrolled": false
   },
   "outputs": [
    {
     "name": "stdout",
     "output_type": "stream",
     "text": [
      "Epoch 1/100\n",
      "73/73 - 4s - loss: 0.7251 - accuracy: 0.5292 - val_loss: 0.6932 - val_accuracy: 0.4948\n",
      "Epoch 2/100\n",
      "73/73 - 0s - loss: 0.6861 - accuracy: 0.5532 - val_loss: 0.6935 - val_accuracy: 0.5052\n",
      "Epoch 3/100\n",
      "73/73 - 0s - loss: 0.6771 - accuracy: 0.5700 - val_loss: 0.6937 - val_accuracy: 0.5052\n",
      "Epoch 4/100\n",
      "73/73 - 0s - loss: 0.6674 - accuracy: 0.5841 - val_loss: 0.6945 - val_accuracy: 0.5052\n",
      "Epoch 5/100\n",
      "73/73 - 0s - loss: 0.6641 - accuracy: 0.5797 - val_loss: 0.6972 - val_accuracy: 0.5052\n",
      "Epoch 6/100\n",
      "73/73 - 0s - loss: 0.6596 - accuracy: 0.5968 - val_loss: 0.6943 - val_accuracy: 0.5052\n",
      "Epoch 7/100\n",
      "73/73 - 0s - loss: 0.6553 - accuracy: 0.5994 - val_loss: 0.6839 - val_accuracy: 0.5242\n",
      "Epoch 8/100\n",
      "73/73 - 0s - loss: 0.6498 - accuracy: 0.6154 - val_loss: 0.7085 - val_accuracy: 0.5208\n",
      "Epoch 9/100\n",
      "73/73 - 0s - loss: 0.6504 - accuracy: 0.6016 - val_loss: 0.6199 - val_accuracy: 0.6799\n",
      "Epoch 10/100\n",
      "73/73 - 0s - loss: 0.6446 - accuracy: 0.6150 - val_loss: 0.6496 - val_accuracy: 0.5900\n",
      "Epoch 11/100\n",
      "73/73 - 0s - loss: 0.6441 - accuracy: 0.6156 - val_loss: 0.6626 - val_accuracy: 0.5986\n",
      "Epoch 12/100\n",
      "73/73 - 0s - loss: 0.6434 - accuracy: 0.6199 - val_loss: 0.8359 - val_accuracy: 0.5640\n",
      "Epoch 13/100\n",
      "73/73 - 0s - loss: 0.6405 - accuracy: 0.6206 - val_loss: 0.6468 - val_accuracy: 0.6315\n",
      "Epoch 14/100\n",
      "73/73 - 0s - loss: 0.6373 - accuracy: 0.6316 - val_loss: 0.5939 - val_accuracy: 0.6817\n",
      "Epoch 15/100\n",
      "73/73 - 0s - loss: 0.6358 - accuracy: 0.6316 - val_loss: 0.6194 - val_accuracy: 0.6453\n",
      "Epoch 16/100\n",
      "73/73 - 0s - loss: 0.6323 - accuracy: 0.6357 - val_loss: 0.7210 - val_accuracy: 0.6055\n",
      "Epoch 17/100\n",
      "73/73 - 0s - loss: 0.6324 - accuracy: 0.6340 - val_loss: 0.6768 - val_accuracy: 0.6263\n",
      "Epoch 18/100\n",
      "73/73 - 0s - loss: 0.6269 - accuracy: 0.6396 - val_loss: 0.6132 - val_accuracy: 0.6644\n",
      "Epoch 19/100\n",
      "73/73 - 0s - loss: 0.6287 - accuracy: 0.6374 - val_loss: 0.6113 - val_accuracy: 0.6661\n",
      "Epoch 20/100\n",
      "73/73 - 0s - loss: 0.6269 - accuracy: 0.6454 - val_loss: 0.6348 - val_accuracy: 0.6505\n",
      "Epoch 21/100\n",
      "73/73 - 0s - loss: 0.6225 - accuracy: 0.6478 - val_loss: 0.5918 - val_accuracy: 0.6851\n",
      "Epoch 22/100\n",
      "73/73 - 0s - loss: 0.6231 - accuracy: 0.6407 - val_loss: 0.5873 - val_accuracy: 0.6799\n",
      "Epoch 23/100\n",
      "73/73 - 0s - loss: 0.6241 - accuracy: 0.6383 - val_loss: 0.6044 - val_accuracy: 0.6644\n",
      "Epoch 24/100\n",
      "73/73 - 0s - loss: 0.6217 - accuracy: 0.6426 - val_loss: 0.6830 - val_accuracy: 0.6280\n",
      "Epoch 25/100\n",
      "73/73 - 0s - loss: 0.6174 - accuracy: 0.6515 - val_loss: 0.5949 - val_accuracy: 0.6713\n",
      "Epoch 26/100\n",
      "73/73 - 0s - loss: 0.6174 - accuracy: 0.6543 - val_loss: 0.5891 - val_accuracy: 0.6903\n",
      "Epoch 27/100\n",
      "73/73 - 0s - loss: 0.6169 - accuracy: 0.6551 - val_loss: 0.5985 - val_accuracy: 0.6782\n",
      "Epoch 28/100\n",
      "73/73 - 0s - loss: 0.6144 - accuracy: 0.6592 - val_loss: 0.5971 - val_accuracy: 0.6834\n",
      "Epoch 29/100\n",
      "73/73 - 0s - loss: 0.6143 - accuracy: 0.6614 - val_loss: 0.5881 - val_accuracy: 0.6851\n",
      "Epoch 30/100\n",
      "73/73 - 0s - loss: 0.6176 - accuracy: 0.6541 - val_loss: 0.5870 - val_accuracy: 0.7007\n",
      "Epoch 31/100\n",
      "73/73 - 0s - loss: 0.6113 - accuracy: 0.6664 - val_loss: 0.6115 - val_accuracy: 0.6661\n",
      "Epoch 32/100\n",
      "73/73 - 0s - loss: 0.6131 - accuracy: 0.6614 - val_loss: 0.5852 - val_accuracy: 0.6886\n",
      "Epoch 33/100\n",
      "73/73 - 0s - loss: 0.6123 - accuracy: 0.6564 - val_loss: 0.5862 - val_accuracy: 0.6920\n",
      "Epoch 34/100\n",
      "73/73 - 0s - loss: 0.6098 - accuracy: 0.6627 - val_loss: 0.5923 - val_accuracy: 0.6782\n",
      "Epoch 35/100\n",
      "73/73 - 0s - loss: 0.6107 - accuracy: 0.6605 - val_loss: 0.5865 - val_accuracy: 0.6903\n",
      "Epoch 36/100\n",
      "73/73 - 0s - loss: 0.6113 - accuracy: 0.6584 - val_loss: 0.5917 - val_accuracy: 0.6782\n",
      "Epoch 37/100\n",
      "73/73 - 0s - loss: 0.6088 - accuracy: 0.6631 - val_loss: 0.5894 - val_accuracy: 0.6869\n",
      "Epoch 38/100\n",
      "73/73 - 0s - loss: 0.6081 - accuracy: 0.6625 - val_loss: 0.5859 - val_accuracy: 0.6886\n",
      "Epoch 39/100\n",
      "73/73 - 0s - loss: 0.6092 - accuracy: 0.6601 - val_loss: 0.5863 - val_accuracy: 0.6851\n",
      "Epoch 40/100\n",
      "73/73 - 0s - loss: 0.6072 - accuracy: 0.6672 - val_loss: 0.5856 - val_accuracy: 0.6886\n",
      "Epoch 41/100\n",
      "73/73 - 0s - loss: 0.6108 - accuracy: 0.6580 - val_loss: 0.5857 - val_accuracy: 0.6851\n",
      "Epoch 42/100\n",
      "73/73 - 0s - loss: 0.6121 - accuracy: 0.6603 - val_loss: 0.5872 - val_accuracy: 0.6938\n",
      "Epoch 43/100\n",
      "73/73 - 0s - loss: 0.6104 - accuracy: 0.6668 - val_loss: 0.5865 - val_accuracy: 0.6903\n",
      "Epoch 44/100\n",
      "73/73 - 0s - loss: 0.6085 - accuracy: 0.6670 - val_loss: 0.5867 - val_accuracy: 0.6886\n",
      "Epoch 45/100\n",
      "73/73 - 0s - loss: 0.6081 - accuracy: 0.6651 - val_loss: 0.5872 - val_accuracy: 0.6903\n",
      "Epoch 46/100\n",
      "73/73 - 0s - loss: 0.6095 - accuracy: 0.6642 - val_loss: 0.5870 - val_accuracy: 0.6903\n",
      "Epoch 47/100\n",
      "73/73 - 0s - loss: 0.6070 - accuracy: 0.6698 - val_loss: 0.5873 - val_accuracy: 0.6938\n",
      "Epoch 48/100\n",
      "73/73 - 0s - loss: 0.6078 - accuracy: 0.6608 - val_loss: 0.5869 - val_accuracy: 0.6920\n",
      "Epoch 49/100\n",
      "73/73 - 0s - loss: 0.6060 - accuracy: 0.6703 - val_loss: 0.5867 - val_accuracy: 0.6886\n",
      "Epoch 50/100\n",
      "73/73 - 0s - loss: 0.6061 - accuracy: 0.6718 - val_loss: 0.5863 - val_accuracy: 0.6869\n",
      "Epoch 51/100\n",
      "73/73 - 0s - loss: 0.6043 - accuracy: 0.6729 - val_loss: 0.5866 - val_accuracy: 0.6851\n",
      "Epoch 52/100\n",
      "73/73 - 0s - loss: 0.6041 - accuracy: 0.6692 - val_loss: 0.5866 - val_accuracy: 0.6851\n",
      "Epoch 53/100\n",
      "73/73 - 0s - loss: 0.6070 - accuracy: 0.6629 - val_loss: 0.5868 - val_accuracy: 0.6886\n",
      "Epoch 54/100\n",
      "73/73 - 0s - loss: 0.6078 - accuracy: 0.6625 - val_loss: 0.5867 - val_accuracy: 0.6851\n",
      "Epoch 55/100\n",
      "73/73 - 0s - loss: 0.6079 - accuracy: 0.6668 - val_loss: 0.5870 - val_accuracy: 0.6851\n",
      "Epoch 56/100\n",
      "73/73 - 0s - loss: 0.6068 - accuracy: 0.6640 - val_loss: 0.5869 - val_accuracy: 0.6851\n",
      "Epoch 57/100\n",
      "73/73 - 0s - loss: 0.6039 - accuracy: 0.6763 - val_loss: 0.5870 - val_accuracy: 0.6851\n",
      "Epoch 58/100\n",
      "73/73 - 0s - loss: 0.6054 - accuracy: 0.6722 - val_loss: 0.5868 - val_accuracy: 0.6851\n",
      "Epoch 59/100\n",
      "73/73 - 0s - loss: 0.6072 - accuracy: 0.6716 - val_loss: 0.5868 - val_accuracy: 0.6851\n",
      "Epoch 60/100\n",
      "73/73 - 0s - loss: 0.6094 - accuracy: 0.6597 - val_loss: 0.5867 - val_accuracy: 0.6851\n",
      "Epoch 61/100\n",
      "73/73 - 0s - loss: 0.6055 - accuracy: 0.6670 - val_loss: 0.5867 - val_accuracy: 0.6851\n",
      "Epoch 62/100\n",
      "73/73 - 0s - loss: 0.6042 - accuracy: 0.6655 - val_loss: 0.5868 - val_accuracy: 0.6869\n",
      "Epoch 63/100\n",
      "73/73 - 0s - loss: 0.6074 - accuracy: 0.6703 - val_loss: 0.5868 - val_accuracy: 0.6869\n",
      "Epoch 64/100\n",
      "73/73 - 0s - loss: 0.6061 - accuracy: 0.6675 - val_loss: 0.5869 - val_accuracy: 0.6869\n",
      "Epoch 65/100\n",
      "73/73 - 0s - loss: 0.6035 - accuracy: 0.6722 - val_loss: 0.5869 - val_accuracy: 0.6903\n",
      "Epoch 66/100\n",
      "73/73 - 0s - loss: 0.6053 - accuracy: 0.6627 - val_loss: 0.5867 - val_accuracy: 0.6851\n",
      "Epoch 67/100\n",
      "73/73 - 0s - loss: 0.6062 - accuracy: 0.6627 - val_loss: 0.5868 - val_accuracy: 0.6886\n",
      "Epoch 68/100\n",
      "73/73 - 0s - loss: 0.6076 - accuracy: 0.6629 - val_loss: 0.5866 - val_accuracy: 0.6851\n",
      "Epoch 69/100\n",
      "73/73 - 0s - loss: 0.6065 - accuracy: 0.6636 - val_loss: 0.5866 - val_accuracy: 0.6851\n",
      "Epoch 70/100\n",
      "73/73 - 0s - loss: 0.6065 - accuracy: 0.6664 - val_loss: 0.5865 - val_accuracy: 0.6851\n",
      "Epoch 71/100\n",
      "73/73 - 0s - loss: 0.6068 - accuracy: 0.6677 - val_loss: 0.5866 - val_accuracy: 0.6851\n",
      "Epoch 72/100\n",
      "73/73 - 0s - loss: 0.6059 - accuracy: 0.6621 - val_loss: 0.5867 - val_accuracy: 0.6851\n",
      "Epoch 73/100\n",
      "73/73 - 0s - loss: 0.6049 - accuracy: 0.6685 - val_loss: 0.5868 - val_accuracy: 0.6886\n",
      "Epoch 74/100\n",
      "73/73 - 0s - loss: 0.6079 - accuracy: 0.6672 - val_loss: 0.5868 - val_accuracy: 0.6869\n",
      "Epoch 75/100\n",
      "73/73 - 0s - loss: 0.6031 - accuracy: 0.6722 - val_loss: 0.5868 - val_accuracy: 0.6869\n",
      "Epoch 76/100\n",
      "73/73 - 0s - loss: 0.6043 - accuracy: 0.6698 - val_loss: 0.5867 - val_accuracy: 0.6869\n",
      "Epoch 77/100\n",
      "73/73 - 0s - loss: 0.6052 - accuracy: 0.6698 - val_loss: 0.5865 - val_accuracy: 0.6869\n",
      "Epoch 78/100\n",
      "73/73 - 0s - loss: 0.6049 - accuracy: 0.6692 - val_loss: 0.5867 - val_accuracy: 0.6886\n",
      "Epoch 79/100\n",
      "73/73 - 0s - loss: 0.6074 - accuracy: 0.6616 - val_loss: 0.5865 - val_accuracy: 0.6851\n",
      "Epoch 80/100\n",
      "73/73 - 0s - loss: 0.6061 - accuracy: 0.6701 - val_loss: 0.5867 - val_accuracy: 0.6869\n",
      "Epoch 81/100\n",
      "73/73 - 0s - loss: 0.6041 - accuracy: 0.6744 - val_loss: 0.5865 - val_accuracy: 0.6851\n",
      "Epoch 82/100\n",
      "73/73 - 0s - loss: 0.6046 - accuracy: 0.6722 - val_loss: 0.5866 - val_accuracy: 0.6851\n",
      "Epoch 83/100\n"
     ]
    },
    {
     "name": "stdout",
     "output_type": "stream",
     "text": [
      "73/73 - 0s - loss: 0.6080 - accuracy: 0.6612 - val_loss: 0.5867 - val_accuracy: 0.6869\n",
      "Epoch 84/100\n",
      "73/73 - 0s - loss: 0.6049 - accuracy: 0.6763 - val_loss: 0.5867 - val_accuracy: 0.6851\n",
      "Epoch 85/100\n",
      "73/73 - 0s - loss: 0.6076 - accuracy: 0.6651 - val_loss: 0.5868 - val_accuracy: 0.6886\n",
      "Epoch 86/100\n",
      "73/73 - 0s - loss: 0.6043 - accuracy: 0.6692 - val_loss: 0.5867 - val_accuracy: 0.6869\n",
      "Epoch 87/100\n",
      "73/73 - 0s - loss: 0.6037 - accuracy: 0.6675 - val_loss: 0.5866 - val_accuracy: 0.6869\n",
      "Epoch 88/100\n",
      "73/73 - 0s - loss: 0.6048 - accuracy: 0.6722 - val_loss: 0.5866 - val_accuracy: 0.6851\n",
      "Epoch 89/100\n",
      "73/73 - 0s - loss: 0.6058 - accuracy: 0.6672 - val_loss: 0.5866 - val_accuracy: 0.6851\n",
      "Epoch 90/100\n",
      "73/73 - 0s - loss: 0.6063 - accuracy: 0.6664 - val_loss: 0.5867 - val_accuracy: 0.6869\n",
      "Epoch 91/100\n",
      "73/73 - 0s - loss: 0.6074 - accuracy: 0.6642 - val_loss: 0.5869 - val_accuracy: 0.6851\n",
      "Epoch 92/100\n",
      "73/73 - 0s - loss: 0.6047 - accuracy: 0.6685 - val_loss: 0.5867 - val_accuracy: 0.6851\n",
      "Epoch 93/100\n",
      "73/73 - 0s - loss: 0.6072 - accuracy: 0.6646 - val_loss: 0.5866 - val_accuracy: 0.6851\n",
      "Epoch 94/100\n",
      "73/73 - 0s - loss: 0.6041 - accuracy: 0.6763 - val_loss: 0.5865 - val_accuracy: 0.6851\n",
      "Epoch 95/100\n",
      "73/73 - 0s - loss: 0.6059 - accuracy: 0.6664 - val_loss: 0.5865 - val_accuracy: 0.6851\n",
      "Epoch 96/100\n",
      "73/73 - 0s - loss: 0.6053 - accuracy: 0.6597 - val_loss: 0.5865 - val_accuracy: 0.6851\n",
      "Epoch 97/100\n",
      "73/73 - 0s - loss: 0.6050 - accuracy: 0.6616 - val_loss: 0.5866 - val_accuracy: 0.6851\n",
      "Epoch 98/100\n",
      "73/73 - 0s - loss: 0.6073 - accuracy: 0.6668 - val_loss: 0.5866 - val_accuracy: 0.6851\n",
      "Epoch 99/100\n",
      "73/73 - 0s - loss: 0.6055 - accuracy: 0.6670 - val_loss: 0.5866 - val_accuracy: 0.6851\n",
      "Epoch 100/100\n",
      "73/73 - 0s - loss: 0.6070 - accuracy: 0.6692 - val_loss: 0.5866 - val_accuracy: 0.6851\n"
     ]
    }
   ],
   "source": [
    "#Entrenamos el modelo\n",
    "history = model.fit(train_X, train_y, epochs=epochs, batch_size = batch_size, validation_data=(val_X, val_y), verbose=2)"
   ]
  },
  {
   "cell_type": "code",
   "execution_count": 19,
   "id": "a11fc645",
   "metadata": {},
   "outputs": [
    {
     "data": {
      "image/png": "[encoded data removed]",
      "text/plain": [
       "<Figure size 432x288 with 1 Axes>"
      ]
     },
     "metadata": {
      "needs_background": "light"
     },
     "output_type": "display_data"
    }
   ],
   "source": [
    "#Generamos plot con los resultados\n",
    "plt.plot(history.history['loss'], label='train')\n",
    "plt.plot(history.history['val_loss'], label='validation')\n",
    "plt.legend()\n",
    "plt.show()"
   ]
  },
  {
   "cell_type": "code",
   "execution_count": 20,
   "id": "029916ab",
   "metadata": {},
   "outputs": [
    {
     "data": {
      "image/png": "[encoded data removed]",
      "text/plain": [
       "<Figure size 432x288 with 1 Axes>"
      ]
     },
     "metadata": {
      "needs_background": "light"
     },
     "output_type": "display_data"
    }
   ],
   "source": [
    "#Generamos plot con los resultados\n",
    "plt.plot(history.history['accuracy'], label='train')\n",
    "plt.plot(history.history['val_accuracy'], label='validation')\n",
    "plt.legend()\n",
    "plt.show()"
   ]
  },
  {
   "cell_type": "markdown",
   "id": "8d9e8e96",
   "metadata": {},
   "source": [
    "## Resultados con valores de test"
   ]
  },
  {
   "cell_type": "code",
   "execution_count": 21,
   "id": "abecbb08",
   "metadata": {},
   "outputs": [],
   "source": [
    "# make a prediction\n",
    "yhat = model.predict(test_X)"
   ]
  },
  {
   "cell_type": "code",
   "execution_count": 22,
   "id": "32bf3c80",
   "metadata": {},
   "outputs": [],
   "source": [
    "inv_y, inv_yhat = full_prediction(yhat, test_X, test_y)"
   ]
  },
  {
   "cell_type": "code",
   "execution_count": 23,
   "id": "9a99c255",
   "metadata": {},
   "outputs": [],
   "source": [
    "inv_yhat = scaler.inverse_transform(inv_yhat)\n",
    "inv_y = scaler.inverse_transform(inv_y)\n",
    "\n",
    "\n",
    "inv_yhat_df = pd.DataFrame(data=inv_yhat, columns=cols)\n",
    "inv_y_df = pd.DataFrame(data=inv_y, columns=cols)"
   ]
  },
  {
   "cell_type": "code",
   "execution_count": 24,
   "id": "3e0fdfbc",
   "metadata": {},
   "outputs": [
    {
     "name": "stdout",
     "output_type": "stream",
     "text": [
      "Acierto    388\n",
      "Error      191\n",
      "Name: Diff, dtype: int64\n",
      "\n",
      "% acierto: 0.6701208981001727\n"
     ]
    }
   ],
   "source": [
    "res = result(inv_yhat, inv_y)\n",
    "\n",
    "\n",
    "\n",
    "res['Diff'] = np.where(res['Up_Down_yhat'] == res['Up_Down_y'] , 'Acierto', 'Error')\n",
    "\n",
    "res['Diff'].value_counts()\n",
    "\n",
    "print(res['Diff'].value_counts())\n",
    "print()\n",
    "per = res['Diff'].value_counts()['Acierto']/(res['Diff'].value_counts()['Acierto']+res['Diff'].value_counts()['Error'])\n",
    "print(f'% acierto: {per}')"
   ]
  },
  {
   "cell_type": "code",
   "execution_count": null,
   "id": "6cf7319a",
   "metadata": {},
   "outputs": [],
   "source": []
  }
 ],
 "metadata": {
  "kernelspec": {
   "display_name": "Python 3 (ipykernel)",
   "language": "python",
   "name": "python3"
  },
  "language_info": {
   "codemirror_mode": {
    "name": "ipython",
    "version": 3
   },
   "file_extension": ".py",
   "mimetype": "text/x-python",
   "name": "python",
   "nbconvert_exporter": "python",
   "pygments_lexer": "ipython3",
   "version": "3.8.5"
  }
 },
 "nbformat": 4,
 "nbformat_minor": 5
}
