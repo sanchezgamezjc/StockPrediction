{
 "cells": [
  {
   "cell_type": "code",
   "execution_count": 1,
   "id": "5752236b",
   "metadata": {},
   "outputs": [],
   "source": [
    "import yfinance as yf\n",
    "import datetime as dt\n",
    "import pandas_datareader as pdr\n",
    "import pandas as pd\n",
    "import pandas_ta as pta\n",
    "import matplotlib.pyplot as plt\n",
    "import numpy as np\n",
    "\n",
    "from sklearn.preprocessing import MinMaxScaler\n",
    "from sklearn.model_selection import train_test_split\n",
    "from sklearn.metrics import mean_squared_error\n",
    "\n",
    "from tensorflow.keras import Sequential\n",
    "from tensorflow.keras.layers import Dense\n",
    "from tensorflow.keras.layers import LSTM\n",
    "from tensorflow.keras.layers import Dropout\n",
    "from tensorflow.keras.layers import Conv1D\n",
    "from tensorflow.keras.layers import Conv2D\n",
    "from tensorflow.keras.layers import Flatten\n",
    "from tensorflow.keras.layers import MaxPooling1D\n",
    "\n"
   ]
  },
  {
   "cell_type": "markdown",
   "id": "ffb2c26a",
   "metadata": {},
   "source": [
    "## Descarga datos y creación dataset"
   ]
  },
  {
   "cell_type": "code",
   "execution_count": 2,
   "id": "1ab7bfea",
   "metadata": {},
   "outputs": [],
   "source": [
    "sample_per = 400\n",
    "stock = 'EURGBP=X'\n",
    "\n",
    "end = dt.date.today()- dt.timedelta(days=2)\n",
    "start = end - dt.timedelta(days=(sample_per))\n",
    "interval = '1h'"
   ]
  },
  {
   "cell_type": "code",
   "execution_count": 3,
   "id": "90c3e1a3",
   "metadata": {
    "scrolled": true
   },
   "outputs": [
    {
     "name": "stdout",
     "output_type": "stream",
     "text": [
      "[*********************100%***********************]  1 of 1 completed\n"
     ]
    }
   ],
   "source": [
    "database = yf.download(stock, start=start, end=end, interval=interval)"
   ]
  },
  {
   "cell_type": "code",
   "execution_count": 4,
   "id": "f3212064",
   "metadata": {},
   "outputs": [],
   "source": [
    "#EMA (200,50,20)\n",
    "database['200ema'] = database['Adj Close'].ewm(span=200).mean()\n",
    "database['50ema'] = database['Adj Close'].ewm(span=50, adjust=False).mean()\n",
    "database['20ema'] = database['Adj Close'].ewm(span=20, adjust=False).mean()"
   ]
  },
  {
   "cell_type": "code",
   "execution_count": 5,
   "id": "1a2d4f56",
   "metadata": {},
   "outputs": [
    {
     "data": {
      "text/html": [
       "<div>\n",
       "<style scoped>\n",
       "    .dataframe tbody tr th:only-of-type {\n",
       "        vertical-align: middle;\n",
       "    }\n",
       "\n",
       "    .dataframe tbody tr th {\n",
       "        vertical-align: top;\n",
       "    }\n",
       "\n",
       "    .dataframe thead th {\n",
       "        text-align: right;\n",
       "    }\n",
       "</style>\n",
       "<table border=\"1\" class=\"dataframe\">\n",
       "  <thead>\n",
       "    <tr style=\"text-align: right;\">\n",
       "      <th></th>\n",
       "      <th>Open</th>\n",
       "      <th>High</th>\n",
       "      <th>Low</th>\n",
       "      <th>Close</th>\n",
       "      <th>Adj Close</th>\n",
       "      <th>Volume</th>\n",
       "      <th>200ema</th>\n",
       "      <th>50ema</th>\n",
       "      <th>20ema</th>\n",
       "    </tr>\n",
       "  </thead>\n",
       "  <tbody>\n",
       "    <tr>\n",
       "      <th>2020-07-27 00:00:00+01:00</th>\n",
       "      <td>0.91079</td>\n",
       "      <td>0.91103</td>\n",
       "      <td>0.9101</td>\n",
       "      <td>0.91047</td>\n",
       "      <td>0.91047</td>\n",
       "      <td>0</td>\n",
       "      <td>0.910470</td>\n",
       "      <td>0.910470</td>\n",
       "      <td>0.910470</td>\n",
       "    </tr>\n",
       "    <tr>\n",
       "      <th>2020-07-27 01:00:00+01:00</th>\n",
       "      <td>0.91045</td>\n",
       "      <td>0.91244</td>\n",
       "      <td>0.9101</td>\n",
       "      <td>0.91188</td>\n",
       "      <td>0.91188</td>\n",
       "      <td>0</td>\n",
       "      <td>0.911179</td>\n",
       "      <td>0.910525</td>\n",
       "      <td>0.910604</td>\n",
       "    </tr>\n",
       "    <tr>\n",
       "      <th>2020-07-27 02:00:00+01:00</th>\n",
       "      <td>0.91193</td>\n",
       "      <td>0.91200</td>\n",
       "      <td>0.9109</td>\n",
       "      <td>0.91128</td>\n",
       "      <td>0.91128</td>\n",
       "      <td>0</td>\n",
       "      <td>0.911213</td>\n",
       "      <td>0.910555</td>\n",
       "      <td>0.910669</td>\n",
       "    </tr>\n",
       "    <tr>\n",
       "      <th>2020-07-27 03:00:00+01:00</th>\n",
       "      <td>0.91135</td>\n",
       "      <td>0.91170</td>\n",
       "      <td>0.9105</td>\n",
       "      <td>0.91141</td>\n",
       "      <td>0.91141</td>\n",
       "      <td>0</td>\n",
       "      <td>0.911263</td>\n",
       "      <td>0.910588</td>\n",
       "      <td>0.910739</td>\n",
       "    </tr>\n",
       "    <tr>\n",
       "      <th>2020-07-27 04:00:00+01:00</th>\n",
       "      <td>0.91145</td>\n",
       "      <td>0.91206</td>\n",
       "      <td>0.9112</td>\n",
       "      <td>0.91181</td>\n",
       "      <td>0.91181</td>\n",
       "      <td>0</td>\n",
       "      <td>0.911374</td>\n",
       "      <td>0.910636</td>\n",
       "      <td>0.910841</td>\n",
       "    </tr>\n",
       "  </tbody>\n",
       "</table>\n",
       "</div>"
      ],
      "text/plain": [
       "                              Open     High     Low    Close  Adj Close  \\\n",
       "2020-07-27 00:00:00+01:00  0.91079  0.91103  0.9101  0.91047    0.91047   \n",
       "2020-07-27 01:00:00+01:00  0.91045  0.91244  0.9101  0.91188    0.91188   \n",
       "2020-07-27 02:00:00+01:00  0.91193  0.91200  0.9109  0.91128    0.91128   \n",
       "2020-07-27 03:00:00+01:00  0.91135  0.91170  0.9105  0.91141    0.91141   \n",
       "2020-07-27 04:00:00+01:00  0.91145  0.91206  0.9112  0.91181    0.91181   \n",
       "\n",
       "                           Volume    200ema     50ema     20ema  \n",
       "2020-07-27 00:00:00+01:00       0  0.910470  0.910470  0.910470  \n",
       "2020-07-27 01:00:00+01:00       0  0.911179  0.910525  0.910604  \n",
       "2020-07-27 02:00:00+01:00       0  0.911213  0.910555  0.910669  \n",
       "2020-07-27 03:00:00+01:00       0  0.911263  0.910588  0.910739  \n",
       "2020-07-27 04:00:00+01:00       0  0.911374  0.910636  0.910841  "
      ]
     },
     "execution_count": 5,
     "metadata": {},
     "output_type": "execute_result"
    }
   ],
   "source": [
    "database.head()"
   ]
  },
  {
   "cell_type": "code",
   "execution_count": 6,
   "id": "963765d9",
   "metadata": {
    "scrolled": false
   },
   "outputs": [
    {
     "data": {
      "text/html": [
       "<div>\n",
       "<style scoped>\n",
       "    .dataframe tbody tr th:only-of-type {\n",
       "        vertical-align: middle;\n",
       "    }\n",
       "\n",
       "    .dataframe tbody tr th {\n",
       "        vertical-align: top;\n",
       "    }\n",
       "\n",
       "    .dataframe thead th {\n",
       "        text-align: right;\n",
       "    }\n",
       "</style>\n",
       "<table border=\"1\" class=\"dataframe\">\n",
       "  <thead>\n",
       "    <tr style=\"text-align: right;\">\n",
       "      <th></th>\n",
       "      <th>Adj Close shi</th>\n",
       "      <th>200ema</th>\n",
       "      <th>50ema</th>\n",
       "      <th>20ema</th>\n",
       "    </tr>\n",
       "  </thead>\n",
       "  <tbody>\n",
       "    <tr>\n",
       "      <th>2020-07-27 00:00:00+01:00</th>\n",
       "      <td>0.91188</td>\n",
       "      <td>0.910470</td>\n",
       "      <td>0.910470</td>\n",
       "      <td>0.910470</td>\n",
       "    </tr>\n",
       "    <tr>\n",
       "      <th>2020-07-27 01:00:00+01:00</th>\n",
       "      <td>0.91128</td>\n",
       "      <td>0.911179</td>\n",
       "      <td>0.910525</td>\n",
       "      <td>0.910604</td>\n",
       "    </tr>\n",
       "    <tr>\n",
       "      <th>2020-07-27 02:00:00+01:00</th>\n",
       "      <td>0.91141</td>\n",
       "      <td>0.911213</td>\n",
       "      <td>0.910555</td>\n",
       "      <td>0.910669</td>\n",
       "    </tr>\n",
       "    <tr>\n",
       "      <th>2020-07-27 03:00:00+01:00</th>\n",
       "      <td>0.91181</td>\n",
       "      <td>0.911263</td>\n",
       "      <td>0.910588</td>\n",
       "      <td>0.910739</td>\n",
       "    </tr>\n",
       "    <tr>\n",
       "      <th>2020-07-27 04:00:00+01:00</th>\n",
       "      <td>0.91173</td>\n",
       "      <td>0.911374</td>\n",
       "      <td>0.910636</td>\n",
       "      <td>0.910841</td>\n",
       "    </tr>\n",
       "    <tr>\n",
       "      <th>...</th>\n",
       "      <td>...</td>\n",
       "      <td>...</td>\n",
       "      <td>...</td>\n",
       "      <td>...</td>\n",
       "    </tr>\n",
       "    <tr>\n",
       "      <th>2021-08-27 17:00:00+01:00</th>\n",
       "      <td>0.85672</td>\n",
       "      <td>0.855319</td>\n",
       "      <td>0.857030</td>\n",
       "      <td>0.857309</td>\n",
       "    </tr>\n",
       "    <tr>\n",
       "      <th>2021-08-27 18:00:00+01:00</th>\n",
       "      <td>0.85663</td>\n",
       "      <td>0.855332</td>\n",
       "      <td>0.857018</td>\n",
       "      <td>0.857253</td>\n",
       "    </tr>\n",
       "    <tr>\n",
       "      <th>2021-08-27 19:00:00+01:00</th>\n",
       "      <td>0.85703</td>\n",
       "      <td>0.855345</td>\n",
       "      <td>0.857003</td>\n",
       "      <td>0.857194</td>\n",
       "    </tr>\n",
       "    <tr>\n",
       "      <th>2021-08-27 20:00:00+01:00</th>\n",
       "      <td>0.85625</td>\n",
       "      <td>0.855362</td>\n",
       "      <td>0.857004</td>\n",
       "      <td>0.857178</td>\n",
       "    </tr>\n",
       "    <tr>\n",
       "      <th>2021-08-27 21:00:00+01:00</th>\n",
       "      <td>0.85687</td>\n",
       "      <td>0.855371</td>\n",
       "      <td>0.856974</td>\n",
       "      <td>0.857090</td>\n",
       "    </tr>\n",
       "  </tbody>\n",
       "</table>\n",
       "<p>6756 rows × 4 columns</p>\n",
       "</div>"
      ],
      "text/plain": [
       "                           Adj Close shi    200ema     50ema     20ema\n",
       "2020-07-27 00:00:00+01:00        0.91188  0.910470  0.910470  0.910470\n",
       "2020-07-27 01:00:00+01:00        0.91128  0.911179  0.910525  0.910604\n",
       "2020-07-27 02:00:00+01:00        0.91141  0.911213  0.910555  0.910669\n",
       "2020-07-27 03:00:00+01:00        0.91181  0.911263  0.910588  0.910739\n",
       "2020-07-27 04:00:00+01:00        0.91173  0.911374  0.910636  0.910841\n",
       "...                                  ...       ...       ...       ...\n",
       "2021-08-27 17:00:00+01:00        0.85672  0.855319  0.857030  0.857309\n",
       "2021-08-27 18:00:00+01:00        0.85663  0.855332  0.857018  0.857253\n",
       "2021-08-27 19:00:00+01:00        0.85703  0.855345  0.857003  0.857194\n",
       "2021-08-27 20:00:00+01:00        0.85625  0.855362  0.857004  0.857178\n",
       "2021-08-27 21:00:00+01:00        0.85687  0.855371  0.856974  0.857090\n",
       "\n",
       "[6756 rows x 4 columns]"
      ]
     },
     "execution_count": 6,
     "metadata": {},
     "output_type": "execute_result"
    }
   ],
   "source": [
    "data = database.copy()\n",
    "\n",
    "data['Adj Close shi'] = data['Adj Close'].shift(-1)\n",
    "\n",
    "data = data[['Adj Close shi','200ema','50ema','20ema']]\n",
    "\n",
    "data.dropna(inplace=True)\n",
    "\n",
    "\n",
    "data"
   ]
  },
  {
   "cell_type": "markdown",
   "id": "fa7ec515",
   "metadata": {},
   "source": [
    "## Preparacion datos para el LSTM"
   ]
  },
  {
   "cell_type": "code",
   "execution_count": 7,
   "id": "dfeaca60",
   "metadata": {
    "scrolled": false
   },
   "outputs": [
    {
     "name": "stdout",
     "output_type": "stream",
     "text": [
      "<class 'pandas.core.frame.DataFrame'>\n",
      "DatetimeIndex: 6756 entries, 2020-07-27 00:00:00+01:00 to 2021-08-27 21:00:00+01:00\n",
      "Data columns (total 4 columns):\n",
      " #   Column         Non-Null Count  Dtype  \n",
      "---  ------         --------------  -----  \n",
      " 0   Adj Close shi  6756 non-null   float64\n",
      " 1   200ema         6756 non-null   float64\n",
      " 2   50ema          6756 non-null   float64\n",
      " 3   20ema          6756 non-null   float64\n",
      "dtypes: float64(4)\n",
      "memory usage: 263.9 KB\n"
     ]
    }
   ],
   "source": [
    "data.info()"
   ]
  },
  {
   "cell_type": "code",
   "execution_count": 8,
   "id": "711018d4",
   "metadata": {},
   "outputs": [
    {
     "name": "stdout",
     "output_type": "stream",
     "text": [
      "(5404, 1, 3) (5404,) (676, 1, 3) (676,) (676, 1, 3) (676,)\n"
     ]
    }
   ],
   "source": [
    "#Escalamos los valores con un MinMaxScaler\n",
    "values = data.values\n",
    "\n",
    "scaler = MinMaxScaler(feature_range=(-1, 1))\n",
    "scaled = scaler.fit_transform(values)\n",
    "\n",
    "values = scaled\n",
    "\n",
    "\n",
    "#Dividimos los datos entre train y test\n",
    "train, val = train_test_split(values, test_size=0.2, shuffle=False)\n",
    "\n",
    "#Dividimos datos validation entre validation y test\n",
    "val, test = train_test_split(val, test_size=0.5, shuffle=False)\n",
    "\n",
    "#Separamos los inputs de los outputs\n",
    "train_X, train_y = train[:, 1:], train[:,0]\n",
    "val_X, val_y = val[:, 1:], val[:,0]\n",
    "test_X, test_y = test[:, 1:], test[:, 0]\n",
    "\n",
    "\n",
    "#Generamos el reshape para poder incluir los valores en el modelo LSTM\n",
    "train_X = train_X.reshape((train_X.shape[0], 1, train_X.shape[1]))\n",
    "val_X = val_X.reshape((val_X.shape[0], 1, val_X.shape[1]))\n",
    "test_X = test_X.reshape((test_X.shape[0], 1, test_X.shape[1]))\n",
    "print(train_X.shape, train_y.shape, val_X.shape, val_y.shape, test_X.shape, test_y.shape)"
   ]
  },
  {
   "cell_type": "markdown",
   "id": "6286d484",
   "metadata": {},
   "source": [
    "## Creamos el modelo"
   ]
  },
  {
   "cell_type": "code",
   "execution_count": 9,
   "id": "62280955",
   "metadata": {},
   "outputs": [],
   "source": [
    "#Generamos arquitectura del modelo\n",
    "model = Sequential()\n",
    "\n",
    "model.add(LSTM(64,  return_sequences=True, input_shape=(train_X.shape[1], train_X.shape[2])))\n",
    "model.add(Dropout(0.2))\n",
    "\n",
    "model.add(LSTM(128, activation='tanh', return_sequences=True))\n",
    "model.add(Dropout(0.2))\n",
    "\n",
    "model.add(LSTM(256, activation='tanh', return_sequences=True))\n",
    "model.add(Dropout(0.2))\n",
    "\n",
    "model.add(LSTM(512, activation='tanh', return_sequences=True))\n",
    "model.add(Dropout(0.2))\n",
    "\n",
    "model.add(LSTM(1024, activation='relu', return_sequences=True))\n",
    "model.add(Dropout(0.2))\n",
    "\n",
    "model.add(Dense(1, activation='linear'))\n",
    "\n",
    "model.compile(loss='mse', optimizer='adam')"
   ]
  },
  {
   "cell_type": "code",
   "execution_count": 10,
   "id": "8e870af3",
   "metadata": {},
   "outputs": [
    {
     "name": "stdout",
     "output_type": "stream",
     "text": [
      "Model: \"sequential\"\n",
      "_________________________________________________________________\n",
      "Layer (type)                 Output Shape              Param #   \n",
      "=================================================================\n",
      "lstm (LSTM)                  (None, 1, 64)             17408     \n",
      "_________________________________________________________________\n",
      "dropout (Dropout)            (None, 1, 64)             0         \n",
      "_________________________________________________________________\n",
      "lstm_1 (LSTM)                (None, 1, 128)            98816     \n",
      "_________________________________________________________________\n",
      "dropout_1 (Dropout)          (None, 1, 128)            0         \n",
      "_________________________________________________________________\n",
      "lstm_2 (LSTM)                (None, 1, 256)            394240    \n",
      "_________________________________________________________________\n",
      "dropout_2 (Dropout)          (None, 1, 256)            0         \n",
      "_________________________________________________________________\n",
      "lstm_3 (LSTM)                (None, 1, 512)            1574912   \n",
      "_________________________________________________________________\n",
      "dropout_3 (Dropout)          (None, 1, 512)            0         \n",
      "_________________________________________________________________\n",
      "lstm_4 (LSTM)                (None, 1, 1024)           6295552   \n",
      "_________________________________________________________________\n",
      "dropout_4 (Dropout)          (None, 1, 1024)           0         \n",
      "_________________________________________________________________\n",
      "dense (Dense)                (None, 1, 1)              1025      \n",
      "=================================================================\n",
      "Total params: 8,381,953\n",
      "Trainable params: 8,381,953\n",
      "Non-trainable params: 0\n",
      "_________________________________________________________________\n"
     ]
    }
   ],
   "source": [
    "model.summary()"
   ]
  },
  {
   "cell_type": "code",
   "execution_count": 11,
   "id": "c738d78b",
   "metadata": {
    "scrolled": false
   },
   "outputs": [
    {
     "name": "stdout",
     "output_type": "stream",
     "text": [
      "Epoch 1/15\n",
      "6/6 [==============================] - 9s 498ms/step - loss: 0.2560 - val_loss: 0.5394\n",
      "Epoch 2/15\n",
      "6/6 [==============================] - 1s 233ms/step - loss: 0.2482 - val_loss: 0.5299\n",
      "Epoch 3/15\n",
      "6/6 [==============================] - 1s 229ms/step - loss: 0.2472 - val_loss: 0.5177\n",
      "Epoch 4/15\n",
      "6/6 [==============================] - 1s 242ms/step - loss: 0.2469 - val_loss: 0.5155\n",
      "Epoch 5/15\n",
      "6/6 [==============================] - 1s 228ms/step - loss: 0.2436 - val_loss: 0.5141\n",
      "Epoch 6/15\n",
      "6/6 [==============================] - 1s 229ms/step - loss: 0.2166 - val_loss: 0.5120\n",
      "Epoch 7/15\n",
      "6/6 [==============================] - 1s 228ms/step - loss: 0.1575 - val_loss: 0.4815\n",
      "Epoch 8/15\n",
      "6/6 [==============================] - 1s 227ms/step - loss: 0.1443 - val_loss: 0.3485\n",
      "Epoch 9/15\n",
      "6/6 [==============================] - 1s 244ms/step - loss: 0.0725 - val_loss: 0.0123\n",
      "Epoch 10/15\n",
      "6/6 [==============================] - 1s 230ms/step - loss: 0.0912 - val_loss: 0.0164\n",
      "Epoch 11/15\n",
      "6/6 [==============================] - 1s 227ms/step - loss: 0.0288 - val_loss: 0.1243\n",
      "Epoch 12/15\n",
      "6/6 [==============================] - 1s 228ms/step - loss: 0.0463 - val_loss: 0.1221\n",
      "Epoch 13/15\n",
      "6/6 [==============================] - 1s 229ms/step - loss: 0.0246 - val_loss: 0.0321\n",
      "Epoch 14/15\n",
      "6/6 [==============================] - 1s 230ms/step - loss: 0.0077 - val_loss: 0.0043\n",
      "Epoch 15/15\n",
      "6/6 [==============================] - 1s 228ms/step - loss: 0.0139 - val_loss: 0.0063\n"
     ]
    }
   ],
   "source": [
    "#Entrenamos el modelo\n",
    "history = model.fit(train_X, train_y, epochs=15, batch_size = 1024, validation_data=(val_X, val_y), verbose=1, shuffle=False)"
   ]
  },
  {
   "cell_type": "code",
   "execution_count": 12,
   "id": "a11fc645",
   "metadata": {},
   "outputs": [
    {
     "data": {
      "image/png": "[encoded data removed]",
      "text/plain": [
       "<Figure size 432x288 with 1 Axes>"
      ]
     },
     "metadata": {
      "needs_background": "light"
     },
     "output_type": "display_data"
    }
   ],
   "source": [
    "#Generamos plot con los resultados\n",
    "plt.plot(history.history['loss'], label='train')\n",
    "plt.plot(history.history['val_loss'], label='test')\n",
    "plt.legend()\n",
    "plt.show()"
   ]
  },
  {
   "cell_type": "markdown",
   "id": "8d9e8e96",
   "metadata": {},
   "source": [
    "## Resultados con valores de test"
   ]
  },
  {
   "cell_type": "code",
   "execution_count": 13,
   "id": "abecbb08",
   "metadata": {},
   "outputs": [],
   "source": [
    "# make a prediction\n",
    "yhat = model.predict(test_X)"
   ]
  },
  {
   "cell_type": "code",
   "execution_count": 14,
   "id": "d1f09e01",
   "metadata": {},
   "outputs": [],
   "source": [
    "yhat_re = yhat.reshape((yhat.shape[0], yhat.shape[1]))\n",
    "\n",
    "test_X_re = test_X.reshape((test_X.shape[0], test_X.shape[2]))\n",
    "\n",
    "inv_yhat = np.concatenate((yhat_re, test_X_re), axis=1)\n",
    "\n",
    "inv_yhat = scaler.inverse_transform(inv_yhat)\n",
    "\n",
    "inv_yhat = inv_yhat[:,0]"
   ]
  },
  {
   "cell_type": "code",
   "execution_count": 15,
   "id": "e1e0c97c",
   "metadata": {},
   "outputs": [],
   "source": [
    "test_y_re = test_y.reshape((len(test_y), 1))\n",
    "\n",
    "inv_y = np.concatenate((test_y_re, test_X_re), axis=1)\n",
    "\n",
    "inv_y = scaler.inverse_transform(inv_y)\n",
    "\n",
    "inv_y = inv_y[:,0]"
   ]
  },
  {
   "cell_type": "code",
   "execution_count": 16,
   "id": "51237586",
   "metadata": {},
   "outputs": [
    {
     "name": "stdout",
     "output_type": "stream",
     "text": [
      "Test RMSE: 0.003\n"
     ]
    }
   ],
   "source": [
    "rmse = np.sqrt(mean_squared_error(inv_y, inv_yhat))\n",
    "print('Test RMSE: %.3f' % rmse)"
   ]
  },
  {
   "cell_type": "code",
   "execution_count": 17,
   "id": "ca86e769",
   "metadata": {},
   "outputs": [
    {
     "data": {
      "text/plain": [
       "-1    344\n",
       " 1    332\n",
       "Name: Up_Down, dtype: int64"
      ]
     },
     "execution_count": 17,
     "metadata": {},
     "output_type": "execute_result"
    }
   ],
   "source": [
    "res = pd.DataFrame({'yhat':inv_yhat, 'y':inv_y})\n",
    "\n",
    "res['yhat_log'] = res['yhat'].pct_change()\n",
    "res['y_log'] = res['y'].pct_change()\n",
    "\n",
    "res['res'] = res['yhat_log']*res['y_log']\n",
    "\n",
    "lista =[]\n",
    "for index, row in res.iterrows():\n",
    "    if row['res'] > 0:\n",
    "        lista.append(1)\n",
    "    else:\n",
    "        lista.append(-1)\n",
    "\n",
    "serie = pd.Series(lista, index = res.index)\n",
    "\n",
    "res['Up_Down'] = serie\n",
    "\n",
    "res['Up_Down'].value_counts()"
   ]
  },
  {
   "cell_type": "markdown",
   "id": "7f4ac85f",
   "metadata": {},
   "source": [
    "## Resultados con todos los valores"
   ]
  },
  {
   "cell_type": "code",
   "execution_count": 18,
   "id": "9a99c255",
   "metadata": {},
   "outputs": [],
   "source": [
    "values_X, values_y = values[:, 1:], values[:,0]\n",
    "\n",
    "values_X = values_X.reshape((values_X.shape[0], 1, values_X.shape[1]))"
   ]
  },
  {
   "cell_type": "code",
   "execution_count": 19,
   "id": "f9aaa6a4",
   "metadata": {},
   "outputs": [],
   "source": [
    "# make a prediction\n",
    "yhat = model.predict(values_X)"
   ]
  },
  {
   "cell_type": "code",
   "execution_count": 20,
   "id": "a13f5b72",
   "metadata": {},
   "outputs": [],
   "source": [
    "yhat_re = yhat.reshape((yhat.shape[0], yhat.shape[1]))\n",
    "\n",
    "values_X_re = values_X.reshape((values_X.shape[0], values_X.shape[2]))\n",
    "\n",
    "inv_yhat = np.concatenate((yhat_re, values_X_re), axis=1)\n",
    "\n",
    "inv_yhat = scaler.inverse_transform(inv_yhat)\n",
    "\n",
    "inv_yhat = inv_yhat[:,0]"
   ]
  },
  {
   "cell_type": "code",
   "execution_count": 21,
   "id": "9ac26c0d",
   "metadata": {},
   "outputs": [],
   "source": [
    "values_y_re = values_y.reshape((len(values_y), 1))\n",
    "\n",
    "inv_y = np.concatenate((values_y_re, values_X_re), axis=1)\n",
    "\n",
    "inv_y = scaler.inverse_transform(inv_y)\n",
    "\n",
    "inv_y = inv_y[:,0]"
   ]
  },
  {
   "cell_type": "code",
   "execution_count": 22,
   "id": "5c0259a5",
   "metadata": {},
   "outputs": [
    {
     "name": "stdout",
     "output_type": "stream",
     "text": [
      "Test RMSE: 0.004\n"
     ]
    }
   ],
   "source": [
    "rmse = np.sqrt(mean_squared_error(inv_y, inv_yhat))\n",
    "print('Test RMSE: %.3f' % rmse)"
   ]
  },
  {
   "cell_type": "code",
   "execution_count": 23,
   "id": "038fcf6a",
   "metadata": {
    "scrolled": true
   },
   "outputs": [
    {
     "name": "stdout",
     "output_type": "stream",
     "text": [
      "-1    3525\n",
      " 1    3231\n",
      "Name: Up_Down, dtype: int64\n",
      "\n",
      "% acierto: 0.47824156305506216\n"
     ]
    }
   ],
   "source": [
    "res = pd.DataFrame({'yhat':inv_yhat, 'y':inv_y})\n",
    "\n",
    "res['yhat_log'] = res['yhat'].pct_change()\n",
    "res['y_log'] = res['y'].pct_change()\n",
    "\n",
    "res['res'] = res['yhat_log']*res['y_log']\n",
    "\n",
    "lista =[]\n",
    "for index, row in res.iterrows():\n",
    "    if row['res'] > 0:\n",
    "        lista.append(1)\n",
    "    else:\n",
    "        lista.append(-1)\n",
    "\n",
    "serie = pd.Series(lista, index = res.index)\n",
    "\n",
    "res['Up_Down'] = serie\n",
    "\n",
    "print(res['Up_Down'].value_counts())\n",
    "print()\n",
    "per = res['Up_Down'].value_counts()[1]/(res['Up_Down'].value_counts()[1]+res['Up_Down'].value_counts()[-1])\n",
    "print(f'% acierto: {per}')"
   ]
  },
  {
   "cell_type": "code",
   "execution_count": 24,
   "id": "9fbb1e6f",
   "metadata": {},
   "outputs": [
    {
     "data": {
      "text/html": [
       "<div>\n",
       "<style scoped>\n",
       "    .dataframe tbody tr th:only-of-type {\n",
       "        vertical-align: middle;\n",
       "    }\n",
       "\n",
       "    .dataframe tbody tr th {\n",
       "        vertical-align: top;\n",
       "    }\n",
       "\n",
       "    .dataframe thead th {\n",
       "        text-align: right;\n",
       "    }\n",
       "</style>\n",
       "<table border=\"1\" class=\"dataframe\">\n",
       "  <thead>\n",
       "    <tr style=\"text-align: right;\">\n",
       "      <th></th>\n",
       "      <th>Adj Close shi</th>\n",
       "      <th>200ema</th>\n",
       "      <th>50ema</th>\n",
       "      <th>20ema</th>\n",
       "    </tr>\n",
       "  </thead>\n",
       "  <tbody>\n",
       "    <tr>\n",
       "      <th>2020-07-27 00:00:00+01:00</th>\n",
       "      <td>0.91188</td>\n",
       "      <td>0.910470</td>\n",
       "      <td>0.910470</td>\n",
       "      <td>0.910470</td>\n",
       "    </tr>\n",
       "    <tr>\n",
       "      <th>2020-07-27 01:00:00+01:00</th>\n",
       "      <td>0.91128</td>\n",
       "      <td>0.911179</td>\n",
       "      <td>0.910525</td>\n",
       "      <td>0.910604</td>\n",
       "    </tr>\n",
       "    <tr>\n",
       "      <th>2020-07-27 02:00:00+01:00</th>\n",
       "      <td>0.91141</td>\n",
       "      <td>0.911213</td>\n",
       "      <td>0.910555</td>\n",
       "      <td>0.910669</td>\n",
       "    </tr>\n",
       "    <tr>\n",
       "      <th>2020-07-27 03:00:00+01:00</th>\n",
       "      <td>0.91181</td>\n",
       "      <td>0.911263</td>\n",
       "      <td>0.910588</td>\n",
       "      <td>0.910739</td>\n",
       "    </tr>\n",
       "    <tr>\n",
       "      <th>2020-07-27 04:00:00+01:00</th>\n",
       "      <td>0.91173</td>\n",
       "      <td>0.911374</td>\n",
       "      <td>0.910636</td>\n",
       "      <td>0.910841</td>\n",
       "    </tr>\n",
       "    <tr>\n",
       "      <th>...</th>\n",
       "      <td>...</td>\n",
       "      <td>...</td>\n",
       "      <td>...</td>\n",
       "      <td>...</td>\n",
       "    </tr>\n",
       "    <tr>\n",
       "      <th>2021-08-27 17:00:00+01:00</th>\n",
       "      <td>0.85672</td>\n",
       "      <td>0.855319</td>\n",
       "      <td>0.857030</td>\n",
       "      <td>0.857309</td>\n",
       "    </tr>\n",
       "    <tr>\n",
       "      <th>2021-08-27 18:00:00+01:00</th>\n",
       "      <td>0.85663</td>\n",
       "      <td>0.855332</td>\n",
       "      <td>0.857018</td>\n",
       "      <td>0.857253</td>\n",
       "    </tr>\n",
       "    <tr>\n",
       "      <th>2021-08-27 19:00:00+01:00</th>\n",
       "      <td>0.85703</td>\n",
       "      <td>0.855345</td>\n",
       "      <td>0.857003</td>\n",
       "      <td>0.857194</td>\n",
       "    </tr>\n",
       "    <tr>\n",
       "      <th>2021-08-27 20:00:00+01:00</th>\n",
       "      <td>0.85625</td>\n",
       "      <td>0.855362</td>\n",
       "      <td>0.857004</td>\n",
       "      <td>0.857178</td>\n",
       "    </tr>\n",
       "    <tr>\n",
       "      <th>2021-08-27 21:00:00+01:00</th>\n",
       "      <td>0.85687</td>\n",
       "      <td>0.855371</td>\n",
       "      <td>0.856974</td>\n",
       "      <td>0.857090</td>\n",
       "    </tr>\n",
       "  </tbody>\n",
       "</table>\n",
       "<p>6756 rows × 4 columns</p>\n",
       "</div>"
      ],
      "text/plain": [
       "                           Adj Close shi    200ema     50ema     20ema\n",
       "2020-07-27 00:00:00+01:00        0.91188  0.910470  0.910470  0.910470\n",
       "2020-07-27 01:00:00+01:00        0.91128  0.911179  0.910525  0.910604\n",
       "2020-07-27 02:00:00+01:00        0.91141  0.911213  0.910555  0.910669\n",
       "2020-07-27 03:00:00+01:00        0.91181  0.911263  0.910588  0.910739\n",
       "2020-07-27 04:00:00+01:00        0.91173  0.911374  0.910636  0.910841\n",
       "...                                  ...       ...       ...       ...\n",
       "2021-08-27 17:00:00+01:00        0.85672  0.855319  0.857030  0.857309\n",
       "2021-08-27 18:00:00+01:00        0.85663  0.855332  0.857018  0.857253\n",
       "2021-08-27 19:00:00+01:00        0.85703  0.855345  0.857003  0.857194\n",
       "2021-08-27 20:00:00+01:00        0.85625  0.855362  0.857004  0.857178\n",
       "2021-08-27 21:00:00+01:00        0.85687  0.855371  0.856974  0.857090\n",
       "\n",
       "[6756 rows x 4 columns]"
      ]
     },
     "execution_count": 24,
     "metadata": {},
     "output_type": "execute_result"
    }
   ],
   "source": [
    "data"
   ]
  },
  {
   "cell_type": "code",
   "execution_count": 30,
   "id": "3d7b565c",
   "metadata": {},
   "outputs": [],
   "source": [
    "data2 = data[['200ema','50ema','20ema']]\n",
    "data2['Adj Close shi'] = inv_yhat.reshape(inv_yhat.shape[0],1)"
   ]
  },
  {
   "cell_type": "code",
   "execution_count": 31,
   "id": "39b36e7a",
   "metadata": {},
   "outputs": [
    {
     "data": {
      "text/html": [
       "<div>\n",
       "<style scoped>\n",
       "    .dataframe tbody tr th:only-of-type {\n",
       "        vertical-align: middle;\n",
       "    }\n",
       "\n",
       "    .dataframe tbody tr th {\n",
       "        vertical-align: top;\n",
       "    }\n",
       "\n",
       "    .dataframe thead th {\n",
       "        text-align: right;\n",
       "    }\n",
       "</style>\n",
       "<table border=\"1\" class=\"dataframe\">\n",
       "  <thead>\n",
       "    <tr style=\"text-align: right;\">\n",
       "      <th></th>\n",
       "      <th>200ema</th>\n",
       "      <th>50ema</th>\n",
       "      <th>20ema</th>\n",
       "      <th>Adj Close shi</th>\n",
       "    </tr>\n",
       "  </thead>\n",
       "  <tbody>\n",
       "    <tr>\n",
       "      <th>2020-07-27 00:00:00+01:00</th>\n",
       "      <td>0.910470</td>\n",
       "      <td>0.910470</td>\n",
       "      <td>0.910470</td>\n",
       "      <td>0.908934</td>\n",
       "    </tr>\n",
       "    <tr>\n",
       "      <th>2020-07-27 01:00:00+01:00</th>\n",
       "      <td>0.911179</td>\n",
       "      <td>0.910525</td>\n",
       "      <td>0.910604</td>\n",
       "      <td>0.909206</td>\n",
       "    </tr>\n",
       "    <tr>\n",
       "      <th>2020-07-27 02:00:00+01:00</th>\n",
       "      <td>0.911213</td>\n",
       "      <td>0.910555</td>\n",
       "      <td>0.910669</td>\n",
       "      <td>0.909251</td>\n",
       "    </tr>\n",
       "    <tr>\n",
       "      <th>2020-07-27 03:00:00+01:00</th>\n",
       "      <td>0.911263</td>\n",
       "      <td>0.910588</td>\n",
       "      <td>0.910739</td>\n",
       "      <td>0.909305</td>\n",
       "    </tr>\n",
       "    <tr>\n",
       "      <th>2020-07-27 04:00:00+01:00</th>\n",
       "      <td>0.911374</td>\n",
       "      <td>0.910636</td>\n",
       "      <td>0.910841</td>\n",
       "      <td>0.909393</td>\n",
       "    </tr>\n",
       "    <tr>\n",
       "      <th>...</th>\n",
       "      <td>...</td>\n",
       "      <td>...</td>\n",
       "      <td>...</td>\n",
       "      <td>...</td>\n",
       "    </tr>\n",
       "    <tr>\n",
       "      <th>2021-08-27 17:00:00+01:00</th>\n",
       "      <td>0.855319</td>\n",
       "      <td>0.857030</td>\n",
       "      <td>0.857309</td>\n",
       "      <td>0.854017</td>\n",
       "    </tr>\n",
       "    <tr>\n",
       "      <th>2021-08-27 18:00:00+01:00</th>\n",
       "      <td>0.855332</td>\n",
       "      <td>0.857018</td>\n",
       "      <td>0.857253</td>\n",
       "      <td>0.854000</td>\n",
       "    </tr>\n",
       "    <tr>\n",
       "      <th>2021-08-27 19:00:00+01:00</th>\n",
       "      <td>0.855345</td>\n",
       "      <td>0.857003</td>\n",
       "      <td>0.857194</td>\n",
       "      <td>0.853982</td>\n",
       "    </tr>\n",
       "    <tr>\n",
       "      <th>2021-08-27 20:00:00+01:00</th>\n",
       "      <td>0.855362</td>\n",
       "      <td>0.857004</td>\n",
       "      <td>0.857178</td>\n",
       "      <td>0.853981</td>\n",
       "    </tr>\n",
       "    <tr>\n",
       "      <th>2021-08-27 21:00:00+01:00</th>\n",
       "      <td>0.855371</td>\n",
       "      <td>0.856974</td>\n",
       "      <td>0.857090</td>\n",
       "      <td>0.853950</td>\n",
       "    </tr>\n",
       "  </tbody>\n",
       "</table>\n",
       "<p>6756 rows × 4 columns</p>\n",
       "</div>"
      ],
      "text/plain": [
       "                             200ema     50ema     20ema  Adj Close shi\n",
       "2020-07-27 00:00:00+01:00  0.910470  0.910470  0.910470       0.908934\n",
       "2020-07-27 01:00:00+01:00  0.911179  0.910525  0.910604       0.909206\n",
       "2020-07-27 02:00:00+01:00  0.911213  0.910555  0.910669       0.909251\n",
       "2020-07-27 03:00:00+01:00  0.911263  0.910588  0.910739       0.909305\n",
       "2020-07-27 04:00:00+01:00  0.911374  0.910636  0.910841       0.909393\n",
       "...                             ...       ...       ...            ...\n",
       "2021-08-27 17:00:00+01:00  0.855319  0.857030  0.857309       0.854017\n",
       "2021-08-27 18:00:00+01:00  0.855332  0.857018  0.857253       0.854000\n",
       "2021-08-27 19:00:00+01:00  0.855345  0.857003  0.857194       0.853982\n",
       "2021-08-27 20:00:00+01:00  0.855362  0.857004  0.857178       0.853981\n",
       "2021-08-27 21:00:00+01:00  0.855371  0.856974  0.857090       0.853950\n",
       "\n",
       "[6756 rows x 4 columns]"
      ]
     },
     "execution_count": 31,
     "metadata": {},
     "output_type": "execute_result"
    }
   ],
   "source": [
    "data2"
   ]
  },
  {
   "cell_type": "code",
   "execution_count": 27,
   "id": "5f18da1d",
   "metadata": {},
   "outputs": [
    {
     "data": {
      "text/html": [
       "<div>\n",
       "<style scoped>\n",
       "    .dataframe tbody tr th:only-of-type {\n",
       "        vertical-align: middle;\n",
       "    }\n",
       "\n",
       "    .dataframe tbody tr th {\n",
       "        vertical-align: top;\n",
       "    }\n",
       "\n",
       "    .dataframe thead th {\n",
       "        text-align: right;\n",
       "    }\n",
       "</style>\n",
       "<table border=\"1\" class=\"dataframe\">\n",
       "  <thead>\n",
       "    <tr style=\"text-align: right;\">\n",
       "      <th></th>\n",
       "      <th>Adj Close shi</th>\n",
       "      <th>200ema</th>\n",
       "      <th>50ema</th>\n",
       "      <th>20ema</th>\n",
       "    </tr>\n",
       "  </thead>\n",
       "  <tbody>\n",
       "    <tr>\n",
       "      <th>2020-07-27 00:00:00+01:00</th>\n",
       "      <td>0.91188</td>\n",
       "      <td>0.910470</td>\n",
       "      <td>0.910470</td>\n",
       "      <td>0.910470</td>\n",
       "    </tr>\n",
       "    <tr>\n",
       "      <th>2020-07-27 01:00:00+01:00</th>\n",
       "      <td>0.91128</td>\n",
       "      <td>0.911179</td>\n",
       "      <td>0.910525</td>\n",
       "      <td>0.910604</td>\n",
       "    </tr>\n",
       "    <tr>\n",
       "      <th>2020-07-27 02:00:00+01:00</th>\n",
       "      <td>0.91141</td>\n",
       "      <td>0.911213</td>\n",
       "      <td>0.910555</td>\n",
       "      <td>0.910669</td>\n",
       "    </tr>\n",
       "    <tr>\n",
       "      <th>2020-07-27 03:00:00+01:00</th>\n",
       "      <td>0.91181</td>\n",
       "      <td>0.911263</td>\n",
       "      <td>0.910588</td>\n",
       "      <td>0.910739</td>\n",
       "    </tr>\n",
       "    <tr>\n",
       "      <th>2020-07-27 04:00:00+01:00</th>\n",
       "      <td>0.91173</td>\n",
       "      <td>0.911374</td>\n",
       "      <td>0.910636</td>\n",
       "      <td>0.910841</td>\n",
       "    </tr>\n",
       "    <tr>\n",
       "      <th>...</th>\n",
       "      <td>...</td>\n",
       "      <td>...</td>\n",
       "      <td>...</td>\n",
       "      <td>...</td>\n",
       "    </tr>\n",
       "    <tr>\n",
       "      <th>2021-08-27 17:00:00+01:00</th>\n",
       "      <td>0.85672</td>\n",
       "      <td>0.855319</td>\n",
       "      <td>0.857030</td>\n",
       "      <td>0.857309</td>\n",
       "    </tr>\n",
       "    <tr>\n",
       "      <th>2021-08-27 18:00:00+01:00</th>\n",
       "      <td>0.85663</td>\n",
       "      <td>0.855332</td>\n",
       "      <td>0.857018</td>\n",
       "      <td>0.857253</td>\n",
       "    </tr>\n",
       "    <tr>\n",
       "      <th>2021-08-27 19:00:00+01:00</th>\n",
       "      <td>0.85703</td>\n",
       "      <td>0.855345</td>\n",
       "      <td>0.857003</td>\n",
       "      <td>0.857194</td>\n",
       "    </tr>\n",
       "    <tr>\n",
       "      <th>2021-08-27 20:00:00+01:00</th>\n",
       "      <td>0.85625</td>\n",
       "      <td>0.855362</td>\n",
       "      <td>0.857004</td>\n",
       "      <td>0.857178</td>\n",
       "    </tr>\n",
       "    <tr>\n",
       "      <th>2021-08-27 21:00:00+01:00</th>\n",
       "      <td>0.85687</td>\n",
       "      <td>0.855371</td>\n",
       "      <td>0.856974</td>\n",
       "      <td>0.857090</td>\n",
       "    </tr>\n",
       "  </tbody>\n",
       "</table>\n",
       "<p>6756 rows × 4 columns</p>\n",
       "</div>"
      ],
      "text/plain": [
       "                           Adj Close shi    200ema     50ema     20ema\n",
       "2020-07-27 00:00:00+01:00        0.91188  0.910470  0.910470  0.910470\n",
       "2020-07-27 01:00:00+01:00        0.91128  0.911179  0.910525  0.910604\n",
       "2020-07-27 02:00:00+01:00        0.91141  0.911213  0.910555  0.910669\n",
       "2020-07-27 03:00:00+01:00        0.91181  0.911263  0.910588  0.910739\n",
       "2020-07-27 04:00:00+01:00        0.91173  0.911374  0.910636  0.910841\n",
       "...                                  ...       ...       ...       ...\n",
       "2021-08-27 17:00:00+01:00        0.85672  0.855319  0.857030  0.857309\n",
       "2021-08-27 18:00:00+01:00        0.85663  0.855332  0.857018  0.857253\n",
       "2021-08-27 19:00:00+01:00        0.85703  0.855345  0.857003  0.857194\n",
       "2021-08-27 20:00:00+01:00        0.85625  0.855362  0.857004  0.857178\n",
       "2021-08-27 21:00:00+01:00        0.85687  0.855371  0.856974  0.857090\n",
       "\n",
       "[6756 rows x 4 columns]"
      ]
     },
     "execution_count": 27,
     "metadata": {},
     "output_type": "execute_result"
    }
   ],
   "source": [
    "data"
   ]
  },
  {
   "cell_type": "code",
   "execution_count": null,
   "id": "ad4d99e1",
   "metadata": {},
   "outputs": [],
   "source": []
  }
 ],
 "metadata": {
  "kernelspec": {
   "display_name": "Python 3 (ipykernel)",
   "language": "python",
   "name": "python3"
  },
  "language_info": {
   "codemirror_mode": {
    "name": "ipython",
    "version": 3
   },
   "file_extension": ".py",
   "mimetype": "text/x-python",
   "name": "python",
   "nbconvert_exporter": "python",
   "pygments_lexer": "ipython3",
   "version": "3.8.5"
  }
 },
 "nbformat": 4,
 "nbformat_minor": 5
}
